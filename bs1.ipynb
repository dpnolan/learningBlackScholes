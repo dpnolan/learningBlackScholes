{
 "cells": [
  {
   "cell_type": "code",
   "execution_count": 127,
   "metadata": {},
   "outputs": [
    {
     "data": {
      "text/plain": [
       "'1.14.3'"
      ]
     },
     "execution_count": 127,
     "metadata": {},
     "output_type": "execute_result"
    }
   ],
   "source": [
    "import numpy as np\n",
    "np.__version__"
   ]
  },
  {
   "cell_type": "code",
   "execution_count": 128,
   "metadata": {},
   "outputs": [
    {
     "data": {
      "text/plain": [
       "'0.23.0'"
      ]
     },
     "execution_count": 128,
     "metadata": {},
     "output_type": "execute_result"
    }
   ],
   "source": [
    "import pandas as pd\n",
    "pd.__version__"
   ]
  },
  {
   "cell_type": "code",
   "execution_count": 266,
   "metadata": {},
   "outputs": [],
   "source": [
    "import matplotlib\n",
    "import matplotlib.pyplot as plt"
   ]
  },
  {
   "cell_type": "code",
   "execution_count": 129,
   "metadata": {},
   "outputs": [],
   "source": [
    "S=42"
   ]
  },
  {
   "cell_type": "code",
   "execution_count": 130,
   "metadata": {},
   "outputs": [],
   "source": [
    "X=40"
   ]
  },
  {
   "cell_type": "code",
   "execution_count": 131,
   "metadata": {},
   "outputs": [],
   "source": [
    "r=0.1"
   ]
  },
  {
   "cell_type": "code",
   "execution_count": 132,
   "metadata": {},
   "outputs": [],
   "source": [
    "sigma=0.2"
   ]
  },
  {
   "cell_type": "code",
   "execution_count": 133,
   "metadata": {},
   "outputs": [],
   "source": [
    "T=0.5"
   ]
  },
  {
   "cell_type": "code",
   "execution_count": 134,
   "metadata": {},
   "outputs": [],
   "source": [
    "d1=  (np.log(S/X)  +   (r+(np.square(sigma)/2) )* T )  / (sigma*np.sqrt(T))  "
   ]
  },
  {
   "cell_type": "code",
   "execution_count": 135,
   "metadata": {},
   "outputs": [
    {
     "data": {
      "text/plain": [
       "0.7692626281060315"
      ]
     },
     "execution_count": 135,
     "metadata": {},
     "output_type": "execute_result"
    }
   ],
   "source": [
    "d1"
   ]
  },
  {
   "cell_type": "code",
   "execution_count": 136,
   "metadata": {},
   "outputs": [],
   "source": [
    "d2 = (np.log(S/X)  +   (r - (np.square(sigma)/2) )* T )  / (sigma*np.sqrt(T))  "
   ]
  },
  {
   "cell_type": "code",
   "execution_count": 137,
   "metadata": {},
   "outputs": [
    {
     "data": {
      "text/plain": [
       "0.6278412718687221"
      ]
     },
     "execution_count": 137,
     "metadata": {},
     "output_type": "execute_result"
    }
   ],
   "source": [
    "d2"
   ]
  },
  {
   "cell_type": "code",
   "execution_count": 138,
   "metadata": {},
   "outputs": [],
   "source": [
    "d2 = d1 - (sigma * np.sqrt(T) )"
   ]
  },
  {
   "cell_type": "code",
   "execution_count": 139,
   "metadata": {},
   "outputs": [
    {
     "data": {
      "text/plain": [
       "0.627841271868722"
      ]
     },
     "execution_count": 139,
     "metadata": {},
     "output_type": "execute_result"
    }
   ],
   "source": [
    "d2"
   ]
  },
  {
   "cell_type": "code",
   "execution_count": 150,
   "metadata": {},
   "outputs": [],
   "source": [
    "def cnd(x):\n",
    "    k=1/(1+(0.2316419*x))\n",
    "    a_one=0.319381530\n",
    "    a_two=-0.356563782\n",
    "    a_three=1.781477937\n",
    "    a_four=-1.821255978\n",
    "    a_five=1.330274429\n",
    "    \n",
    "    if (x>=0):\n",
    "        return 1 - ( nx(x)*(a_one*k+a_two*np.square(k)+a_three*np.power(k,3)+a_four*np.power(k,4)+a_five*np.power(k,5)) )\n",
    "    else:\n",
    "        return 1 - cnd(-x)\n",
    "    "
   ]
  },
  {
   "cell_type": "code",
   "execution_count": 151,
   "metadata": {},
   "outputs": [],
   "source": [
    "def nx(y):\n",
    "    return (1/np.sqrt(2*np.pi)) * np.exp(-np.square(y)/2 )"
   ]
  },
  {
   "cell_type": "code",
   "execution_count": 152,
   "metadata": {},
   "outputs": [
    {
     "data": {
      "text/plain": [
       "0.7692626281060315"
      ]
     },
     "execution_count": 152,
     "metadata": {},
     "output_type": "execute_result"
    }
   ],
   "source": [
    "d1"
   ]
  },
  {
   "cell_type": "code",
   "execution_count": 153,
   "metadata": {},
   "outputs": [
    {
     "data": {
      "text/plain": [
       "0.7791313615485037"
      ]
     },
     "execution_count": 153,
     "metadata": {},
     "output_type": "execute_result"
    }
   ],
   "source": [
    "cnd(d1)"
   ]
  },
  {
   "cell_type": "code",
   "execution_count": 154,
   "metadata": {},
   "outputs": [
    {
     "data": {
      "text/plain": [
       "0.7349460989021361"
      ]
     },
     "execution_count": 154,
     "metadata": {},
     "output_type": "execute_result"
    }
   ],
   "source": [
    "cnd(d2)"
   ]
  },
  {
   "cell_type": "code",
   "execution_count": 155,
   "metadata": {},
   "outputs": [
    {
     "data": {
      "text/plain": [
       "0.2208686384514963"
      ]
     },
     "execution_count": 155,
     "metadata": {},
     "output_type": "execute_result"
    }
   ],
   "source": [
    "cnd(-d1)\n"
   ]
  },
  {
   "cell_type": "code",
   "execution_count": 156,
   "metadata": {},
   "outputs": [
    {
     "data": {
      "text/plain": [
       "0.26505390109786386"
      ]
     },
     "execution_count": 156,
     "metadata": {},
     "output_type": "execute_result"
    }
   ],
   "source": [
    "cnd(-d2)"
   ]
  },
  {
   "cell_type": "code",
   "execution_count": 186,
   "metadata": {},
   "outputs": [],
   "source": [
    "def bs(S=42,K=40,r=0.1,sigma=0.2,T=0.5):\n",
    "    \n",
    "    d1 = (np.log(S/X)  +   (r+(np.square(sigma)/2) )* T )  / (sigma*np.sqrt(T))  \n",
    "    d2 = d1 - (sigma * np.sqrt(T) )\n",
    "    \n",
    "    c = S*cnd(d1) - ( K*np.exp(-r*T)*cnd(d2) )   \n",
    "   \n",
    "    return c\n",
    "    "
   ]
  },
  {
   "cell_type": "code",
   "execution_count": 268,
   "metadata": {},
   "outputs": [
    {
     "data": {
      "text/plain": [
       "4.759422997128201"
      ]
     },
     "execution_count": 268,
     "metadata": {},
     "output_type": "execute_result"
    }
   ],
   "source": [
    "bs(42)"
   ]
  },
  {
   "cell_type": "code",
   "execution_count": 270,
   "metadata": {},
   "outputs": [],
   "source": [
    "a=bs(T=1,S=50)"
   ]
  },
  {
   "cell_type": "code",
   "execution_count": 271,
   "metadata": {},
   "outputs": [
    {
     "data": {
      "text/plain": [
       "13.996333967948978"
      ]
     },
     "execution_count": 271,
     "metadata": {},
     "output_type": "execute_result"
    }
   ],
   "source": [
    "a"
   ]
  },
  {
   "cell_type": "code",
   "execution_count": 254,
   "metadata": {},
   "outputs": [],
   "source": [
    "strikes=list(np.arange(1,99))"
   ]
  },
  {
   "cell_type": "code",
   "execution_count": 255,
   "metadata": {},
   "outputs": [],
   "source": [
    "values=list(np.arange(1,99))"
   ]
  },
  {
   "cell_type": "code",
   "execution_count": 257,
   "metadata": {},
   "outputs": [],
   "source": [
    "for i in np.arange(1,99):\n",
    "    values[i-1]=bs(i)"
   ]
  },
  {
   "cell_type": "code",
   "execution_count": 258,
   "metadata": {},
   "outputs": [],
   "source": [
    "options=list(zip(strikes,values))"
   ]
  },
  {
   "cell_type": "code",
   "execution_count": 259,
   "metadata": {
    "scrolled": true
   },
   "outputs": [
    {
     "data": {
      "text/plain": [
       "[(1, 0.0),\n",
       " (2, 0.0),\n",
       " (3, 0.0),\n",
       " (4, 0.0),\n",
       " (5, 0.0),\n",
       " (6, 0.0),\n",
       " (7, 0.0),\n",
       " (8, 0.0),\n",
       " (9, 0.0),\n",
       " (10, 0.0),\n",
       " (11, 0.0),\n",
       " (12, -2.2750434647595546e-16),\n",
       " (13, 4.326260198712406e-15),\n",
       " (14, 3.3580035143860243e-13),\n",
       " (15, 1.1218699220134416e-11),\n",
       " (16, 2.414508206920637e-10),\n",
       " (17, 3.5977882283653257e-09),\n",
       " (18, 3.913640585896256e-08),\n",
       " (19, 3.245546460894656e-07),\n",
       " (20, 2.126766979497992e-06),\n",
       " (21, 1.134678763087786e-05),\n",
       " (22, 5.054719566949489e-05),\n",
       " (23, 0.00019208593766532715),\n",
       " (24, 0.0006342096103294434),\n",
       " (25, 0.0018483110438874267),\n",
       " (26, 0.004820370705866328),\n",
       " (27, 0.01138545306198821),\n",
       " (28, 0.024612216040599155),\n",
       " (29, 0.04914852779946077),\n",
       " (30, 0.0914115988367532),\n",
       " (31, 0.15951547920193176),\n",
       " (32, 0.26287958476019835),\n",
       " (33, 0.4115398379860551),\n",
       " (34, 0.6152626161604626),\n",
       " (35, 0.8826147104174265),\n",
       " (36, 1.2201547729954925),\n",
       " (37, 1.6318837070235794),\n",
       " (38, 2.1190275432199286),\n",
       " (39, 2.6800496208558364),\n",
       " (40, 3.3111225903974955),\n",
       " (41, 4.0065453257461705),\n",
       " (42, 4.759422997128201),\n",
       " (43, 5.562257993678326),\n",
       " (44, 6.407471654518705),\n",
       " (45, 7.287819378402787),\n",
       " (46, 8.196680521187147),\n",
       " (47, 9.128227864521293),\n",
       " (48, 10.07749523090785),\n",
       " (49, 11.040367839007558),\n",
       " (50, 12.013520439536386),\n",
       " (51, 12.994325290504356),\n",
       " (52, 13.980747407352602),\n",
       " (53, 14.971239554614279),\n",
       " (54, 15.964644937539006),\n",
       " (55, 16.960111904205668),\n",
       " (56, 17.95702228818093),\n",
       " (57, 18.95493323576744),\n",
       " (58, 19.95353130818767),\n",
       " (59, 20.952597140112758),\n",
       " (60, 21.951978797108247),\n",
       " (61, 22.95157206252697),\n",
       " (62, 23.95130609227686),\n",
       " (63, 24.95113313065302),\n",
       " (64, 25.951021236515608),\n",
       " (65, 26.950949201422134),\n",
       " (66, 27.950903038739938),\n",
       " (67, 28.95087358286348),\n",
       " (68, 29.950854862938137),\n",
       " (69, 30.950843010751214),\n",
       " (70, 31.9508355331874),\n",
       " (71, 32.9508308311242),\n",
       " (72, 33.9508278834624),\n",
       " (73, 34.95082604092262),\n",
       " (74, 35.95082489226503),\n",
       " (75, 36.950824177968066),\n",
       " (76, 37.95082373481134),\n",
       " (77, 38.95082346046564),\n",
       " (78, 39.95082329096583),\n",
       " (79, 40.950823186437184),\n",
       " (80, 41.95082312208584),\n",
       " (81, 42.95082308253149),\n",
       " (82, 43.95082305825419),\n",
       " (83, 44.95082304337331),\n",
       " (84, 45.95082303426311),\n",
       " (85, 46.950823028691936),\n",
       " (86, 47.95082302528843),\n",
       " (87, 48.95082302321104),\n",
       " (88, 49.95082302194412),\n",
       " (89, 50.95082302117203),\n",
       " (90, 51.9508230207018),\n",
       " (91, 52.95082302041556),\n",
       " (92, 53.95082302024143),\n",
       " (93, 54.95082302013553),\n",
       " (94, 55.95082302007114),\n",
       " (95, 56.95082302003201),\n",
       " (96, 57.95082302000823),\n",
       " (97, 58.95082301999379),\n",
       " (98, 59.950823019985016)]"
      ]
     },
     "execution_count": 259,
     "metadata": {},
     "output_type": "execute_result"
    }
   ],
   "source": [
    "options"
   ]
  },
  {
   "cell_type": "code",
   "execution_count": 247,
   "metadata": {},
   "outputs": [],
   "source": [
    "delta=pd.DataFrame(data=options,columns=[\"S\",\"value\"],)\n"
   ]
  },
  {
   "cell_type": "code",
   "execution_count": 261,
   "metadata": {
    "scrolled": true
   },
   "outputs": [
    {
     "data": {
      "text/plain": [
       "0      1\n",
       "1      2\n",
       "2      3\n",
       "3      4\n",
       "4      5\n",
       "5      6\n",
       "6      7\n",
       "7      8\n",
       "8      9\n",
       "9     10\n",
       "10    11\n",
       "11    12\n",
       "12    13\n",
       "13    14\n",
       "14    15\n",
       "15    16\n",
       "16    17\n",
       "17    18\n",
       "18    19\n",
       "19    20\n",
       "20    21\n",
       "21    22\n",
       "22    23\n",
       "23    24\n",
       "24    25\n",
       "25    26\n",
       "26    27\n",
       "27    28\n",
       "28    29\n",
       "29    30\n",
       "      ..\n",
       "52    53\n",
       "53    54\n",
       "54    55\n",
       "55    56\n",
       "56    57\n",
       "57    58\n",
       "58    59\n",
       "59    60\n",
       "60    61\n",
       "61    62\n",
       "62    63\n",
       "63    64\n",
       "64    65\n",
       "65    66\n",
       "66    67\n",
       "67    68\n",
       "68    69\n",
       "69    70\n",
       "70    71\n",
       "71    72\n",
       "72    73\n",
       "73    74\n",
       "74    75\n",
       "75    76\n",
       "76    77\n",
       "77    78\n",
       "78    79\n",
       "79    80\n",
       "80    81\n",
       "81    82\n",
       "Name: S, Length: 82, dtype: int64"
      ]
     },
     "execution_count": 261,
     "metadata": {},
     "output_type": "execute_result"
    }
   ],
   "source": [
    "delta['S']"
   ]
  },
  {
   "cell_type": "code",
   "execution_count": 262,
   "metadata": {},
   "outputs": [
    {
     "data": {
      "text/plain": [
       "0     0.000000e+00\n",
       "1     0.000000e+00\n",
       "2     0.000000e+00\n",
       "3     0.000000e+00\n",
       "4     0.000000e+00\n",
       "5     0.000000e+00\n",
       "6     0.000000e+00\n",
       "7     0.000000e+00\n",
       "8     0.000000e+00\n",
       "9     0.000000e+00\n",
       "10    0.000000e+00\n",
       "11   -2.275043e-16\n",
       "12    4.326260e-15\n",
       "13    3.358004e-13\n",
       "14    1.121870e-11\n",
       "15    2.414508e-10\n",
       "16    3.597788e-09\n",
       "17    3.913641e-08\n",
       "18    3.245546e-07\n",
       "19    2.126767e-06\n",
       "20    1.134679e-05\n",
       "21    5.054720e-05\n",
       "22    1.920859e-04\n",
       "23    6.342096e-04\n",
       "24    1.848311e-03\n",
       "25    4.820371e-03\n",
       "26    1.138545e-02\n",
       "27    2.461222e-02\n",
       "28    4.914853e-02\n",
       "29    9.141160e-02\n",
       "          ...     \n",
       "52    1.497124e+01\n",
       "53    1.596464e+01\n",
       "54    1.696011e+01\n",
       "55    1.795702e+01\n",
       "56    1.895493e+01\n",
       "57    1.995353e+01\n",
       "58    2.095260e+01\n",
       "59    2.195198e+01\n",
       "60    2.295157e+01\n",
       "61    2.395131e+01\n",
       "62    2.495113e+01\n",
       "63    2.595102e+01\n",
       "64    2.695095e+01\n",
       "65    2.795090e+01\n",
       "66    2.895087e+01\n",
       "67    2.995085e+01\n",
       "68    3.095084e+01\n",
       "69    3.195084e+01\n",
       "70    3.295083e+01\n",
       "71    3.395083e+01\n",
       "72    3.495083e+01\n",
       "73    3.595082e+01\n",
       "74    3.695082e+01\n",
       "75    3.795082e+01\n",
       "76    3.895082e+01\n",
       "77    3.995082e+01\n",
       "78    4.095082e+01\n",
       "79    4.195082e+01\n",
       "80    4.295082e+01\n",
       "81    4.395082e+01\n",
       "Name: value, Length: 82, dtype: float64"
      ]
     },
     "execution_count": 262,
     "metadata": {},
     "output_type": "execute_result"
    }
   ],
   "source": [
    " delta['value']"
   ]
  },
  {
   "cell_type": "code",
   "execution_count": 267,
   "metadata": {},
   "outputs": [
    {
     "data": {
      "image/png": "[encoded data removed]",
      "text/plain": [
       "<Figure size 432x288 with 1 Axes>"
      ]
     },
     "metadata": {},
     "output_type": "display_data"
    }
   ],
   "source": [
    "fig, ax = plt.subplots()\n",
    "ax.plot(delta['S'],delta['value'])\n",
    "\n",
    "ax.set(xlabel='strike price', ylabel='value',\n",
    "       title='Call option value as function of current price')\n",
    "ax.grid()\n",
    "\n",
    "fig.savefig(\"test.png\")\n",
    "plt.show()"
   ]
  },
  {
   "cell_type": "code",
   "execution_count": null,
   "metadata": {},
   "outputs": [],
   "source": []
  }
 ],
 "metadata": {
  "kernelspec": {
   "display_name": "Python 3",
   "language": "python",
   "name": "python3"
  },
  "language_info": {
   "codemirror_mode": {
    "name": "ipython",
    "version": 3
   },
   "file_extension": ".py",
   "mimetype": "text/x-python",
   "name": "python",
   "nbconvert_exporter": "python",
   "pygments_lexer": "ipython3",
   "version": "3.6.5"
  }
 },
 "nbformat": 4,
 "nbformat_minor": 2
}
