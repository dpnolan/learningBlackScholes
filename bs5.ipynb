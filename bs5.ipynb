{
 "cells": [
  {
   "cell_type": "markdown",
   "metadata": {},
   "source": [
    "# Black Scholes Vanilla European Call Prices"
   ]
  },
  {
   "cell_type": "markdown",
   "metadata": {},
   "source": [
    "## Imports"
   ]
  },
  {
   "cell_type": "code",
   "execution_count": 1,
   "metadata": {},
   "outputs": [
    {
     "name": "stdout",
     "output_type": "stream",
     "text": [
      "19:36:57:341964 Saturday 15 December 2018 \n"
     ]
    }
   ],
   "source": [
    "import datetime\n",
    "y=datetime.datetime.now()\n",
    "print(y.strftime(\"%H:%M:%S:%f %A %d %B %Y %z\" ))"
   ]
  },
  {
   "cell_type": "code",
   "execution_count": 2,
   "metadata": {},
   "outputs": [
    {
     "name": "stdout",
     "output_type": "stream",
     "text": [
      "Current working directory C:\\Users\\Peter\n"
     ]
    }
   ],
   "source": [
    "import os\n",
    "print(\"Current working directory\",os.getcwd())"
   ]
  },
  {
   "cell_type": "code",
   "execution_count": 3,
   "metadata": {},
   "outputs": [
    {
     "data": {
      "text/plain": [
       "'1.15.4'"
      ]
     },
     "execution_count": 3,
     "metadata": {},
     "output_type": "execute_result"
    }
   ],
   "source": [
    "import numpy as np\n",
    "np.__version__"
   ]
  },
  {
   "cell_type": "code",
   "execution_count": 4,
   "metadata": {},
   "outputs": [
    {
     "data": {
      "text/plain": [
       "'0.23.4'"
      ]
     },
     "execution_count": 4,
     "metadata": {},
     "output_type": "execute_result"
    }
   ],
   "source": [
    "import pandas as pd\n",
    "pd.__version__"
   ]
  },
  {
   "cell_type": "code",
   "execution_count": 5,
   "metadata": {},
   "outputs": [],
   "source": [
    "import matplotlib\n",
    "import matplotlib.pyplot as plt"
   ]
  },
  {
   "cell_type": "code",
   "execution_count": 6,
   "metadata": {},
   "outputs": [],
   "source": [
    "from math import log, sqrt, exp\n",
    "from scipy import stats"
   ]
  },
  {
   "cell_type": "code",
   "execution_count": 7,
   "metadata": {},
   "outputs": [
    {
     "data": {
      "text/plain": [
       "Context(prec=28, rounding=ROUND_HALF_EVEN, Emin=-999999, Emax=999999, capitals=1, clamp=0, flags=[], traps=[InvalidOperation, DivisionByZero, Overflow])"
      ]
     },
     "execution_count": 7,
     "metadata": {},
     "output_type": "execute_result"
    }
   ],
   "source": [
    "import decimal\n",
    "from decimal import Decimal\n",
    "decimal.getcontext()"
   ]
  },
  {
   "cell_type": "code",
   "execution_count": 8,
   "metadata": {},
   "outputs": [],
   "source": [
    "decimal.getcontext().prec=112\n",
    "#increase the number precision"
   ]
  },
  {
   "cell_type": "markdown",
   "metadata": {},
   "source": [
    "## Functions"
   ]
  },
  {
   "cell_type": "code",
   "execution_count": 198,
   "metadata": {},
   "outputs": [],
   "source": [
    "'''\n",
    "Black-Scholes vanilla European call price function, with the default values as shown in the example in Hull (2009)\n",
    "'''\n",
    "\n",
    "def bs(S=42,K=40,r=0.1,sigma=0.2,T=0.5):\n",
    "    if ( np.any(S)==0 ):\n",
    "        return 0\n",
    "    elif (np.any(K)==0):\n",
    "        return S    \n",
    "    else:    \n",
    "        d1 = (np.log(S/K)  +   (r+(np.square(sigma)/2) )* T )  / (sigma*np.sqrt(T))  \n",
    "        d2 = d1 - (sigma * np.sqrt(T) )   \n",
    "        c = S*stats.norm.cdf(d1, 0.0, 1.0)-  K*np.exp(-r*T)*stats.norm.cdf(d2, 0.0, 1.0)\n",
    "        return c  "
   ]
  },
  {
   "cell_type": "code",
   "execution_count": 723,
   "metadata": {},
   "outputs": [],
   "source": [
    "'''\n",
    "Black-Scholes vanilla European call price function, with the default values as shown in the example in Hull (2009)\n",
    "'''\n",
    "\n",
    "def bsDecimal(S=42,K=40,r=0.1,sigma=0.2,T=0.5):\n",
    "    \n",
    "    S=Decimal(S)\n",
    "    K=Decimal(K)\n",
    "    r=Decimal(r)\n",
    "    sigma=Decimal(sigma)\n",
    "    T=Decimal(T)\n",
    "    \n",
    "    if ( np.any(S)==0 ):\n",
    "        return 0\n",
    "    elif (np.any(K)==0):\n",
    "        return S    \n",
    "    else:    \n",
    "        d1 = (  ( Decimal (S/K) ).ln()  +   Decimal ( (r+(np.square(sigma)/2) )* T ) )  / Decimal ( (sigma*np.sqrt(T)) ) \n",
    "        d2 = d1 - Decimal ( (sigma * np.sqrt(T) )   )\n",
    "        \n",
    "        '''\n",
    "        print(d1)\n",
    "        print(round(d1,20))\n",
    "        print(float(round(d1,20)))\n",
    "        print()\n",
    "        print(d2)\n",
    "        print(round(d2,20))\n",
    "        print(float(round(d2,20)))\n",
    "        '''\n",
    "        \n",
    "        #c = Decimal( S* Decimal( stats.norm.cdf(d1, 0.0, 1.0) )  )\\\n",
    "        #            - Decimal (K * (  np.exp(-r*T)*Decimal(stats.norm.cdf(d2, 0.0, 1.0))) )\n",
    "        \n",
    "        round_d1=float(round(d1,20))\n",
    "        print(type(round_d1))\n",
    "        round_d2=float(round(d2,20))\n",
    "        print(type(round_d1))\n",
    "        \n",
    "        cdf_d1=Decimal ( stats.norm.cdf(round_d1, 0.0, 1.0) ) \n",
    "        cdf_d2=Decimal ( stats.norm.cdf(round_d2, 0.0, 1.0) )\n",
    "        \n",
    "        c = Decimal (\n",
    "        \n",
    "        (\n",
    "            S*cdf_d1 \n",
    "        )\n",
    "            -\n",
    "        (\n",
    "            K*np.exp(-r*T)*cdf_d2\n",
    "        )\n",
    "        )\n",
    "        \n",
    "        return c  "
   ]
  },
  {
   "cell_type": "code",
   "execution_count": 724,
   "metadata": {},
   "outputs": [],
   "source": [
    "x=Decimal(42)"
   ]
  },
  {
   "cell_type": "code",
   "execution_count": 725,
   "metadata": {},
   "outputs": [
    {
     "name": "stdout",
     "output_type": "stream",
     "text": [
      "0.7692626281060313656830440230974943016062895048235545840253611908471661445806080487533610363914366751111216339498\n",
      "0.76926262810603136568\n",
      "0.7692626281060314\n",
      "\n",
      "0.6278412718687218529524128572576491967824104574680423195905766230974471592320625249514702647735395688668503525272\n",
      "0.62784127186872185295\n",
      "0.6278412718687219\n",
      "<class 'float'>\n",
      "<class 'float'>\n"
     ]
    },
    {
     "data": {
      "text/plain": [
       "Decimal('4.75942239287153143007131791898744713680478009470034327250796964568769722921726499194780886164081340434109854130')"
      ]
     },
     "execution_count": 725,
     "metadata": {},
     "output_type": "execute_result"
    }
   ],
   "source": [
    "bsDecimal(S=x)"
   ]
  },
  {
   "cell_type": "code",
   "execution_count": 702,
   "metadata": {},
   "outputs": [],
   "source": [
    "y=float(10)"
   ]
  },
  {
   "cell_type": "code",
   "execution_count": 700,
   "metadata": {},
   "outputs": [
    {
     "data": {
      "text/plain": [
       "Decimal('52')"
      ]
     },
     "execution_count": 700,
     "metadata": {},
     "output_type": "execute_result"
    }
   ],
   "source": [
    "x+Decimal(y)"
   ]
  },
  {
   "cell_type": "code",
   "execution_count": 705,
   "metadata": {},
   "outputs": [
    {
     "data": {
      "text/plain": [
       "float"
      ]
     },
     "execution_count": 705,
     "metadata": {},
     "output_type": "execute_result"
    }
   ],
   "source": [
    "type(y)"
   ]
  },
  {
   "cell_type": "code",
   "execution_count": 726,
   "metadata": {},
   "outputs": [
    {
     "data": {
      "text/plain": [
       "4.759422392871532"
      ]
     },
     "execution_count": 726,
     "metadata": {},
     "output_type": "execute_result"
    }
   ],
   "source": [
    "bs(S=42)"
   ]
  },
  {
   "cell_type": "code",
   "execution_count": 195,
   "metadata": {},
   "outputs": [],
   "source": [
    "#Function bs() typically produces the Euro call value of 4.759422392871532"
   ]
  },
  {
   "cell_type": "code",
   "execution_count": 38,
   "metadata": {},
   "outputs": [
    {
     "data": {
      "text/plain": [
       "42"
      ]
     },
     "execution_count": 38,
     "metadata": {},
     "output_type": "execute_result"
    }
   ],
   "source": [
    "bs(K=0)"
   ]
  },
  {
   "cell_type": "code",
   "execution_count": 13,
   "metadata": {},
   "outputs": [
    {
     "data": {
      "text/plain": [
       "datetime.datetime"
      ]
     },
     "execution_count": 13,
     "metadata": {},
     "output_type": "execute_result"
    }
   ],
   "source": [
    "type(y)"
   ]
  },
  {
   "cell_type": "markdown",
   "metadata": {},
   "source": [
    "Hull's value for the default is 4.759, same as the output of the bs function with the default parameters"
   ]
  },
  {
   "cell_type": "code",
   "execution_count": 14,
   "metadata": {},
   "outputs": [],
   "source": [
    "'''\n",
    "BSM Call Function taken from Hilpisch (2014), Chapter 10\n",
    "'''\n",
    "def bsm_call_value(S0, K, T, r, sigma):\n",
    "    S0 = float(S0)\n",
    "    d1 = (log(S0 / K) + (r + 0.5 * sigma ** 2) * T) / (sigma * sqrt(T))\n",
    "    d2 = (log(S0 / K) + (r - 0.5 * sigma ** 2) * T) / (sigma * sqrt(T))\n",
    "    value = (S0 * stats.norm.cdf(d1, 0.0, 1.0)\n",
    "             - K * exp(-r * T) * stats.norm.cdf(d2, 0.0, 1.0))\n",
    "    return value\n",
    "\n",
    "# stats.norm.cdf --> cumulative distribution function\n",
    "#                    for normal distribution"
   ]
  },
  {
   "cell_type": "code",
   "execution_count": 15,
   "metadata": {},
   "outputs": [
    {
     "data": {
      "text/plain": [
       "4.759422392871532"
      ]
     },
     "execution_count": 15,
     "metadata": {},
     "output_type": "execute_result"
    }
   ],
   "source": [
    "bsm_call_value(42,40,0.5,0.1,0.2)"
   ]
  },
  {
   "cell_type": "markdown",
   "metadata": {},
   "source": [
    "## Parameters for the model"
   ]
  },
  {
   "cell_type": "code",
   "execution_count": 750,
   "metadata": {},
   "outputs": [],
   "source": [
    "NUMBER_S=100"
   ]
  },
  {
   "cell_type": "code",
   "execution_count": 751,
   "metadata": {},
   "outputs": [],
   "source": [
    "INCREMENT_S=( 1/1000 ) "
   ]
  },
  {
   "cell_type": "code",
   "execution_count": 752,
   "metadata": {},
   "outputs": [
    {
     "data": {
      "text/plain": [
       "0.001"
      ]
     },
     "execution_count": 752,
     "metadata": {},
     "output_type": "execute_result"
    }
   ],
   "source": [
    "INCREMENT_S"
   ]
  },
  {
   "cell_type": "code",
   "execution_count": 753,
   "metadata": {
    "scrolled": true
   },
   "outputs": [
    {
     "name": "stdout",
     "output_type": "stream",
     "text": [
      "1.0 \t 0.000000\n",
      "1.1 \t 0.000000\n",
      "1.2 \t 0.000000\n",
      "1.3 \t 0.000000\n",
      "1.4 \t 0.000000\n",
      "1.5 \t 0.000000\n",
      "1.6 \t 0.000000\n",
      "1.7 \t 0.000000\n",
      "1.8 \t 0.000000\n",
      "1.9 \t 0.000000\n",
      "2.0 \t 0.000000\n",
      "2.1 \t 0.000000\n",
      "2.2 \t 0.000000\n",
      "2.3 \t 0.000000\n",
      "2.4 \t 0.000000\n",
      "2.5 \t 0.000000\n",
      "2.6 \t 0.000000\n",
      "2.7 \t 0.000000\n",
      "2.8 \t 0.000000\n",
      "2.9 \t 0.000000\n",
      "3.0 \t 0.000000\n",
      "3.1 \t 0.000000\n",
      "3.2 \t 0.000000\n",
      "3.3 \t 0.000000\n",
      "3.4 \t 0.000000\n",
      "3.5 \t 0.000000\n",
      "3.6 \t 0.000000\n",
      "3.7 \t 0.000000\n",
      "3.8 \t 0.000000\n",
      "3.9 \t 0.000000\n",
      "4.0 \t 0.000000\n",
      "4.1 \t 0.000000\n",
      "4.2 \t 0.000000\n",
      "4.3 \t 0.000000\n",
      "4.4 \t 0.000000\n",
      "4.5 \t 0.000000\n",
      "4.6 \t 0.000000\n",
      "4.7 \t 0.000000\n",
      "4.8 \t 0.000000\n",
      "4.9 \t 0.000000\n",
      "5.0 \t 0.000000\n",
      "5.1 \t 0.000000\n",
      "5.2 \t 0.000000\n",
      "5.3 \t 0.000000\n",
      "5.4 \t 0.000000\n",
      "5.5 \t 0.000000\n",
      "5.6 \t 0.000000\n",
      "5.7 \t 0.000000\n",
      "5.8 \t 0.000000\n",
      "5.9 \t 0.000000\n",
      "6.0 \t 0.000000\n",
      "6.1 \t 0.000000\n",
      "6.2 \t 0.000000\n",
      "6.3 \t 0.000000\n",
      "6.4 \t 0.000000\n",
      "6.5 \t 0.000000\n",
      "6.6 \t 0.000000\n",
      "6.7 \t 0.000000\n",
      "6.8 \t 0.000000\n",
      "6.9 \t 0.000000\n",
      "7.0 \t 0.000000\n",
      "7.1 \t 0.000000\n",
      "7.2 \t 0.000000\n",
      "7.3 \t 0.000000\n",
      "7.4 \t 0.000000\n",
      "7.5 \t 0.000000\n",
      "7.6 \t 0.000000\n",
      "7.7 \t 0.000000\n",
      "7.8 \t 0.000000\n",
      "7.9 \t 0.000000\n",
      "8.0 \t 0.000000\n",
      "8.1 \t 0.000000\n",
      "8.2 \t 0.000000\n",
      "8.3 \t 0.000000\n",
      "8.4 \t 0.000000\n",
      "8.5 \t 0.000000\n",
      "8.6 \t 0.000000\n",
      "8.7 \t 0.000000\n",
      "8.8 \t 0.000000\n",
      "8.9 \t 0.000000\n",
      "9.0 \t 0.000000\n",
      "9.1 \t 0.000000\n",
      "9.2 \t 0.000000\n",
      "9.3 \t 0.000000\n",
      "9.4 \t 0.000000\n",
      "9.5 \t 0.000000\n",
      "9.6 \t 0.000000\n",
      "9.7 \t 0.000000\n",
      "9.8 \t 0.000000\n",
      "9.9 \t 0.000000\n",
      "10.0 \t 0.000000\n",
      "10.1 \t 0.000000\n",
      "10.2 \t 0.000000\n",
      "10.3 \t 0.000000\n",
      "10.4 \t 0.000000\n",
      "10.5 \t 0.000000\n",
      "10.6 \t 0.000000\n",
      "10.7 \t 0.000000\n",
      "10.8 \t 0.000000\n",
      "10.9 \t 0.000000\n",
      "11.0 \t 0.000000\n",
      "11.1 \t 0.000000\n",
      "11.2 \t 0.000000\n",
      "11.3 \t 0.000000\n",
      "11.4 \t 0.000000\n",
      "11.5 \t 0.000000\n",
      "11.6 \t 0.000000\n",
      "11.7 \t 0.000000\n",
      "11.8 \t 0.000000\n",
      "11.9 \t 0.000000\n",
      "12.0 \t 0.000000\n",
      "12.1 \t 0.000000\n",
      "12.2 \t 0.000000\n",
      "12.3 \t 0.000000\n",
      "12.4 \t 0.000000\n",
      "12.5 \t 0.000000\n",
      "12.6 \t 0.000000\n",
      "12.7 \t 0.000000\n",
      "12.8 \t 0.000000\n",
      "12.9 \t 0.000000\n",
      "13.0 \t 0.000000\n",
      "13.1 \t 0.000000\n",
      "13.2 \t 0.000000\n",
      "13.3 \t 0.000000\n",
      "13.4 \t 0.000000\n",
      "13.5 \t 0.000000\n",
      "13.6 \t 0.000000\n",
      "13.7 \t 0.000000\n",
      "13.8 \t 0.000000\n",
      "13.9 \t 0.000000\n",
      "14.0 \t 0.000000\n",
      "14.1 \t 0.000000\n",
      "14.2 \t 0.000000\n",
      "14.3 \t 0.000000\n",
      "14.4 \t 0.000000\n",
      "14.5 \t 0.000000\n",
      "14.6 \t 0.000000\n",
      "14.7 \t 0.000000\n",
      "14.8 \t 0.000000\n",
      "14.9 \t 0.000000\n",
      "15.0 \t 0.000000\n",
      "15.1 \t 0.000000\n",
      "15.2 \t 0.000000\n",
      "15.3 \t 0.000000\n",
      "15.4 \t 0.000000\n",
      "15.5 \t 0.000000\n",
      "15.6 \t 0.000000\n",
      "15.7 \t 0.000000\n",
      "15.8 \t 0.000000\n",
      "15.9 \t 0.000000\n",
      "16.0 \t 0.000000\n",
      "16.1 \t 0.000000\n",
      "16.2 \t 0.000000\n",
      "16.3 \t 0.000000\n",
      "16.4 \t 0.000000\n",
      "16.5 \t 0.000000\n",
      "16.6 \t 0.000000\n",
      "16.7 \t 0.000000\n",
      "16.8 \t 0.000000\n",
      "16.9 \t 0.000000\n",
      "17.0 \t 0.000000\n",
      "17.1 \t 0.000000\n",
      "17.2 \t 0.000000\n",
      "17.3 \t 0.000000\n",
      "17.4 \t 0.000000\n",
      "17.5 \t 0.000000\n",
      "17.6 \t 0.000000\n",
      "17.7 \t 0.000000\n",
      "17.8 \t 0.000000\n",
      "17.9 \t 0.000000\n",
      "18.0 \t 0.000000\n",
      "18.1 \t 0.000000\n",
      "18.2 \t 0.000000\n",
      "18.3 \t 0.000000\n",
      "18.4 \t 0.000000\n",
      "18.5 \t 0.000000\n",
      "18.6 \t 0.000000\n",
      "18.7 \t 0.000000\n",
      "18.8 \t 0.000000\n",
      "18.9 \t 0.000000\n",
      "19.0 \t 0.000000\n",
      "19.1 \t 0.000000\n",
      "19.2 \t 0.000000\n",
      "19.3 \t 0.000001\n",
      "19.4 \t 0.000001\n",
      "19.5 \t 0.000001\n",
      "19.6 \t 0.000001\n",
      "19.7 \t 0.000001\n",
      "19.8 \t 0.000001\n",
      "19.9 \t 0.000002\n",
      "20.0 \t 0.000002\n",
      "20.1 \t 0.000003\n",
      "20.2 \t 0.000003\n",
      "20.3 \t 0.000004\n",
      "20.4 \t 0.000004\n",
      "20.5 \t 0.000005\n",
      "20.6 \t 0.000006\n",
      "20.7 \t 0.000007\n",
      "20.8 \t 0.000008\n",
      "20.9 \t 0.000010\n",
      "21.0 \t 0.000011\n",
      "21.1 \t 0.000013\n",
      "21.2 \t 0.000016\n",
      "21.3 \t 0.000018\n",
      "21.4 \t 0.000021\n",
      "21.5 \t 0.000025\n",
      "21.6 \t 0.000028\n",
      "21.7 \t 0.000033\n",
      "21.8 \t 0.000038\n",
      "21.9 \t 0.000044\n",
      "22.0 \t 0.000051\n",
      "22.1 \t 0.000058\n",
      "22.2 \t 0.000067\n",
      "22.3 \t 0.000077\n",
      "22.4 \t 0.000088\n",
      "22.5 \t 0.000101\n",
      "22.6 \t 0.000115\n",
      "22.7 \t 0.000131\n",
      "22.8 \t 0.000149\n",
      "22.9 \t 0.000169\n",
      "23.0 \t 0.000192\n",
      "23.1 \t 0.000218\n",
      "23.2 \t 0.000247\n",
      "23.3 \t 0.000279\n",
      "23.4 \t 0.000315\n",
      "23.5 \t 0.000355\n",
      "23.6 \t 0.000400\n",
      "23.7 \t 0.000450\n",
      "23.8 \t 0.000505\n",
      "23.9 \t 0.000567\n",
      "24.0 \t 0.000635\n",
      "24.1 \t 0.000710\n",
      "24.2 \t 0.000794\n",
      "24.3 \t 0.000886\n",
      "24.4 \t 0.000987\n",
      "24.5 \t 0.001099\n",
      "24.6 \t 0.001223\n",
      "24.7 \t 0.001358\n",
      "24.8 \t 0.001507\n",
      "24.9 \t 0.001670\n",
      "25.0 \t 0.001849\n",
      "25.1 \t 0.002045\n",
      "25.2 \t 0.002259\n",
      "25.3 \t 0.002493\n",
      "25.4 \t 0.002748\n",
      "25.5 \t 0.003025\n",
      "25.6 \t 0.003328\n",
      "25.7 \t 0.003657\n",
      "25.8 \t 0.004014\n",
      "25.9 \t 0.004401\n"
     ]
    }
   ],
   "source": [
    "for m in np.arange (1, 26, 0.1):\n",
    "    print(\"{:1.1f} \\t {:3.6f}\".format(m,bs(m)))    "
   ]
  },
  {
   "cell_type": "code",
   "execution_count": 754,
   "metadata": {},
   "outputs": [],
   "source": [
    "optionS=np.array(np.arange(1,NUMBER_S,INCREMENT_S))"
   ]
  },
  {
   "cell_type": "code",
   "execution_count": 755,
   "metadata": {
    "scrolled": true
   },
   "outputs": [
    {
     "data": {
      "text/plain": [
       "array([ 1.   ,  1.001,  1.002, ..., 99.997, 99.998, 99.999])"
      ]
     },
     "execution_count": 755,
     "metadata": {},
     "output_type": "execute_result"
    }
   ],
   "source": [
    "optionS"
   ]
  },
  {
   "cell_type": "code",
   "execution_count": 736,
   "metadata": {},
   "outputs": [
    {
     "name": "stdout",
     "output_type": "stream",
     "text": [
      "0.3353333333333333333749666967567767035992195208867390950520833333333333333333333333333333333333333333\n"
     ]
    }
   ],
   "source": [
    "print(\"{:2.100}\".format(optionS[6]/3))"
   ]
  },
  {
   "cell_type": "code",
   "execution_count": 737,
   "metadata": {},
   "outputs": [],
   "source": [
    "def myFunction(x):\n",
    "    return (1+ ( 2*x) )"
   ]
  },
  {
   "cell_type": "code",
   "execution_count": null,
   "metadata": {},
   "outputs": [],
   "source": []
  },
  {
   "cell_type": "code",
   "execution_count": 740,
   "metadata": {},
   "outputs": [
    {
     "ename": "AttributeError",
     "evalue": "'float' object has no attribute 'log'",
     "output_type": "error",
     "traceback": [
      "\u001b[1;31m---------------------------------------------------------------------------\u001b[0m",
      "\u001b[1;31mAttributeError\u001b[0m                            Traceback (most recent call last)",
      "\u001b[1;32m<ipython-input-740-c215114e5baa>\u001b[0m in \u001b[0;36m<module>\u001b[1;34m\u001b[0m\n\u001b[1;32m----> 1\u001b[1;33m \u001b[0moptionValues\u001b[0m\u001b[1;33m=\u001b[0m\u001b[0mbs\u001b[0m\u001b[1;33m(\u001b[0m\u001b[0moptionS\u001b[0m\u001b[1;33m)\u001b[0m\u001b[1;33m\u001b[0m\u001b[1;33m\u001b[0m\u001b[0m\n\u001b[0m",
      "\u001b[1;32m<ipython-input-261-f6c975c79e08>\u001b[0m in \u001b[0;36mbs\u001b[1;34m(S, K, r, sigma, T)\u001b[0m\n\u001b[0;32m      9\u001b[0m         \u001b[1;32mreturn\u001b[0m \u001b[0mS\u001b[0m\u001b[1;33m\u001b[0m\u001b[1;33m\u001b[0m\u001b[0m\n\u001b[0;32m     10\u001b[0m     \u001b[1;32melse\u001b[0m\u001b[1;33m:\u001b[0m\u001b[1;33m\u001b[0m\u001b[1;33m\u001b[0m\u001b[0m\n\u001b[1;32m---> 11\u001b[1;33m         \u001b[0md1\u001b[0m \u001b[1;33m=\u001b[0m \u001b[1;33m(\u001b[0m\u001b[0mnp\u001b[0m\u001b[1;33m.\u001b[0m\u001b[0mlog\u001b[0m\u001b[1;33m(\u001b[0m\u001b[0mS\u001b[0m\u001b[1;33m/\u001b[0m\u001b[0mK\u001b[0m\u001b[1;33m)\u001b[0m  \u001b[1;33m+\u001b[0m   \u001b[1;33m(\u001b[0m\u001b[0mr\u001b[0m\u001b[1;33m+\u001b[0m\u001b[1;33m(\u001b[0m\u001b[0mnp\u001b[0m\u001b[1;33m.\u001b[0m\u001b[0msquare\u001b[0m\u001b[1;33m(\u001b[0m\u001b[0msigma\u001b[0m\u001b[1;33m)\u001b[0m\u001b[1;33m/\u001b[0m\u001b[1;36m2\u001b[0m\u001b[1;33m)\u001b[0m \u001b[1;33m)\u001b[0m\u001b[1;33m*\u001b[0m \u001b[0mT\u001b[0m \u001b[1;33m)\u001b[0m  \u001b[1;33m/\u001b[0m \u001b[1;33m(\u001b[0m\u001b[0msigma\u001b[0m\u001b[1;33m*\u001b[0m\u001b[0mnp\u001b[0m\u001b[1;33m.\u001b[0m\u001b[0msqrt\u001b[0m\u001b[1;33m(\u001b[0m\u001b[0mT\u001b[0m\u001b[1;33m)\u001b[0m\u001b[1;33m)\u001b[0m\u001b[1;33m\u001b[0m\u001b[1;33m\u001b[0m\u001b[0m\n\u001b[0m\u001b[0;32m     12\u001b[0m         \u001b[0md2\u001b[0m \u001b[1;33m=\u001b[0m \u001b[0md1\u001b[0m \u001b[1;33m-\u001b[0m \u001b[1;33m(\u001b[0m\u001b[0msigma\u001b[0m \u001b[1;33m*\u001b[0m \u001b[0mnp\u001b[0m\u001b[1;33m.\u001b[0m\u001b[0msqrt\u001b[0m\u001b[1;33m(\u001b[0m\u001b[0mT\u001b[0m\u001b[1;33m)\u001b[0m \u001b[1;33m)\u001b[0m\u001b[1;33m\u001b[0m\u001b[1;33m\u001b[0m\u001b[0m\n\u001b[0;32m     13\u001b[0m         \u001b[0mc\u001b[0m \u001b[1;33m=\u001b[0m \u001b[0mS\u001b[0m\u001b[1;33m*\u001b[0m\u001b[0mstats\u001b[0m\u001b[1;33m.\u001b[0m\u001b[0mnorm\u001b[0m\u001b[1;33m.\u001b[0m\u001b[0mcdf\u001b[0m\u001b[1;33m(\u001b[0m\u001b[0md1\u001b[0m\u001b[1;33m,\u001b[0m \u001b[1;36m0.0\u001b[0m\u001b[1;33m,\u001b[0m \u001b[1;36m1.0\u001b[0m\u001b[1;33m)\u001b[0m\u001b[1;33m-\u001b[0m  \u001b[0mK\u001b[0m\u001b[1;33m*\u001b[0m\u001b[0mnp\u001b[0m\u001b[1;33m.\u001b[0m\u001b[0mexp\u001b[0m\u001b[1;33m(\u001b[0m\u001b[1;33m-\u001b[0m\u001b[0mr\u001b[0m\u001b[1;33m*\u001b[0m\u001b[0mT\u001b[0m\u001b[1;33m)\u001b[0m\u001b[1;33m*\u001b[0m\u001b[0mstats\u001b[0m\u001b[1;33m.\u001b[0m\u001b[0mnorm\u001b[0m\u001b[1;33m.\u001b[0m\u001b[0mcdf\u001b[0m\u001b[1;33m(\u001b[0m\u001b[0md2\u001b[0m\u001b[1;33m,\u001b[0m \u001b[1;36m0.0\u001b[0m\u001b[1;33m,\u001b[0m \u001b[1;36m1.0\u001b[0m\u001b[1;33m)\u001b[0m\u001b[1;33m\u001b[0m\u001b[1;33m\u001b[0m\u001b[0m\n",
      "\u001b[1;31mAttributeError\u001b[0m: 'float' object has no attribute 'log'"
     ]
    }
   ],
   "source": [
    "optionValues=bs(optionS)"
   ]
  },
  {
   "cell_type": "code",
   "execution_count": 490,
   "metadata": {},
   "outputs": [
    {
     "data": {
      "text/plain": [
       "array([  3.   ,   3.002,   3.004, ..., 200.994, 200.996, 200.998])"
      ]
     },
     "execution_count": 490,
     "metadata": {},
     "output_type": "execute_result"
    }
   ],
   "source": [
    "myFunction(optionS)"
   ]
  },
  {
   "cell_type": "code",
   "execution_count": 491,
   "metadata": {},
   "outputs": [
    {
     "data": {
      "text/plain": [
       "array([8.92286239e-148, 1.07133603e-147, 1.28601587e-147, ...,\n",
       "       6.19478230e+001, 6.19488230e+001, 6.19498230e+001])"
      ]
     },
     "execution_count": 491,
     "metadata": {},
     "output_type": "execute_result"
    }
   ],
   "source": [
    "optionValues"
   ]
  },
  {
   "cell_type": "code",
   "execution_count": 492,
   "metadata": {},
   "outputs": [
    {
     "data": {
      "text/plain": [
       "(99000,)"
      ]
     },
     "execution_count": 492,
     "metadata": {},
     "output_type": "execute_result"
    }
   ],
   "source": [
    "optionS.shape"
   ]
  },
  {
   "cell_type": "code",
   "execution_count": 493,
   "metadata": {},
   "outputs": [
    {
     "data": {
      "text/plain": [
       "(99000,)"
      ]
     },
     "execution_count": 493,
     "metadata": {},
     "output_type": "execute_result"
    }
   ],
   "source": [
    "optionValues.shape"
   ]
  },
  {
   "cell_type": "code",
   "execution_count": 494,
   "metadata": {},
   "outputs": [],
   "source": [
    "optionArray=np.array((optionS,optionValues))"
   ]
  },
  {
   "cell_type": "code",
   "execution_count": 495,
   "metadata": {},
   "outputs": [
    {
     "data": {
      "text/plain": [
       "(2, 99000)"
      ]
     },
     "execution_count": 495,
     "metadata": {},
     "output_type": "execute_result"
    }
   ],
   "source": [
    "optionArray.shape"
   ]
  },
  {
   "cell_type": "code",
   "execution_count": 496,
   "metadata": {},
   "outputs": [],
   "source": [
    "optionArray=optionArray.T"
   ]
  },
  {
   "cell_type": "code",
   "execution_count": 497,
   "metadata": {},
   "outputs": [
    {
     "data": {
      "text/plain": [
       "numpy.ndarray"
      ]
     },
     "execution_count": 497,
     "metadata": {},
     "output_type": "execute_result"
    }
   ],
   "source": [
    "type(optionArray)"
   ]
  },
  {
   "cell_type": "code",
   "execution_count": 498,
   "metadata": {},
   "outputs": [],
   "source": [
    "optionDF=pd.DataFrame(data=optionArray,columns=[\"S\",\"Value\"])"
   ]
  },
  {
   "cell_type": "code",
   "execution_count": 499,
   "metadata": {
    "scrolled": true
   },
   "outputs": [
    {
     "data": {
      "text/plain": [
       "0         1.000\n",
       "1         1.001\n",
       "2         1.002\n",
       "3         1.003\n",
       "4         1.004\n",
       "5         1.005\n",
       "6         1.006\n",
       "7         1.007\n",
       "8         1.008\n",
       "9         1.009\n",
       "10        1.010\n",
       "11        1.011\n",
       "12        1.012\n",
       "13        1.013\n",
       "14        1.014\n",
       "15        1.015\n",
       "16        1.016\n",
       "17        1.017\n",
       "18        1.018\n",
       "19        1.019\n",
       "20        1.020\n",
       "21        1.021\n",
       "22        1.022\n",
       "23        1.023\n",
       "24        1.024\n",
       "25        1.025\n",
       "26        1.026\n",
       "27        1.027\n",
       "28        1.028\n",
       "29        1.029\n",
       "          ...  \n",
       "98970    99.970\n",
       "98971    99.971\n",
       "98972    99.972\n",
       "98973    99.973\n",
       "98974    99.974\n",
       "98975    99.975\n",
       "98976    99.976\n",
       "98977    99.977\n",
       "98978    99.978\n",
       "98979    99.979\n",
       "98980    99.980\n",
       "98981    99.981\n",
       "98982    99.982\n",
       "98983    99.983\n",
       "98984    99.984\n",
       "98985    99.985\n",
       "98986    99.986\n",
       "98987    99.987\n",
       "98988    99.988\n",
       "98989    99.989\n",
       "98990    99.990\n",
       "98991    99.991\n",
       "98992    99.992\n",
       "98993    99.993\n",
       "98994    99.994\n",
       "98995    99.995\n",
       "98996    99.996\n",
       "98997    99.997\n",
       "98998    99.998\n",
       "98999    99.999\n",
       "Name: S, Length: 99000, dtype: float64"
      ]
     },
     "execution_count": 499,
     "metadata": {},
     "output_type": "execute_result"
    }
   ],
   "source": [
    "optionDF['S']"
   ]
  },
  {
   "cell_type": "code",
   "execution_count": 415,
   "metadata": {
    "scrolled": true
   },
   "outputs": [
    {
     "data": {
      "text/plain": [
       "0        8.922862e-148\n",
       "1        1.071336e-147\n",
       "2        1.286016e-147\n",
       "3        1.543357e-147\n",
       "4        1.851765e-147\n",
       "5        2.221289e-147\n",
       "6        2.663939e-147\n",
       "7        3.194065e-147\n",
       "8        3.828808e-147\n",
       "9        4.588641e-147\n",
       "10       5.498010e-147\n",
       "11       6.586095e-147\n",
       "12       7.887725e-147\n",
       "13       9.444458e-147\n",
       "14       1.130587e-146\n",
       "15       1.353110e-146\n",
       "16       1.619064e-146\n",
       "17       1.936857e-146\n",
       "18       2.316507e-146\n",
       "19       2.769954e-146\n",
       "20       3.311421e-146\n",
       "21       3.957852e-146\n",
       "22       4.729422e-146\n",
       "23       5.650153e-146\n",
       "24       6.748639e-146\n",
       "25       8.058909e-146\n",
       "26       9.621451e-146\n",
       "27       1.148443e-145\n",
       "28       1.370512e-145\n",
       "29       1.635163e-145\n",
       "             ...      \n",
       "98970     6.192082e+01\n",
       "98971     6.192182e+01\n",
       "98972     6.192282e+01\n",
       "98973     6.192382e+01\n",
       "98974     6.192482e+01\n",
       "98975     6.192582e+01\n",
       "98976     6.192682e+01\n",
       "98977     6.192782e+01\n",
       "98978     6.192882e+01\n",
       "98979     6.192982e+01\n",
       "98980     6.193082e+01\n",
       "98981     6.193182e+01\n",
       "98982     6.193282e+01\n",
       "98983     6.193382e+01\n",
       "98984     6.193482e+01\n",
       "98985     6.193582e+01\n",
       "98986     6.193682e+01\n",
       "98987     6.193782e+01\n",
       "98988     6.193882e+01\n",
       "98989     6.193982e+01\n",
       "98990     6.194082e+01\n",
       "98991     6.194182e+01\n",
       "98992     6.194282e+01\n",
       "98993     6.194382e+01\n",
       "98994     6.194482e+01\n",
       "98995     6.194582e+01\n",
       "98996     6.194682e+01\n",
       "98997     6.194782e+01\n",
       "98998     6.194882e+01\n",
       "98999     6.194982e+01\n",
       "Name: Value, Length: 99000, dtype: float64"
      ]
     },
     "execution_count": 415,
     "metadata": {},
     "output_type": "execute_result"
    }
   ],
   "source": [
    "optionDF['Value']"
   ]
  },
  {
   "cell_type": "code",
   "execution_count": 500,
   "metadata": {},
   "outputs": [
    {
     "data": {
      "text/plain": [
       "(99000, 2)"
      ]
     },
     "execution_count": 500,
     "metadata": {},
     "output_type": "execute_result"
    }
   ],
   "source": [
    "optionDF.shape"
   ]
  },
  {
   "cell_type": "code",
   "execution_count": 501,
   "metadata": {},
   "outputs": [],
   "source": [
    "underlying=(42/INCREMENT_S)"
   ]
  },
  {
   "cell_type": "code",
   "execution_count": 502,
   "metadata": {},
   "outputs": [],
   "source": [
    "lower=int(underlying-(20/INCREMENT_S))"
   ]
  },
  {
   "cell_type": "code",
   "execution_count": 503,
   "metadata": {},
   "outputs": [
    {
     "data": {
      "text/plain": [
       "42000.0"
      ]
     },
     "execution_count": 503,
     "metadata": {},
     "output_type": "execute_result"
    }
   ],
   "source": [
    "underlying"
   ]
  },
  {
   "cell_type": "code",
   "execution_count": 504,
   "metadata": {},
   "outputs": [],
   "source": [
    "upper=int(underlying+(20/INCREMENT_S))"
   ]
  },
  {
   "cell_type": "code",
   "execution_count": 505,
   "metadata": {},
   "outputs": [
    {
     "data": {
      "text/plain": [
       "5000.0"
      ]
     },
     "execution_count": 505,
     "metadata": {},
     "output_type": "execute_result"
    }
   ],
   "source": [
    "5/INCREMENT_S"
   ]
  },
  {
   "cell_type": "code",
   "execution_count": 506,
   "metadata": {},
   "outputs": [
    {
     "data": {
      "text/plain": [
       "62000"
      ]
     },
     "execution_count": 506,
     "metadata": {},
     "output_type": "execute_result"
    }
   ],
   "source": [
    "upper"
   ]
  },
  {
   "cell_type": "code",
   "execution_count": 507,
   "metadata": {},
   "outputs": [
    {
     "data": {
      "text/plain": [
       "22000"
      ]
     },
     "execution_count": 507,
     "metadata": {},
     "output_type": "execute_result"
    }
   ],
   "source": [
    "lower"
   ]
  },
  {
   "cell_type": "code",
   "execution_count": 539,
   "metadata": {},
   "outputs": [
    {
     "data": {
      "text/html": [
       "<div>\n",
       "<style scoped>\n",
       "    .dataframe tbody tr th:only-of-type {\n",
       "        vertical-align: middle;\n",
       "    }\n",
       "\n",
       "    .dataframe tbody tr th {\n",
       "        vertical-align: top;\n",
       "    }\n",
       "\n",
       "    .dataframe thead th {\n",
       "        text-align: right;\n",
       "    }\n",
       "</style>\n",
       "<table border=\"1\" class=\"dataframe\">\n",
       "  <thead>\n",
       "    <tr style=\"text-align: right;\">\n",
       "      <th></th>\n",
       "      <th>S</th>\n",
       "      <th>Value</th>\n",
       "    </tr>\n",
       "  </thead>\n",
       "  <tbody>\n",
       "    <tr>\n",
       "      <th>0</th>\n",
       "      <td>1.0</td>\n",
       "      <td>8.922862e-148</td>\n",
       "    </tr>\n",
       "  </tbody>\n",
       "</table>\n",
       "</div>"
      ],
      "text/plain": [
       "     S          Value\n",
       "0  1.0  8.922862e-148"
      ]
     },
     "execution_count": 539,
     "metadata": {},
     "output_type": "execute_result"
    }
   ],
   "source": [
    "optionDF[optionDF['S']==1.0]"
   ]
  },
  {
   "cell_type": "code",
   "execution_count": 540,
   "metadata": {
    "scrolled": true
   },
   "outputs": [
    {
     "data": {
      "text/html": [
       "<div>\n",
       "<style scoped>\n",
       "    .dataframe tbody tr th:only-of-type {\n",
       "        vertical-align: middle;\n",
       "    }\n",
       "\n",
       "    .dataframe tbody tr th {\n",
       "        vertical-align: top;\n",
       "    }\n",
       "\n",
       "    .dataframe thead th {\n",
       "        text-align: right;\n",
       "    }\n",
       "</style>\n",
       "<table border=\"1\" class=\"dataframe\">\n",
       "  <thead>\n",
       "    <tr style=\"text-align: right;\">\n",
       "      <th></th>\n",
       "      <th>S</th>\n",
       "      <th>Value</th>\n",
       "    </tr>\n",
       "  </thead>\n",
       "  <tbody>\n",
       "    <tr>\n",
       "      <th>0</th>\n",
       "      <td>1.000</td>\n",
       "      <td>8.922862e-148</td>\n",
       "    </tr>\n",
       "    <tr>\n",
       "      <th>1</th>\n",
       "      <td>1.001</td>\n",
       "      <td>1.071336e-147</td>\n",
       "    </tr>\n",
       "    <tr>\n",
       "      <th>2</th>\n",
       "      <td>1.002</td>\n",
       "      <td>1.286016e-147</td>\n",
       "    </tr>\n",
       "    <tr>\n",
       "      <th>3</th>\n",
       "      <td>1.003</td>\n",
       "      <td>1.543357e-147</td>\n",
       "    </tr>\n",
       "    <tr>\n",
       "      <th>4</th>\n",
       "      <td>1.004</td>\n",
       "      <td>1.851765e-147</td>\n",
       "    </tr>\n",
       "    <tr>\n",
       "      <th>5</th>\n",
       "      <td>1.005</td>\n",
       "      <td>2.221289e-147</td>\n",
       "    </tr>\n",
       "    <tr>\n",
       "      <th>6</th>\n",
       "      <td>1.006</td>\n",
       "      <td>2.663939e-147</td>\n",
       "    </tr>\n",
       "    <tr>\n",
       "      <th>7</th>\n",
       "      <td>1.007</td>\n",
       "      <td>3.194065e-147</td>\n",
       "    </tr>\n",
       "    <tr>\n",
       "      <th>8</th>\n",
       "      <td>1.008</td>\n",
       "      <td>3.828808e-147</td>\n",
       "    </tr>\n",
       "    <tr>\n",
       "      <th>9</th>\n",
       "      <td>1.009</td>\n",
       "      <td>4.588641e-147</td>\n",
       "    </tr>\n",
       "    <tr>\n",
       "      <th>10</th>\n",
       "      <td>1.010</td>\n",
       "      <td>5.498010e-147</td>\n",
       "    </tr>\n",
       "    <tr>\n",
       "      <th>11</th>\n",
       "      <td>1.011</td>\n",
       "      <td>6.586095e-147</td>\n",
       "    </tr>\n",
       "    <tr>\n",
       "      <th>12</th>\n",
       "      <td>1.012</td>\n",
       "      <td>7.887725e-147</td>\n",
       "    </tr>\n",
       "    <tr>\n",
       "      <th>13</th>\n",
       "      <td>1.013</td>\n",
       "      <td>9.444458e-147</td>\n",
       "    </tr>\n",
       "    <tr>\n",
       "      <th>14</th>\n",
       "      <td>1.014</td>\n",
       "      <td>1.130587e-146</td>\n",
       "    </tr>\n",
       "    <tr>\n",
       "      <th>15</th>\n",
       "      <td>1.015</td>\n",
       "      <td>1.353110e-146</td>\n",
       "    </tr>\n",
       "    <tr>\n",
       "      <th>16</th>\n",
       "      <td>1.016</td>\n",
       "      <td>1.619064e-146</td>\n",
       "    </tr>\n",
       "    <tr>\n",
       "      <th>17</th>\n",
       "      <td>1.017</td>\n",
       "      <td>1.936857e-146</td>\n",
       "    </tr>\n",
       "    <tr>\n",
       "      <th>18</th>\n",
       "      <td>1.018</td>\n",
       "      <td>2.316507e-146</td>\n",
       "    </tr>\n",
       "    <tr>\n",
       "      <th>19</th>\n",
       "      <td>1.019</td>\n",
       "      <td>2.769954e-146</td>\n",
       "    </tr>\n",
       "    <tr>\n",
       "      <th>20</th>\n",
       "      <td>1.020</td>\n",
       "      <td>3.311421e-146</td>\n",
       "    </tr>\n",
       "    <tr>\n",
       "      <th>21</th>\n",
       "      <td>1.021</td>\n",
       "      <td>3.957852e-146</td>\n",
       "    </tr>\n",
       "    <tr>\n",
       "      <th>22</th>\n",
       "      <td>1.022</td>\n",
       "      <td>4.729422e-146</td>\n",
       "    </tr>\n",
       "    <tr>\n",
       "      <th>23</th>\n",
       "      <td>1.023</td>\n",
       "      <td>5.650153e-146</td>\n",
       "    </tr>\n",
       "    <tr>\n",
       "      <th>24</th>\n",
       "      <td>1.024</td>\n",
       "      <td>6.748639e-146</td>\n",
       "    </tr>\n",
       "    <tr>\n",
       "      <th>25</th>\n",
       "      <td>1.025</td>\n",
       "      <td>8.058909e-146</td>\n",
       "    </tr>\n",
       "    <tr>\n",
       "      <th>26</th>\n",
       "      <td>1.026</td>\n",
       "      <td>9.621451e-146</td>\n",
       "    </tr>\n",
       "    <tr>\n",
       "      <th>27</th>\n",
       "      <td>1.027</td>\n",
       "      <td>1.148443e-145</td>\n",
       "    </tr>\n",
       "    <tr>\n",
       "      <th>28</th>\n",
       "      <td>1.028</td>\n",
       "      <td>1.370512e-145</td>\n",
       "    </tr>\n",
       "    <tr>\n",
       "      <th>29</th>\n",
       "      <td>1.029</td>\n",
       "      <td>1.635163e-145</td>\n",
       "    </tr>\n",
       "    <tr>\n",
       "      <th>...</th>\n",
       "      <td>...</td>\n",
       "      <td>...</td>\n",
       "    </tr>\n",
       "    <tr>\n",
       "      <th>98970</th>\n",
       "      <td>99.970</td>\n",
       "      <td>6.192082e+01</td>\n",
       "    </tr>\n",
       "    <tr>\n",
       "      <th>98971</th>\n",
       "      <td>99.971</td>\n",
       "      <td>6.192182e+01</td>\n",
       "    </tr>\n",
       "    <tr>\n",
       "      <th>98972</th>\n",
       "      <td>99.972</td>\n",
       "      <td>6.192282e+01</td>\n",
       "    </tr>\n",
       "    <tr>\n",
       "      <th>98973</th>\n",
       "      <td>99.973</td>\n",
       "      <td>6.192382e+01</td>\n",
       "    </tr>\n",
       "    <tr>\n",
       "      <th>98974</th>\n",
       "      <td>99.974</td>\n",
       "      <td>6.192482e+01</td>\n",
       "    </tr>\n",
       "    <tr>\n",
       "      <th>98975</th>\n",
       "      <td>99.975</td>\n",
       "      <td>6.192582e+01</td>\n",
       "    </tr>\n",
       "    <tr>\n",
       "      <th>98976</th>\n",
       "      <td>99.976</td>\n",
       "      <td>6.192682e+01</td>\n",
       "    </tr>\n",
       "    <tr>\n",
       "      <th>98977</th>\n",
       "      <td>99.977</td>\n",
       "      <td>6.192782e+01</td>\n",
       "    </tr>\n",
       "    <tr>\n",
       "      <th>98978</th>\n",
       "      <td>99.978</td>\n",
       "      <td>6.192882e+01</td>\n",
       "    </tr>\n",
       "    <tr>\n",
       "      <th>98979</th>\n",
       "      <td>99.979</td>\n",
       "      <td>6.192982e+01</td>\n",
       "    </tr>\n",
       "    <tr>\n",
       "      <th>98980</th>\n",
       "      <td>99.980</td>\n",
       "      <td>6.193082e+01</td>\n",
       "    </tr>\n",
       "    <tr>\n",
       "      <th>98981</th>\n",
       "      <td>99.981</td>\n",
       "      <td>6.193182e+01</td>\n",
       "    </tr>\n",
       "    <tr>\n",
       "      <th>98982</th>\n",
       "      <td>99.982</td>\n",
       "      <td>6.193282e+01</td>\n",
       "    </tr>\n",
       "    <tr>\n",
       "      <th>98983</th>\n",
       "      <td>99.983</td>\n",
       "      <td>6.193382e+01</td>\n",
       "    </tr>\n",
       "    <tr>\n",
       "      <th>98984</th>\n",
       "      <td>99.984</td>\n",
       "      <td>6.193482e+01</td>\n",
       "    </tr>\n",
       "    <tr>\n",
       "      <th>98985</th>\n",
       "      <td>99.985</td>\n",
       "      <td>6.193582e+01</td>\n",
       "    </tr>\n",
       "    <tr>\n",
       "      <th>98986</th>\n",
       "      <td>99.986</td>\n",
       "      <td>6.193682e+01</td>\n",
       "    </tr>\n",
       "    <tr>\n",
       "      <th>98987</th>\n",
       "      <td>99.987</td>\n",
       "      <td>6.193782e+01</td>\n",
       "    </tr>\n",
       "    <tr>\n",
       "      <th>98988</th>\n",
       "      <td>99.988</td>\n",
       "      <td>6.193882e+01</td>\n",
       "    </tr>\n",
       "    <tr>\n",
       "      <th>98989</th>\n",
       "      <td>99.989</td>\n",
       "      <td>6.193982e+01</td>\n",
       "    </tr>\n",
       "    <tr>\n",
       "      <th>98990</th>\n",
       "      <td>99.990</td>\n",
       "      <td>6.194082e+01</td>\n",
       "    </tr>\n",
       "    <tr>\n",
       "      <th>98991</th>\n",
       "      <td>99.991</td>\n",
       "      <td>6.194182e+01</td>\n",
       "    </tr>\n",
       "    <tr>\n",
       "      <th>98992</th>\n",
       "      <td>99.992</td>\n",
       "      <td>6.194282e+01</td>\n",
       "    </tr>\n",
       "    <tr>\n",
       "      <th>98993</th>\n",
       "      <td>99.993</td>\n",
       "      <td>6.194382e+01</td>\n",
       "    </tr>\n",
       "    <tr>\n",
       "      <th>98994</th>\n",
       "      <td>99.994</td>\n",
       "      <td>6.194482e+01</td>\n",
       "    </tr>\n",
       "    <tr>\n",
       "      <th>98995</th>\n",
       "      <td>99.995</td>\n",
       "      <td>6.194582e+01</td>\n",
       "    </tr>\n",
       "    <tr>\n",
       "      <th>98996</th>\n",
       "      <td>99.996</td>\n",
       "      <td>6.194682e+01</td>\n",
       "    </tr>\n",
       "    <tr>\n",
       "      <th>98997</th>\n",
       "      <td>99.997</td>\n",
       "      <td>6.194782e+01</td>\n",
       "    </tr>\n",
       "    <tr>\n",
       "      <th>98998</th>\n",
       "      <td>99.998</td>\n",
       "      <td>6.194882e+01</td>\n",
       "    </tr>\n",
       "    <tr>\n",
       "      <th>98999</th>\n",
       "      <td>99.999</td>\n",
       "      <td>6.194982e+01</td>\n",
       "    </tr>\n",
       "  </tbody>\n",
       "</table>\n",
       "<p>99000 rows × 2 columns</p>\n",
       "</div>"
      ],
      "text/plain": [
       "            S          Value\n",
       "0       1.000  8.922862e-148\n",
       "1       1.001  1.071336e-147\n",
       "2       1.002  1.286016e-147\n",
       "3       1.003  1.543357e-147\n",
       "4       1.004  1.851765e-147\n",
       "5       1.005  2.221289e-147\n",
       "6       1.006  2.663939e-147\n",
       "7       1.007  3.194065e-147\n",
       "8       1.008  3.828808e-147\n",
       "9       1.009  4.588641e-147\n",
       "10      1.010  5.498010e-147\n",
       "11      1.011  6.586095e-147\n",
       "12      1.012  7.887725e-147\n",
       "13      1.013  9.444458e-147\n",
       "14      1.014  1.130587e-146\n",
       "15      1.015  1.353110e-146\n",
       "16      1.016  1.619064e-146\n",
       "17      1.017  1.936857e-146\n",
       "18      1.018  2.316507e-146\n",
       "19      1.019  2.769954e-146\n",
       "20      1.020  3.311421e-146\n",
       "21      1.021  3.957852e-146\n",
       "22      1.022  4.729422e-146\n",
       "23      1.023  5.650153e-146\n",
       "24      1.024  6.748639e-146\n",
       "25      1.025  8.058909e-146\n",
       "26      1.026  9.621451e-146\n",
       "27      1.027  1.148443e-145\n",
       "28      1.028  1.370512e-145\n",
       "29      1.029  1.635163e-145\n",
       "...       ...            ...\n",
       "98970  99.970   6.192082e+01\n",
       "98971  99.971   6.192182e+01\n",
       "98972  99.972   6.192282e+01\n",
       "98973  99.973   6.192382e+01\n",
       "98974  99.974   6.192482e+01\n",
       "98975  99.975   6.192582e+01\n",
       "98976  99.976   6.192682e+01\n",
       "98977  99.977   6.192782e+01\n",
       "98978  99.978   6.192882e+01\n",
       "98979  99.979   6.192982e+01\n",
       "98980  99.980   6.193082e+01\n",
       "98981  99.981   6.193182e+01\n",
       "98982  99.982   6.193282e+01\n",
       "98983  99.983   6.193382e+01\n",
       "98984  99.984   6.193482e+01\n",
       "98985  99.985   6.193582e+01\n",
       "98986  99.986   6.193682e+01\n",
       "98987  99.987   6.193782e+01\n",
       "98988  99.988   6.193882e+01\n",
       "98989  99.989   6.193982e+01\n",
       "98990  99.990   6.194082e+01\n",
       "98991  99.991   6.194182e+01\n",
       "98992  99.992   6.194282e+01\n",
       "98993  99.993   6.194382e+01\n",
       "98994  99.994   6.194482e+01\n",
       "98995  99.995   6.194582e+01\n",
       "98996  99.996   6.194682e+01\n",
       "98997  99.997   6.194782e+01\n",
       "98998  99.998   6.194882e+01\n",
       "98999  99.999   6.194982e+01\n",
       "\n",
       "[99000 rows x 2 columns]"
      ]
     },
     "execution_count": 540,
     "metadata": {},
     "output_type": "execute_result"
    }
   ],
   "source": [
    "optionDF"
   ]
  },
  {
   "cell_type": "code",
   "execution_count": 541,
   "metadata": {},
   "outputs": [
    {
     "data": {
      "image/png": "[encoded data removed]",
      "text/plain": [
       "<Figure size 504x504 with 1 Axes>"
      ]
     },
     "metadata": {
      "needs_background": "light"
     },
     "output_type": "display_data"
    }
   ],
   "source": [
    "plt.rcParams['figure.figsize'] = [7, 7] # This controls the picture size\n",
    "fig, ax = plt.subplots()\n",
    "ax.plot(optionDF['S'][lower:upper],optionDF['Value'][lower:upper])\n",
    "#ax.plot()\n",
    "ax.set(xlabel='underlying price', ylabel='option value',\n",
    "       title='Call option value as function of current price')\n",
    "ax.grid()\n",
    "\n",
    "fig.savefig(\"test.png\")\n",
    "plt.show()"
   ]
  },
  {
   "cell_type": "code",
   "execution_count": 632,
   "metadata": {},
   "outputs": [
    {
     "data": {
      "text/html": [
       "<div>\n",
       "<style scoped>\n",
       "    .dataframe tbody tr th:only-of-type {\n",
       "        vertical-align: middle;\n",
       "    }\n",
       "\n",
       "    .dataframe tbody tr th {\n",
       "        vertical-align: top;\n",
       "    }\n",
       "\n",
       "    .dataframe thead th {\n",
       "        text-align: right;\n",
       "    }\n",
       "</style>\n",
       "<table border=\"1\" class=\"dataframe\">\n",
       "  <thead>\n",
       "    <tr style=\"text-align: right;\">\n",
       "      <th></th>\n",
       "      <th>S</th>\n",
       "      <th>Value</th>\n",
       "    </tr>\n",
       "  </thead>\n",
       "  <tbody>\n",
       "    <tr>\n",
       "      <th>41000</th>\n",
       "      <td>42.0</td>\n",
       "      <td>4.759422</td>\n",
       "    </tr>\n",
       "  </tbody>\n",
       "</table>\n",
       "</div>"
      ],
      "text/plain": [
       "          S     Value\n",
       "41000  42.0  4.759422"
      ]
     },
     "execution_count": 632,
     "metadata": {},
     "output_type": "execute_result"
    }
   ],
   "source": [
    "#optionDF.loc[['S']==42.0 ] #    [(S=37):(S=47)]\n",
    "\n",
    "optionDF.loc[round(optionDF['S'],5)==42]"
   ]
  },
  {
   "cell_type": "code",
   "execution_count": 573,
   "metadata": {},
   "outputs": [
    {
     "data": {
      "text/html": [
       "<div>\n",
       "<style scoped>\n",
       "    .dataframe tbody tr th:only-of-type {\n",
       "        vertical-align: middle;\n",
       "    }\n",
       "\n",
       "    .dataframe tbody tr th {\n",
       "        vertical-align: top;\n",
       "    }\n",
       "\n",
       "    .dataframe thead th {\n",
       "        text-align: right;\n",
       "    }\n",
       "</style>\n",
       "<table border=\"1\" class=\"dataframe\">\n",
       "  <thead>\n",
       "    <tr style=\"text-align: right;\">\n",
       "      <th></th>\n",
       "      <th>S</th>\n",
       "      <th>Value</th>\n",
       "    </tr>\n",
       "  </thead>\n",
       "  <tbody>\n",
       "    <tr>\n",
       "      <th>0</th>\n",
       "      <td>1.0</td>\n",
       "      <td>8.922862e-148</td>\n",
       "    </tr>\n",
       "  </tbody>\n",
       "</table>\n",
       "</div>"
      ],
      "text/plain": [
       "     S          Value\n",
       "0  1.0  8.922862e-148"
      ]
     },
     "execution_count": 573,
     "metadata": {},
     "output_type": "execute_result"
    }
   ],
   "source": [
    "optionDF.loc[optionDF['S']==1]"
   ]
  },
  {
   "cell_type": "code",
   "execution_count": 542,
   "metadata": {},
   "outputs": [
    {
     "data": {
      "text/plain": [
       "RangeIndex(start=0, stop=99000, step=1)"
      ]
     },
     "execution_count": 542,
     "metadata": {},
     "output_type": "execute_result"
    }
   ],
   "source": [
    "optionDF.index"
   ]
  },
  {
   "cell_type": "code",
   "execution_count": 578,
   "metadata": {},
   "outputs": [
    {
     "data": {
      "text/plain": [
       "Index(['S', 'Value'], dtype='object')"
      ]
     },
     "execution_count": 578,
     "metadata": {},
     "output_type": "execute_result"
    }
   ],
   "source": [
    "optionDF.columns"
   ]
  },
  {
   "cell_type": "code",
   "execution_count": 589,
   "metadata": {},
   "outputs": [
    {
     "data": {
      "text/plain": [
       "4.759422392868014"
      ]
     },
     "execution_count": 589,
     "metadata": {},
     "output_type": "execute_result"
    }
   ],
   "source": [
    "optionDF.iloc[41000]['Value']"
   ]
  },
  {
   "cell_type": "code",
   "execution_count": 627,
   "metadata": {},
   "outputs": [
    {
     "data": {
      "text/plain": [
       "41.99999999999548"
      ]
     },
     "execution_count": 627,
     "metadata": {},
     "output_type": "execute_result"
    }
   ],
   "source": [
    "optionDF.iloc[41000]['S']"
   ]
  },
  {
   "cell_type": "code",
   "execution_count": 639,
   "metadata": {
    "scrolled": true
   },
   "outputs": [
    {
     "data": {
      "text/html": [
       "<div>\n",
       "<style scoped>\n",
       "    .dataframe tbody tr th:only-of-type {\n",
       "        vertical-align: middle;\n",
       "    }\n",
       "\n",
       "    .dataframe tbody tr th {\n",
       "        vertical-align: top;\n",
       "    }\n",
       "\n",
       "    .dataframe thead th {\n",
       "        text-align: right;\n",
       "    }\n",
       "</style>\n",
       "<table border=\"1\" class=\"dataframe\">\n",
       "  <thead>\n",
       "    <tr style=\"text-align: right;\">\n",
       "      <th></th>\n",
       "      <th>S</th>\n",
       "      <th>Value</th>\n",
       "    </tr>\n",
       "  </thead>\n",
       "  <tbody>\n",
       "    <tr>\n",
       "      <th>0</th>\n",
       "      <td>1.0</td>\n",
       "      <td>8.922862e-148</td>\n",
       "    </tr>\n",
       "  </tbody>\n",
       "</table>\n",
       "</div>"
      ],
      "text/plain": [
       "     S          Value\n",
       "0  1.0  8.922862e-148"
      ]
     },
     "execution_count": 639,
     "metadata": {},
     "output_type": "execute_result"
    }
   ],
   "source": [
    "optionDF.loc[optionDF.S==1]"
   ]
  },
  {
   "cell_type": "code",
   "execution_count": 599,
   "metadata": {
    "scrolled": true
   },
   "outputs": [
    {
     "data": {
      "text/plain": [
       "0        8.922862e-148\n",
       "1        1.071336e-147\n",
       "2        1.286016e-147\n",
       "3        1.543357e-147\n",
       "4        1.851765e-147\n",
       "5        2.221289e-147\n",
       "6        2.663939e-147\n",
       "7        3.194065e-147\n",
       "8        3.828808e-147\n",
       "9        4.588641e-147\n",
       "10       5.498010e-147\n",
       "11       6.586095e-147\n",
       "12       7.887725e-147\n",
       "13       9.444458e-147\n",
       "14       1.130587e-146\n",
       "15       1.353110e-146\n",
       "16       1.619064e-146\n",
       "17       1.936857e-146\n",
       "18       2.316507e-146\n",
       "19       2.769954e-146\n",
       "20       3.311421e-146\n",
       "21       3.957852e-146\n",
       "22       4.729422e-146\n",
       "23       5.650153e-146\n",
       "24       6.748639e-146\n",
       "25       8.058909e-146\n",
       "26       9.621451e-146\n",
       "27       1.148443e-145\n",
       "28       1.370512e-145\n",
       "29       1.635163e-145\n",
       "             ...      \n",
       "98970     6.192082e+01\n",
       "98971     6.192182e+01\n",
       "98972     6.192282e+01\n",
       "98973     6.192382e+01\n",
       "98974     6.192482e+01\n",
       "98975     6.192582e+01\n",
       "98976     6.192682e+01\n",
       "98977     6.192782e+01\n",
       "98978     6.192882e+01\n",
       "98979     6.192982e+01\n",
       "98980     6.193082e+01\n",
       "98981     6.193182e+01\n",
       "98982     6.193282e+01\n",
       "98983     6.193382e+01\n",
       "98984     6.193482e+01\n",
       "98985     6.193582e+01\n",
       "98986     6.193682e+01\n",
       "98987     6.193782e+01\n",
       "98988     6.193882e+01\n",
       "98989     6.193982e+01\n",
       "98990     6.194082e+01\n",
       "98991     6.194182e+01\n",
       "98992     6.194282e+01\n",
       "98993     6.194382e+01\n",
       "98994     6.194482e+01\n",
       "98995     6.194582e+01\n",
       "98996     6.194682e+01\n",
       "98997     6.194782e+01\n",
       "98998     6.194882e+01\n",
       "98999     6.194982e+01\n",
       "Name: Value, Length: 99000, dtype: float64"
      ]
     },
     "execution_count": 599,
     "metadata": {},
     "output_type": "execute_result"
    }
   ],
   "source": [
    "optionDF['Value']"
   ]
  },
  {
   "cell_type": "code",
   "execution_count": 635,
   "metadata": {},
   "outputs": [
    {
     "ename": "KeyError",
     "evalue": "True",
     "output_type": "error",
     "traceback": [
      "\u001b[1;31m---------------------------------------------------------------------------\u001b[0m",
      "\u001b[1;31mKeyError\u001b[0m                                  Traceback (most recent call last)",
      "\u001b[1;32m~\\AppData\\Local\\conda\\conda\\envs\\tensorflow\\lib\\site-packages\\pandas\\core\\indexes\\base.py\u001b[0m in \u001b[0;36mget_loc\u001b[1;34m(self, key, method, tolerance)\u001b[0m\n\u001b[0;32m   3077\u001b[0m             \u001b[1;32mtry\u001b[0m\u001b[1;33m:\u001b[0m\u001b[1;33m\u001b[0m\u001b[1;33m\u001b[0m\u001b[0m\n\u001b[1;32m-> 3078\u001b[1;33m                 \u001b[1;32mreturn\u001b[0m \u001b[0mself\u001b[0m\u001b[1;33m.\u001b[0m\u001b[0m_engine\u001b[0m\u001b[1;33m.\u001b[0m\u001b[0mget_loc\u001b[0m\u001b[1;33m(\u001b[0m\u001b[0mkey\u001b[0m\u001b[1;33m)\u001b[0m\u001b[1;33m\u001b[0m\u001b[1;33m\u001b[0m\u001b[0m\n\u001b[0m\u001b[0;32m   3079\u001b[0m             \u001b[1;32mexcept\u001b[0m \u001b[0mKeyError\u001b[0m\u001b[1;33m:\u001b[0m\u001b[1;33m\u001b[0m\u001b[1;33m\u001b[0m\u001b[0m\n",
      "\u001b[1;32mpandas\\_libs\\index.pyx\u001b[0m in \u001b[0;36mpandas._libs.index.IndexEngine.get_loc\u001b[1;34m()\u001b[0m\n",
      "\u001b[1;32mpandas\\_libs\\index.pyx\u001b[0m in \u001b[0;36mpandas._libs.index.IndexEngine.get_loc\u001b[1;34m()\u001b[0m\n",
      "\u001b[1;32mpandas\\_libs\\hashtable_class_helper.pxi\u001b[0m in \u001b[0;36mpandas._libs.hashtable.PyObjectHashTable.get_item\u001b[1;34m()\u001b[0m\n",
      "\u001b[1;32mpandas\\_libs\\hashtable_class_helper.pxi\u001b[0m in \u001b[0;36mpandas._libs.hashtable.PyObjectHashTable.get_item\u001b[1;34m()\u001b[0m\n",
      "\u001b[1;31mKeyError\u001b[0m: True",
      "\nDuring handling of the above exception, another exception occurred:\n",
      "\u001b[1;31mKeyError\u001b[0m                                  Traceback (most recent call last)",
      "\u001b[1;32m<ipython-input-635-5f900fddf25e>\u001b[0m in \u001b[0;36m<module>\u001b[1;34m\u001b[0m\n\u001b[1;32m----> 1\u001b[1;33m \u001b[0moptionDF\u001b[0m\u001b[1;33m.\u001b[0m\u001b[0mloc\u001b[0m\u001b[1;33m[\u001b[0m\u001b[0moptionDF\u001b[0m\u001b[1;33m[\u001b[0m\u001b[0mS\u001b[0m\u001b[1;33m>\u001b[0m\u001b[1;36m41.000\u001b[0m\u001b[1;33m]\u001b[0m\u001b[1;33m]\u001b[0m\u001b[1;33m[\u001b[0m\u001b[1;34m'Value'\u001b[0m\u001b[1;33m]\u001b[0m\u001b[1;33m\u001b[0m\u001b[1;33m\u001b[0m\u001b[0m\n\u001b[0m",
      "\u001b[1;32m~\\AppData\\Local\\conda\\conda\\envs\\tensorflow\\lib\\site-packages\\pandas\\core\\frame.py\u001b[0m in \u001b[0;36m__getitem__\u001b[1;34m(self, key)\u001b[0m\n\u001b[0;32m   2686\u001b[0m             \u001b[1;32mreturn\u001b[0m \u001b[0mself\u001b[0m\u001b[1;33m.\u001b[0m\u001b[0m_getitem_multilevel\u001b[0m\u001b[1;33m(\u001b[0m\u001b[0mkey\u001b[0m\u001b[1;33m)\u001b[0m\u001b[1;33m\u001b[0m\u001b[1;33m\u001b[0m\u001b[0m\n\u001b[0;32m   2687\u001b[0m         \u001b[1;32melse\u001b[0m\u001b[1;33m:\u001b[0m\u001b[1;33m\u001b[0m\u001b[1;33m\u001b[0m\u001b[0m\n\u001b[1;32m-> 2688\u001b[1;33m             \u001b[1;32mreturn\u001b[0m \u001b[0mself\u001b[0m\u001b[1;33m.\u001b[0m\u001b[0m_getitem_column\u001b[0m\u001b[1;33m(\u001b[0m\u001b[0mkey\u001b[0m\u001b[1;33m)\u001b[0m\u001b[1;33m\u001b[0m\u001b[1;33m\u001b[0m\u001b[0m\n\u001b[0m\u001b[0;32m   2689\u001b[0m \u001b[1;33m\u001b[0m\u001b[0m\n\u001b[0;32m   2690\u001b[0m     \u001b[1;32mdef\u001b[0m \u001b[0m_getitem_column\u001b[0m\u001b[1;33m(\u001b[0m\u001b[0mself\u001b[0m\u001b[1;33m,\u001b[0m \u001b[0mkey\u001b[0m\u001b[1;33m)\u001b[0m\u001b[1;33m:\u001b[0m\u001b[1;33m\u001b[0m\u001b[1;33m\u001b[0m\u001b[0m\n",
      "\u001b[1;32m~\\AppData\\Local\\conda\\conda\\envs\\tensorflow\\lib\\site-packages\\pandas\\core\\frame.py\u001b[0m in \u001b[0;36m_getitem_column\u001b[1;34m(self, key)\u001b[0m\n\u001b[0;32m   2693\u001b[0m         \u001b[1;31m# get column\u001b[0m\u001b[1;33m\u001b[0m\u001b[1;33m\u001b[0m\u001b[1;33m\u001b[0m\u001b[0m\n\u001b[0;32m   2694\u001b[0m         \u001b[1;32mif\u001b[0m \u001b[0mself\u001b[0m\u001b[1;33m.\u001b[0m\u001b[0mcolumns\u001b[0m\u001b[1;33m.\u001b[0m\u001b[0mis_unique\u001b[0m\u001b[1;33m:\u001b[0m\u001b[1;33m\u001b[0m\u001b[1;33m\u001b[0m\u001b[0m\n\u001b[1;32m-> 2695\u001b[1;33m             \u001b[1;32mreturn\u001b[0m \u001b[0mself\u001b[0m\u001b[1;33m.\u001b[0m\u001b[0m_get_item_cache\u001b[0m\u001b[1;33m(\u001b[0m\u001b[0mkey\u001b[0m\u001b[1;33m)\u001b[0m\u001b[1;33m\u001b[0m\u001b[1;33m\u001b[0m\u001b[0m\n\u001b[0m\u001b[0;32m   2696\u001b[0m \u001b[1;33m\u001b[0m\u001b[0m\n\u001b[0;32m   2697\u001b[0m         \u001b[1;31m# duplicate columns & possible reduce dimensionality\u001b[0m\u001b[1;33m\u001b[0m\u001b[1;33m\u001b[0m\u001b[1;33m\u001b[0m\u001b[0m\n",
      "\u001b[1;32m~\\AppData\\Local\\conda\\conda\\envs\\tensorflow\\lib\\site-packages\\pandas\\core\\generic.py\u001b[0m in \u001b[0;36m_get_item_cache\u001b[1;34m(self, item)\u001b[0m\n\u001b[0;32m   2487\u001b[0m         \u001b[0mres\u001b[0m \u001b[1;33m=\u001b[0m \u001b[0mcache\u001b[0m\u001b[1;33m.\u001b[0m\u001b[0mget\u001b[0m\u001b[1;33m(\u001b[0m\u001b[0mitem\u001b[0m\u001b[1;33m)\u001b[0m\u001b[1;33m\u001b[0m\u001b[1;33m\u001b[0m\u001b[0m\n\u001b[0;32m   2488\u001b[0m         \u001b[1;32mif\u001b[0m \u001b[0mres\u001b[0m \u001b[1;32mis\u001b[0m \u001b[1;32mNone\u001b[0m\u001b[1;33m:\u001b[0m\u001b[1;33m\u001b[0m\u001b[1;33m\u001b[0m\u001b[0m\n\u001b[1;32m-> 2489\u001b[1;33m             \u001b[0mvalues\u001b[0m \u001b[1;33m=\u001b[0m \u001b[0mself\u001b[0m\u001b[1;33m.\u001b[0m\u001b[0m_data\u001b[0m\u001b[1;33m.\u001b[0m\u001b[0mget\u001b[0m\u001b[1;33m(\u001b[0m\u001b[0mitem\u001b[0m\u001b[1;33m)\u001b[0m\u001b[1;33m\u001b[0m\u001b[1;33m\u001b[0m\u001b[0m\n\u001b[0m\u001b[0;32m   2490\u001b[0m             \u001b[0mres\u001b[0m \u001b[1;33m=\u001b[0m \u001b[0mself\u001b[0m\u001b[1;33m.\u001b[0m\u001b[0m_box_item_values\u001b[0m\u001b[1;33m(\u001b[0m\u001b[0mitem\u001b[0m\u001b[1;33m,\u001b[0m \u001b[0mvalues\u001b[0m\u001b[1;33m)\u001b[0m\u001b[1;33m\u001b[0m\u001b[1;33m\u001b[0m\u001b[0m\n\u001b[0;32m   2491\u001b[0m             \u001b[0mcache\u001b[0m\u001b[1;33m[\u001b[0m\u001b[0mitem\u001b[0m\u001b[1;33m]\u001b[0m \u001b[1;33m=\u001b[0m \u001b[0mres\u001b[0m\u001b[1;33m\u001b[0m\u001b[1;33m\u001b[0m\u001b[0m\n",
      "\u001b[1;32m~\\AppData\\Local\\conda\\conda\\envs\\tensorflow\\lib\\site-packages\\pandas\\core\\internals.py\u001b[0m in \u001b[0;36mget\u001b[1;34m(self, item, fastpath)\u001b[0m\n\u001b[0;32m   4113\u001b[0m \u001b[1;33m\u001b[0m\u001b[0m\n\u001b[0;32m   4114\u001b[0m             \u001b[1;32mif\u001b[0m \u001b[1;32mnot\u001b[0m \u001b[0misna\u001b[0m\u001b[1;33m(\u001b[0m\u001b[0mitem\u001b[0m\u001b[1;33m)\u001b[0m\u001b[1;33m:\u001b[0m\u001b[1;33m\u001b[0m\u001b[1;33m\u001b[0m\u001b[0m\n\u001b[1;32m-> 4115\u001b[1;33m                 \u001b[0mloc\u001b[0m \u001b[1;33m=\u001b[0m \u001b[0mself\u001b[0m\u001b[1;33m.\u001b[0m\u001b[0mitems\u001b[0m\u001b[1;33m.\u001b[0m\u001b[0mget_loc\u001b[0m\u001b[1;33m(\u001b[0m\u001b[0mitem\u001b[0m\u001b[1;33m)\u001b[0m\u001b[1;33m\u001b[0m\u001b[1;33m\u001b[0m\u001b[0m\n\u001b[0m\u001b[0;32m   4116\u001b[0m             \u001b[1;32melse\u001b[0m\u001b[1;33m:\u001b[0m\u001b[1;33m\u001b[0m\u001b[1;33m\u001b[0m\u001b[0m\n\u001b[0;32m   4117\u001b[0m                 \u001b[0mindexer\u001b[0m \u001b[1;33m=\u001b[0m \u001b[0mnp\u001b[0m\u001b[1;33m.\u001b[0m\u001b[0marange\u001b[0m\u001b[1;33m(\u001b[0m\u001b[0mlen\u001b[0m\u001b[1;33m(\u001b[0m\u001b[0mself\u001b[0m\u001b[1;33m.\u001b[0m\u001b[0mitems\u001b[0m\u001b[1;33m)\u001b[0m\u001b[1;33m)\u001b[0m\u001b[1;33m[\u001b[0m\u001b[0misna\u001b[0m\u001b[1;33m(\u001b[0m\u001b[0mself\u001b[0m\u001b[1;33m.\u001b[0m\u001b[0mitems\u001b[0m\u001b[1;33m)\u001b[0m\u001b[1;33m]\u001b[0m\u001b[1;33m\u001b[0m\u001b[1;33m\u001b[0m\u001b[0m\n",
      "\u001b[1;32m~\\AppData\\Local\\conda\\conda\\envs\\tensorflow\\lib\\site-packages\\pandas\\core\\indexes\\base.py\u001b[0m in \u001b[0;36mget_loc\u001b[1;34m(self, key, method, tolerance)\u001b[0m\n\u001b[0;32m   3078\u001b[0m                 \u001b[1;32mreturn\u001b[0m \u001b[0mself\u001b[0m\u001b[1;33m.\u001b[0m\u001b[0m_engine\u001b[0m\u001b[1;33m.\u001b[0m\u001b[0mget_loc\u001b[0m\u001b[1;33m(\u001b[0m\u001b[0mkey\u001b[0m\u001b[1;33m)\u001b[0m\u001b[1;33m\u001b[0m\u001b[1;33m\u001b[0m\u001b[0m\n\u001b[0;32m   3079\u001b[0m             \u001b[1;32mexcept\u001b[0m \u001b[0mKeyError\u001b[0m\u001b[1;33m:\u001b[0m\u001b[1;33m\u001b[0m\u001b[1;33m\u001b[0m\u001b[0m\n\u001b[1;32m-> 3080\u001b[1;33m                 \u001b[1;32mreturn\u001b[0m \u001b[0mself\u001b[0m\u001b[1;33m.\u001b[0m\u001b[0m_engine\u001b[0m\u001b[1;33m.\u001b[0m\u001b[0mget_loc\u001b[0m\u001b[1;33m(\u001b[0m\u001b[0mself\u001b[0m\u001b[1;33m.\u001b[0m\u001b[0m_maybe_cast_indexer\u001b[0m\u001b[1;33m(\u001b[0m\u001b[0mkey\u001b[0m\u001b[1;33m)\u001b[0m\u001b[1;33m)\u001b[0m\u001b[1;33m\u001b[0m\u001b[1;33m\u001b[0m\u001b[0m\n\u001b[0m\u001b[0;32m   3081\u001b[0m \u001b[1;33m\u001b[0m\u001b[0m\n\u001b[0;32m   3082\u001b[0m         \u001b[0mindexer\u001b[0m \u001b[1;33m=\u001b[0m \u001b[0mself\u001b[0m\u001b[1;33m.\u001b[0m\u001b[0mget_indexer\u001b[0m\u001b[1;33m(\u001b[0m\u001b[1;33m[\u001b[0m\u001b[0mkey\u001b[0m\u001b[1;33m]\u001b[0m\u001b[1;33m,\u001b[0m \u001b[0mmethod\u001b[0m\u001b[1;33m=\u001b[0m\u001b[0mmethod\u001b[0m\u001b[1;33m,\u001b[0m \u001b[0mtolerance\u001b[0m\u001b[1;33m=\u001b[0m\u001b[0mtolerance\u001b[0m\u001b[1;33m)\u001b[0m\u001b[1;33m\u001b[0m\u001b[1;33m\u001b[0m\u001b[0m\n",
      "\u001b[1;32mpandas\\_libs\\index.pyx\u001b[0m in \u001b[0;36mpandas._libs.index.IndexEngine.get_loc\u001b[1;34m()\u001b[0m\n",
      "\u001b[1;32mpandas\\_libs\\index.pyx\u001b[0m in \u001b[0;36mpandas._libs.index.IndexEngine.get_loc\u001b[1;34m()\u001b[0m\n",
      "\u001b[1;32mpandas\\_libs\\hashtable_class_helper.pxi\u001b[0m in \u001b[0;36mpandas._libs.hashtable.PyObjectHashTable.get_item\u001b[1;34m()\u001b[0m\n",
      "\u001b[1;32mpandas\\_libs\\hashtable_class_helper.pxi\u001b[0m in \u001b[0;36mpandas._libs.hashtable.PyObjectHashTable.get_item\u001b[1;34m()\u001b[0m\n",
      "\u001b[1;31mKeyError\u001b[0m: True"
     ]
    }
   ],
   "source": [
    "optionDF.loc[optionDF[S>41.000]]['Value']"
   ]
  },
  {
   "cell_type": "code",
   "execution_count": 543,
   "metadata": {},
   "outputs": [
    {
     "data": {
      "text/plain": [
       "S        float64\n",
       "Value    float64\n",
       "dtype: object"
      ]
     },
     "execution_count": 543,
     "metadata": {},
     "output_type": "execute_result"
    }
   ],
   "source": [
    "optionDF.dtypes"
   ]
  },
  {
   "cell_type": "code",
   "execution_count": 546,
   "metadata": {
    "scrolled": true
   },
   "outputs": [
    {
     "data": {
      "text/html": [
       "<div>\n",
       "<style scoped>\n",
       "    .dataframe tbody tr th:only-of-type {\n",
       "        vertical-align: middle;\n",
       "    }\n",
       "\n",
       "    .dataframe tbody tr th {\n",
       "        vertical-align: top;\n",
       "    }\n",
       "\n",
       "    .dataframe thead th {\n",
       "        text-align: right;\n",
       "    }\n",
       "</style>\n",
       "<table border=\"1\" class=\"dataframe\">\n",
       "  <thead>\n",
       "    <tr style=\"text-align: right;\">\n",
       "      <th></th>\n",
       "      <th>S</th>\n",
       "      <th>Value</th>\n",
       "    </tr>\n",
       "  </thead>\n",
       "  <tbody>\n",
       "    <tr>\n",
       "      <th>0</th>\n",
       "      <td>1.000</td>\n",
       "      <td>8.922862e-148</td>\n",
       "    </tr>\n",
       "    <tr>\n",
       "      <th>1</th>\n",
       "      <td>1.001</td>\n",
       "      <td>1.071336e-147</td>\n",
       "    </tr>\n",
       "    <tr>\n",
       "      <th>2</th>\n",
       "      <td>1.002</td>\n",
       "      <td>1.286016e-147</td>\n",
       "    </tr>\n",
       "    <tr>\n",
       "      <th>3</th>\n",
       "      <td>1.003</td>\n",
       "      <td>1.543357e-147</td>\n",
       "    </tr>\n",
       "    <tr>\n",
       "      <th>4</th>\n",
       "      <td>1.004</td>\n",
       "      <td>1.851765e-147</td>\n",
       "    </tr>\n",
       "    <tr>\n",
       "      <th>5</th>\n",
       "      <td>1.005</td>\n",
       "      <td>2.221289e-147</td>\n",
       "    </tr>\n",
       "    <tr>\n",
       "      <th>6</th>\n",
       "      <td>1.006</td>\n",
       "      <td>2.663939e-147</td>\n",
       "    </tr>\n",
       "    <tr>\n",
       "      <th>7</th>\n",
       "      <td>1.007</td>\n",
       "      <td>3.194065e-147</td>\n",
       "    </tr>\n",
       "    <tr>\n",
       "      <th>8</th>\n",
       "      <td>1.008</td>\n",
       "      <td>3.828808e-147</td>\n",
       "    </tr>\n",
       "    <tr>\n",
       "      <th>9</th>\n",
       "      <td>1.009</td>\n",
       "      <td>4.588641e-147</td>\n",
       "    </tr>\n",
       "    <tr>\n",
       "      <th>10</th>\n",
       "      <td>1.010</td>\n",
       "      <td>5.498010e-147</td>\n",
       "    </tr>\n",
       "    <tr>\n",
       "      <th>11</th>\n",
       "      <td>1.011</td>\n",
       "      <td>6.586095e-147</td>\n",
       "    </tr>\n",
       "    <tr>\n",
       "      <th>12</th>\n",
       "      <td>1.012</td>\n",
       "      <td>7.887725e-147</td>\n",
       "    </tr>\n",
       "    <tr>\n",
       "      <th>13</th>\n",
       "      <td>1.013</td>\n",
       "      <td>9.444458e-147</td>\n",
       "    </tr>\n",
       "    <tr>\n",
       "      <th>14</th>\n",
       "      <td>1.014</td>\n",
       "      <td>1.130587e-146</td>\n",
       "    </tr>\n",
       "    <tr>\n",
       "      <th>15</th>\n",
       "      <td>1.015</td>\n",
       "      <td>1.353110e-146</td>\n",
       "    </tr>\n",
       "    <tr>\n",
       "      <th>16</th>\n",
       "      <td>1.016</td>\n",
       "      <td>1.619064e-146</td>\n",
       "    </tr>\n",
       "    <tr>\n",
       "      <th>17</th>\n",
       "      <td>1.017</td>\n",
       "      <td>1.936857e-146</td>\n",
       "    </tr>\n",
       "    <tr>\n",
       "      <th>18</th>\n",
       "      <td>1.018</td>\n",
       "      <td>2.316507e-146</td>\n",
       "    </tr>\n",
       "    <tr>\n",
       "      <th>19</th>\n",
       "      <td>1.019</td>\n",
       "      <td>2.769954e-146</td>\n",
       "    </tr>\n",
       "    <tr>\n",
       "      <th>20</th>\n",
       "      <td>1.020</td>\n",
       "      <td>3.311421e-146</td>\n",
       "    </tr>\n",
       "    <tr>\n",
       "      <th>21</th>\n",
       "      <td>1.021</td>\n",
       "      <td>3.957852e-146</td>\n",
       "    </tr>\n",
       "    <tr>\n",
       "      <th>22</th>\n",
       "      <td>1.022</td>\n",
       "      <td>4.729422e-146</td>\n",
       "    </tr>\n",
       "    <tr>\n",
       "      <th>23</th>\n",
       "      <td>1.023</td>\n",
       "      <td>5.650153e-146</td>\n",
       "    </tr>\n",
       "    <tr>\n",
       "      <th>24</th>\n",
       "      <td>1.024</td>\n",
       "      <td>6.748639e-146</td>\n",
       "    </tr>\n",
       "    <tr>\n",
       "      <th>25</th>\n",
       "      <td>1.025</td>\n",
       "      <td>8.058909e-146</td>\n",
       "    </tr>\n",
       "    <tr>\n",
       "      <th>26</th>\n",
       "      <td>1.026</td>\n",
       "      <td>9.621451e-146</td>\n",
       "    </tr>\n",
       "    <tr>\n",
       "      <th>27</th>\n",
       "      <td>1.027</td>\n",
       "      <td>1.148443e-145</td>\n",
       "    </tr>\n",
       "    <tr>\n",
       "      <th>28</th>\n",
       "      <td>1.028</td>\n",
       "      <td>1.370512e-145</td>\n",
       "    </tr>\n",
       "    <tr>\n",
       "      <th>29</th>\n",
       "      <td>1.029</td>\n",
       "      <td>1.635163e-145</td>\n",
       "    </tr>\n",
       "    <tr>\n",
       "      <th>...</th>\n",
       "      <td>...</td>\n",
       "      <td>...</td>\n",
       "    </tr>\n",
       "    <tr>\n",
       "      <th>98970</th>\n",
       "      <td>99.970</td>\n",
       "      <td>6.192082e+01</td>\n",
       "    </tr>\n",
       "    <tr>\n",
       "      <th>98971</th>\n",
       "      <td>99.971</td>\n",
       "      <td>6.192182e+01</td>\n",
       "    </tr>\n",
       "    <tr>\n",
       "      <th>98972</th>\n",
       "      <td>99.972</td>\n",
       "      <td>6.192282e+01</td>\n",
       "    </tr>\n",
       "    <tr>\n",
       "      <th>98973</th>\n",
       "      <td>99.973</td>\n",
       "      <td>6.192382e+01</td>\n",
       "    </tr>\n",
       "    <tr>\n",
       "      <th>98974</th>\n",
       "      <td>99.974</td>\n",
       "      <td>6.192482e+01</td>\n",
       "    </tr>\n",
       "    <tr>\n",
       "      <th>98975</th>\n",
       "      <td>99.975</td>\n",
       "      <td>6.192582e+01</td>\n",
       "    </tr>\n",
       "    <tr>\n",
       "      <th>98976</th>\n",
       "      <td>99.976</td>\n",
       "      <td>6.192682e+01</td>\n",
       "    </tr>\n",
       "    <tr>\n",
       "      <th>98977</th>\n",
       "      <td>99.977</td>\n",
       "      <td>6.192782e+01</td>\n",
       "    </tr>\n",
       "    <tr>\n",
       "      <th>98978</th>\n",
       "      <td>99.978</td>\n",
       "      <td>6.192882e+01</td>\n",
       "    </tr>\n",
       "    <tr>\n",
       "      <th>98979</th>\n",
       "      <td>99.979</td>\n",
       "      <td>6.192982e+01</td>\n",
       "    </tr>\n",
       "    <tr>\n",
       "      <th>98980</th>\n",
       "      <td>99.980</td>\n",
       "      <td>6.193082e+01</td>\n",
       "    </tr>\n",
       "    <tr>\n",
       "      <th>98981</th>\n",
       "      <td>99.981</td>\n",
       "      <td>6.193182e+01</td>\n",
       "    </tr>\n",
       "    <tr>\n",
       "      <th>98982</th>\n",
       "      <td>99.982</td>\n",
       "      <td>6.193282e+01</td>\n",
       "    </tr>\n",
       "    <tr>\n",
       "      <th>98983</th>\n",
       "      <td>99.983</td>\n",
       "      <td>6.193382e+01</td>\n",
       "    </tr>\n",
       "    <tr>\n",
       "      <th>98984</th>\n",
       "      <td>99.984</td>\n",
       "      <td>6.193482e+01</td>\n",
       "    </tr>\n",
       "    <tr>\n",
       "      <th>98985</th>\n",
       "      <td>99.985</td>\n",
       "      <td>6.193582e+01</td>\n",
       "    </tr>\n",
       "    <tr>\n",
       "      <th>98986</th>\n",
       "      <td>99.986</td>\n",
       "      <td>6.193682e+01</td>\n",
       "    </tr>\n",
       "    <tr>\n",
       "      <th>98987</th>\n",
       "      <td>99.987</td>\n",
       "      <td>6.193782e+01</td>\n",
       "    </tr>\n",
       "    <tr>\n",
       "      <th>98988</th>\n",
       "      <td>99.988</td>\n",
       "      <td>6.193882e+01</td>\n",
       "    </tr>\n",
       "    <tr>\n",
       "      <th>98989</th>\n",
       "      <td>99.989</td>\n",
       "      <td>6.193982e+01</td>\n",
       "    </tr>\n",
       "    <tr>\n",
       "      <th>98990</th>\n",
       "      <td>99.990</td>\n",
       "      <td>6.194082e+01</td>\n",
       "    </tr>\n",
       "    <tr>\n",
       "      <th>98991</th>\n",
       "      <td>99.991</td>\n",
       "      <td>6.194182e+01</td>\n",
       "    </tr>\n",
       "    <tr>\n",
       "      <th>98992</th>\n",
       "      <td>99.992</td>\n",
       "      <td>6.194282e+01</td>\n",
       "    </tr>\n",
       "    <tr>\n",
       "      <th>98993</th>\n",
       "      <td>99.993</td>\n",
       "      <td>6.194382e+01</td>\n",
       "    </tr>\n",
       "    <tr>\n",
       "      <th>98994</th>\n",
       "      <td>99.994</td>\n",
       "      <td>6.194482e+01</td>\n",
       "    </tr>\n",
       "    <tr>\n",
       "      <th>98995</th>\n",
       "      <td>99.995</td>\n",
       "      <td>6.194582e+01</td>\n",
       "    </tr>\n",
       "    <tr>\n",
       "      <th>98996</th>\n",
       "      <td>99.996</td>\n",
       "      <td>6.194682e+01</td>\n",
       "    </tr>\n",
       "    <tr>\n",
       "      <th>98997</th>\n",
       "      <td>99.997</td>\n",
       "      <td>6.194782e+01</td>\n",
       "    </tr>\n",
       "    <tr>\n",
       "      <th>98998</th>\n",
       "      <td>99.998</td>\n",
       "      <td>6.194882e+01</td>\n",
       "    </tr>\n",
       "    <tr>\n",
       "      <th>98999</th>\n",
       "      <td>99.999</td>\n",
       "      <td>6.194982e+01</td>\n",
       "    </tr>\n",
       "  </tbody>\n",
       "</table>\n",
       "<p>99000 rows × 2 columns</p>\n",
       "</div>"
      ],
      "text/plain": [
       "            S          Value\n",
       "0       1.000  8.922862e-148\n",
       "1       1.001  1.071336e-147\n",
       "2       1.002  1.286016e-147\n",
       "3       1.003  1.543357e-147\n",
       "4       1.004  1.851765e-147\n",
       "5       1.005  2.221289e-147\n",
       "6       1.006  2.663939e-147\n",
       "7       1.007  3.194065e-147\n",
       "8       1.008  3.828808e-147\n",
       "9       1.009  4.588641e-147\n",
       "10      1.010  5.498010e-147\n",
       "11      1.011  6.586095e-147\n",
       "12      1.012  7.887725e-147\n",
       "13      1.013  9.444458e-147\n",
       "14      1.014  1.130587e-146\n",
       "15      1.015  1.353110e-146\n",
       "16      1.016  1.619064e-146\n",
       "17      1.017  1.936857e-146\n",
       "18      1.018  2.316507e-146\n",
       "19      1.019  2.769954e-146\n",
       "20      1.020  3.311421e-146\n",
       "21      1.021  3.957852e-146\n",
       "22      1.022  4.729422e-146\n",
       "23      1.023  5.650153e-146\n",
       "24      1.024  6.748639e-146\n",
       "25      1.025  8.058909e-146\n",
       "26      1.026  9.621451e-146\n",
       "27      1.027  1.148443e-145\n",
       "28      1.028  1.370512e-145\n",
       "29      1.029  1.635163e-145\n",
       "...       ...            ...\n",
       "98970  99.970   6.192082e+01\n",
       "98971  99.971   6.192182e+01\n",
       "98972  99.972   6.192282e+01\n",
       "98973  99.973   6.192382e+01\n",
       "98974  99.974   6.192482e+01\n",
       "98975  99.975   6.192582e+01\n",
       "98976  99.976   6.192682e+01\n",
       "98977  99.977   6.192782e+01\n",
       "98978  99.978   6.192882e+01\n",
       "98979  99.979   6.192982e+01\n",
       "98980  99.980   6.193082e+01\n",
       "98981  99.981   6.193182e+01\n",
       "98982  99.982   6.193282e+01\n",
       "98983  99.983   6.193382e+01\n",
       "98984  99.984   6.193482e+01\n",
       "98985  99.985   6.193582e+01\n",
       "98986  99.986   6.193682e+01\n",
       "98987  99.987   6.193782e+01\n",
       "98988  99.988   6.193882e+01\n",
       "98989  99.989   6.193982e+01\n",
       "98990  99.990   6.194082e+01\n",
       "98991  99.991   6.194182e+01\n",
       "98992  99.992   6.194282e+01\n",
       "98993  99.993   6.194382e+01\n",
       "98994  99.994   6.194482e+01\n",
       "98995  99.995   6.194582e+01\n",
       "98996  99.996   6.194682e+01\n",
       "98997  99.997   6.194782e+01\n",
       "98998  99.998   6.194882e+01\n",
       "98999  99.999   6.194982e+01\n",
       "\n",
       "[99000 rows x 2 columns]"
      ]
     },
     "execution_count": 546,
     "metadata": {},
     "output_type": "execute_result"
    }
   ],
   "source": [
    "optionDF"
   ]
  },
  {
   "cell_type": "code",
   "execution_count": null,
   "metadata": {},
   "outputs": [],
   "source": []
  }
 ],
 "metadata": {
  "kernelspec": {
   "display_name": "tensorflow",
   "language": "python",
   "name": "tensorflow"
  },
  "language_info": {
   "codemirror_mode": {
    "name": "ipython",
    "version": 3
   },
   "file_extension": ".py",
   "mimetype": "text/x-python",
   "name": "python",
   "nbconvert_exporter": "python",
   "pygments_lexer": "ipython3",
   "version": "3.6.7"
  }
 },
 "nbformat": 4,
 "nbformat_minor": 2
}
