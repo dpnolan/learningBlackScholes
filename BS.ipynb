{
  "nbformat": 4,
  "nbformat_minor": 0,
  "metadata": {
    "colab": {
      "name": "BS",
      "version": "0.3.2",
      "provenance": [],
      "collapsed_sections": [],
      "include_colab_link": true
    },
    "kernelspec": {
      "name": "python3",
      "display_name": "Python 3"
    },
    "accelerator": "TPU"
  },
  "cells": [
    {
      "cell_type": "markdown",
      "metadata": {
        "id": "view-in-github",
        "colab_type": "text"
      },
      "source": [
        "<a href=\"https://colab.research.google.com/github/dpnolan/learningBlackScholes/blob/master/BS.ipynb\" target=\"_parent\"><img src=\"https://colab.research.google.com/assets/colab-badge.svg\" alt=\"Open In Colab\"/></a>"
      ]
    },
    {
      "metadata": {
        "id": "ZXQPzWutowDl",
        "colab_type": "code",
        "colab": {}
      },
      "cell_type": "code",
      "source": [
        "import numpy as np\n",
        "import pandas as pd\n",
        "from math import log, sqrt, exp\n",
        "from scipy import stats\n"
      ],
      "execution_count": 0,
      "outputs": []
    },
    {
      "metadata": {
        "id": "QoRkmcnapMJC",
        "colab_type": "code",
        "outputId": "de30cec6-c9f8-401e-c680-7e3ee53deac3",
        "colab": {
          "base_uri": "https://localhost:8080/",
          "height": 34
        }
      },
      "cell_type": "code",
      "source": [
        "import tensorflow as tf\n",
        "tf.__version__"
      ],
      "execution_count": 0,
      "outputs": [
        {
          "output_type": "execute_result",
          "data": {
            "text/plain": [
              "'1.12.0'"
            ]
          },
          "metadata": {
            "tags": []
          },
          "execution_count": 3
        }
      ]
    },
    {
      "metadata": {
        "id": "T3_tb1d0vZ7P",
        "colab_type": "code",
        "outputId": "84e3f5e2-cedc-4b10-cac2-354434d539da",
        "colab": {
          "base_uri": "https://localhost:8080/",
          "height": 220
        }
      },
      "cell_type": "code",
      "source": [
        "#import tensorflow as tf\n",
        "device_name = tf.test.gpu_device_name()\n",
        "if device_name != '/device:GPU:0':\n",
        "  raise SystemError('GPU device not found')\n",
        "print('Found GPU at: {}'.format(device_name))"
      ],
      "execution_count": 0,
      "outputs": [
        {
          "output_type": "error",
          "ename": "SystemError",
          "evalue": "ignored",
          "traceback": [
            "\u001b[0;31m---------------------------------------------------------------------------\u001b[0m",
            "\u001b[0;31mSystemError\u001b[0m                               Traceback (most recent call last)",
            "\u001b[0;32m<ipython-input-4-ce08ddae0a7d>\u001b[0m in \u001b[0;36m<module>\u001b[0;34m()\u001b[0m\n\u001b[1;32m      1\u001b[0m \u001b[0mdevice_name\u001b[0m \u001b[0;34m=\u001b[0m \u001b[0mtf\u001b[0m\u001b[0;34m.\u001b[0m\u001b[0mtest\u001b[0m\u001b[0;34m.\u001b[0m\u001b[0mgpu_device_name\u001b[0m\u001b[0;34m(\u001b[0m\u001b[0;34m)\u001b[0m\u001b[0;34m\u001b[0m\u001b[0;34m\u001b[0m\u001b[0m\n\u001b[1;32m      2\u001b[0m \u001b[0;32mif\u001b[0m \u001b[0mdevice_name\u001b[0m \u001b[0;34m!=\u001b[0m \u001b[0;34m'/device:GPU:0'\u001b[0m\u001b[0;34m:\u001b[0m\u001b[0;34m\u001b[0m\u001b[0;34m\u001b[0m\u001b[0m\n\u001b[0;32m----> 3\u001b[0;31m   \u001b[0;32mraise\u001b[0m \u001b[0mSystemError\u001b[0m\u001b[0;34m(\u001b[0m\u001b[0;34m'GPU device not found'\u001b[0m\u001b[0;34m)\u001b[0m\u001b[0;34m\u001b[0m\u001b[0;34m\u001b[0m\u001b[0m\n\u001b[0m\u001b[1;32m      4\u001b[0m \u001b[0mprint\u001b[0m\u001b[0;34m(\u001b[0m\u001b[0;34m'Found GPU at: {}'\u001b[0m\u001b[0;34m.\u001b[0m\u001b[0mformat\u001b[0m\u001b[0;34m(\u001b[0m\u001b[0mdevice_name\u001b[0m\u001b[0;34m)\u001b[0m\u001b[0;34m)\u001b[0m\u001b[0;34m\u001b[0m\u001b[0;34m\u001b[0m\u001b[0m\n",
            "\u001b[0;31mSystemError\u001b[0m: GPU device not found"
          ]
        }
      ]
    },
    {
      "metadata": {
        "id": "g8OMV9nypNQN",
        "colab_type": "code",
        "colab": {}
      },
      "cell_type": "code",
      "source": [
        "'''\n",
        "Black-Scholes vanilla European call price function, with the default values as shown in the example in Hull (2009)\n",
        "'''\n",
        "\n",
        "def bs(S=42,K=40,R=0.1,Sigma=0.2,T=0.5):\n",
        "    if ( np.any(S)==0 ):\n",
        "        return 0\n",
        "    elif (np.any(K)==0):\n",
        "        return S    \n",
        "    else:    \n",
        "        d1 = (np.log(S/K)  +   (R+(np.square(Sigma)/2) )* T )  / (Sigma*np.sqrt(T))  \n",
        "        d2 = d1 - (Sigma * np.sqrt(T) )   \n",
        "        c = S*stats.norm.cdf(d1, 0.0, 1.0)-  K*np.exp(-R*T)*stats.norm.cdf(d2, 0.0, 1.0)\n",
        "        return c  "
      ],
      "execution_count": 0,
      "outputs": []
    },
    {
      "metadata": {
        "id": "QB8PDcKvphtv",
        "colab_type": "code",
        "outputId": "ad267b38-bc13-4eea-8308-166eb0311389",
        "colab": {
          "base_uri": "https://localhost:8080/",
          "height": 34
        }
      },
      "cell_type": "code",
      "source": [
        "bs()"
      ],
      "execution_count": 0,
      "outputs": [
        {
          "output_type": "execute_result",
          "data": {
            "text/plain": [
              "4.759422392871532"
            ]
          },
          "metadata": {
            "tags": []
          },
          "execution_count": 9
        }
      ]
    },
    {
      "metadata": {
        "id": "DxnD1H9XHCN0",
        "colab_type": "code",
        "colab": {}
      },
      "cell_type": "code",
      "source": [
        "u=np.arange(40,50,1)"
      ],
      "execution_count": 0,
      "outputs": []
    },
    {
      "metadata": {
        "id": "dbZw-qzPHC-r",
        "colab_type": "code",
        "outputId": "d6edf109-c70e-4a06-ee8a-505fa0f6661d",
        "colab": {
          "base_uri": "https://localhost:8080/",
          "height": 34
        }
      },
      "cell_type": "code",
      "source": [
        "u"
      ],
      "execution_count": 0,
      "outputs": [
        {
          "output_type": "execute_result",
          "data": {
            "text/plain": [
              "array([40, 41, 42, 43, 44, 45, 46, 47, 48, 49])"
            ]
          },
          "metadata": {
            "tags": []
          },
          "execution_count": 11
        }
      ]
    },
    {
      "metadata": {
        "id": "S2Y2MGc0HDUT",
        "colab_type": "code",
        "outputId": "75720067-dfd5-4a09-8640-975ce8549fc5",
        "colab": {
          "base_uri": "https://localhost:8080/",
          "height": 87
        }
      },
      "cell_type": "code",
      "source": [
        "%%time \n",
        "bs(u)"
      ],
      "execution_count": 0,
      "outputs": [
        {
          "output_type": "stream",
          "text": [
            "CPU times: user 677 µs, sys: 929 µs, total: 1.61 ms\n",
            "Wall time: 1.23 ms\n"
          ],
          "name": "stdout"
        },
        {
          "output_type": "execute_result",
          "data": {
            "text/plain": [
              "array([ 3.31112158,  4.00654253,  4.75942239,  5.56225965,  6.40747385,\n",
              "        7.28782062,  8.1966803 ,  9.12822647, 10.07749334, 11.04036612])"
            ]
          },
          "metadata": {
            "tags": []
          },
          "execution_count": 12
        }
      ]
    },
    {
      "metadata": {
        "id": "Nh09BCi2HDpL",
        "colab_type": "code",
        "outputId": "7a59d9ce-2573-4f08-bd0e-410e01ac3f24",
        "colab": {
          "base_uri": "https://localhost:8080/",
          "height": 228
        }
      },
      "cell_type": "code",
      "source": [
        "%%time\n",
        "for i in np.arange(40,50,1):\n",
        "  print (bs(i))"
      ],
      "execution_count": 0,
      "outputs": [
        {
          "output_type": "stream",
          "text": [
            "3.311121583778224\n",
            "4.006542532826309\n",
            "4.759422392871532\n",
            "5.562259650878822\n",
            "6.407473848748449\n",
            "7.2878206224256274\n",
            "8.196680296025356\n",
            "9.128226469138127\n",
            "10.077493339615756\n",
            "11.040366118280048\n",
            "CPU times: user 7.46 ms, sys: 1.95 ms, total: 9.41 ms\n",
            "Wall time: 13.2 ms\n"
          ],
          "name": "stdout"
        }
      ]
    },
    {
      "metadata": {
        "id": "Gpydz1qEHD89",
        "colab_type": "code",
        "colab": {}
      },
      "cell_type": "code",
      "source": [
        ""
      ],
      "execution_count": 0,
      "outputs": []
    },
    {
      "metadata": {
        "id": "DRAs2_qPpkpe",
        "colab_type": "code",
        "colab": {}
      },
      "cell_type": "code",
      "source": [
        "BUSINESS_DAYS=252"
      ],
      "execution_count": 0,
      "outputs": []
    },
    {
      "metadata": {
        "id": "7poEYW9Lpt_W",
        "colab_type": "code",
        "colab": {}
      },
      "cell_type": "code",
      "source": [
        "NUMBER_S=10"
      ],
      "execution_count": 0,
      "outputs": []
    },
    {
      "metadata": {
        "id": "zYgeXMEWpwN-",
        "colab_type": "code",
        "colab": {}
      },
      "cell_type": "code",
      "source": [
        "INCREMENT_S=( 1/1 ) "
      ],
      "execution_count": 0,
      "outputs": []
    },
    {
      "metadata": {
        "id": "NrgnnEiwpzL2",
        "colab_type": "code",
        "colab": {}
      },
      "cell_type": "code",
      "source": [
        "NUMBER_X=10"
      ],
      "execution_count": 0,
      "outputs": []
    },
    {
      "metadata": {
        "id": "3DK3Pyj_p1Hj",
        "colab_type": "code",
        "colab": {}
      },
      "cell_type": "code",
      "source": [
        "INCREMENT_X=1/1"
      ],
      "execution_count": 0,
      "outputs": []
    },
    {
      "metadata": {
        "id": "KB_RME0yp4md",
        "colab_type": "code",
        "colab": {}
      },
      "cell_type": "code",
      "source": [
        "NUMBER_SIGMA=10"
      ],
      "execution_count": 0,
      "outputs": []
    },
    {
      "metadata": {
        "id": "GtoXnbR1p8ta",
        "colab_type": "code",
        "colab": {}
      },
      "cell_type": "code",
      "source": [
        "INCREMENT_SIGMA=1/1"
      ],
      "execution_count": 0,
      "outputs": []
    },
    {
      "metadata": {
        "id": "QOrXXPjdqBFN",
        "colab_type": "code",
        "colab": {}
      },
      "cell_type": "code",
      "source": [
        "NUMBER_T=BUSINESS_DAYS"
      ],
      "execution_count": 0,
      "outputs": []
    },
    {
      "metadata": {
        "id": "7_rMcbDTqDaK",
        "colab_type": "code",
        "colab": {}
      },
      "cell_type": "code",
      "source": [
        "INCREMENT_T=-int(BUSINESS_DAYS/12)"
      ],
      "execution_count": 0,
      "outputs": []
    },
    {
      "metadata": {
        "id": "kwzZJMfkqGDW",
        "colab_type": "code",
        "colab": {}
      },
      "cell_type": "code",
      "source": [
        "NUMBER_R=6"
      ],
      "execution_count": 0,
      "outputs": []
    },
    {
      "metadata": {
        "id": "VhDowYxTqJjU",
        "colab_type": "code",
        "colab": {}
      },
      "cell_type": "code",
      "source": [
        "INCREMENT_R=1"
      ],
      "execution_count": 0,
      "outputs": []
    },
    {
      "metadata": {
        "id": "y88WBLPuqLc_",
        "colab_type": "code",
        "colab": {}
      },
      "cell_type": "code",
      "source": [
        "optionS=np.array(np.arange(1,NUMBER_S+1,INCREMENT_S))"
      ],
      "execution_count": 0,
      "outputs": []
    },
    {
      "metadata": {
        "id": "zR0w_ZOlqV1h",
        "colab_type": "code",
        "outputId": "2bcb81b7-5993-4b84-f080-dc85342878ed",
        "colab": {
          "base_uri": "https://localhost:8080/",
          "height": 34
        }
      },
      "cell_type": "code",
      "source": [
        "optionS"
      ],
      "execution_count": 0,
      "outputs": [
        {
          "output_type": "execute_result",
          "data": {
            "text/plain": [
              "array([ 1.,  2.,  3.,  4.,  5.,  6.,  7.,  8.,  9., 10.])"
            ]
          },
          "metadata": {
            "tags": []
          },
          "execution_count": 26
        }
      ]
    },
    {
      "metadata": {
        "id": "aAFbGN6oqXJP",
        "colab_type": "code",
        "colab": {}
      },
      "cell_type": "code",
      "source": [
        "optionX=np.array(np.arange(1,NUMBER_X+1,INCREMENT_X))"
      ],
      "execution_count": 0,
      "outputs": []
    },
    {
      "metadata": {
        "id": "oNF3AbPtqaeU",
        "colab_type": "code",
        "outputId": "c47acaf4-9994-47bc-b026-8f66fb592de1",
        "colab": {
          "base_uri": "https://localhost:8080/",
          "height": 34
        }
      },
      "cell_type": "code",
      "source": [
        "optionX"
      ],
      "execution_count": 0,
      "outputs": [
        {
          "output_type": "execute_result",
          "data": {
            "text/plain": [
              "array([ 1.,  2.,  3.,  4.,  5.,  6.,  7.,  8.,  9., 10.])"
            ]
          },
          "metadata": {
            "tags": []
          },
          "execution_count": 28
        }
      ]
    },
    {
      "metadata": {
        "id": "3TswAy_eqdeK",
        "colab_type": "code",
        "colab": {}
      },
      "cell_type": "code",
      "source": [
        "optionR=np.array(np.arange(0,NUMBER_R+1,INCREMENT_R))"
      ],
      "execution_count": 0,
      "outputs": []
    },
    {
      "metadata": {
        "id": "PkPve_JVqhnk",
        "colab_type": "code",
        "outputId": "d59b14c1-6b14-47dd-b5fe-0b958802c921",
        "colab": {
          "base_uri": "https://localhost:8080/",
          "height": 34
        }
      },
      "cell_type": "code",
      "source": [
        "optionR"
      ],
      "execution_count": 0,
      "outputs": [
        {
          "output_type": "execute_result",
          "data": {
            "text/plain": [
              "array([0, 1, 2, 3, 4, 5, 6])"
            ]
          },
          "metadata": {
            "tags": []
          },
          "execution_count": 30
        }
      ]
    },
    {
      "metadata": {
        "id": "iqhn8x3xqjzG",
        "colab_type": "code",
        "colab": {}
      },
      "cell_type": "code",
      "source": [
        "NUMBER_SIGMA=10"
      ],
      "execution_count": 0,
      "outputs": []
    },
    {
      "metadata": {
        "id": "N8P09Triqu26",
        "colab_type": "code",
        "colab": {}
      },
      "cell_type": "code",
      "source": [
        "INCREMENT_SIGMA=1/1"
      ],
      "execution_count": 0,
      "outputs": []
    },
    {
      "metadata": {
        "id": "XDKJHRM9qws3",
        "colab_type": "code",
        "outputId": "de4de367-f64a-43a8-c31b-5a03701fea09",
        "colab": {
          "base_uri": "https://localhost:8080/",
          "height": 34
        }
      },
      "cell_type": "code",
      "source": [
        "INCREMENT_SIGMA"
      ],
      "execution_count": 0,
      "outputs": [
        {
          "output_type": "execute_result",
          "data": {
            "text/plain": [
              "1.0"
            ]
          },
          "metadata": {
            "tags": []
          },
          "execution_count": 33
        }
      ]
    },
    {
      "metadata": {
        "id": "nQZr6oWwqymw",
        "colab_type": "code",
        "colab": {}
      },
      "cell_type": "code",
      "source": [
        "optionSIGMA=np.array(np.arange(1,NUMBER_SIGMA+1,INCREMENT_SIGMA))"
      ],
      "execution_count": 0,
      "outputs": []
    },
    {
      "metadata": {
        "id": "61PfPjDuq3AB",
        "colab_type": "code",
        "outputId": "082208c8-4181-4033-88a2-b7591c28cb10",
        "colab": {
          "base_uri": "https://localhost:8080/",
          "height": 34
        }
      },
      "cell_type": "code",
      "source": [
        "optionSIGMA"
      ],
      "execution_count": 0,
      "outputs": [
        {
          "output_type": "execute_result",
          "data": {
            "text/plain": [
              "array([ 1.,  2.,  3.,  4.,  5.,  6.,  7.,  8.,  9., 10.])"
            ]
          },
          "metadata": {
            "tags": []
          },
          "execution_count": 35
        }
      ]
    },
    {
      "metadata": {
        "id": "fvdcsgX5q5P0",
        "colab_type": "code",
        "colab": {}
      },
      "cell_type": "code",
      "source": [
        "optionT=(np.arange(-INCREMENT_T,NUMBER_T-INCREMENT_T,-INCREMENT_T))"
      ],
      "execution_count": 0,
      "outputs": []
    },
    {
      "metadata": {
        "id": "5ySMb-FIq70I",
        "colab_type": "code",
        "outputId": "efad7fcb-21de-4bfd-9c5c-2c54c9aa949e",
        "colab": {
          "base_uri": "https://localhost:8080/",
          "height": 34
        }
      },
      "cell_type": "code",
      "source": [
        "optionT"
      ],
      "execution_count": 0,
      "outputs": [
        {
          "output_type": "execute_result",
          "data": {
            "text/plain": [
              "array([ 21,  42,  63,  84, 105, 126, 147, 168, 189, 210, 231, 252])"
            ]
          },
          "metadata": {
            "tags": []
          },
          "execution_count": 37
        }
      ]
    },
    {
      "metadata": {
        "id": "h6xKMp4bq9k8",
        "colab_type": "code",
        "colab": {}
      },
      "cell_type": "code",
      "source": [
        "NUMBER_OPTIONS=NUMBER_S*NUMBER_X*NUMBER_SIGMA*int(-NUMBER_T/INCREMENT_T)*(NUMBER_R+1)"
      ],
      "execution_count": 0,
      "outputs": []
    },
    {
      "metadata": {
        "id": "_IfVBSiNrLUe",
        "colab_type": "code",
        "outputId": "72cf1c18-4b24-4d33-e0eb-97950fd1145e",
        "colab": {
          "base_uri": "https://localhost:8080/",
          "height": 34
        }
      },
      "cell_type": "code",
      "source": [
        "NUMBER_OPTIONS"
      ],
      "execution_count": 0,
      "outputs": [
        {
          "output_type": "execute_result",
          "data": {
            "text/plain": [
              "84000"
            ]
          },
          "metadata": {
            "tags": []
          },
          "execution_count": 39
        }
      ]
    },
    {
      "metadata": {
        "id": "wLxOV-LGrMT0",
        "colab_type": "code",
        "colab": {}
      },
      "cell_type": "code",
      "source": [
        "optionValue=np.zeros(NUMBER_OPTIONS)"
      ],
      "execution_count": 0,
      "outputs": []
    },
    {
      "metadata": {
        "id": "8GJSVkGYr5Fm",
        "colab_type": "code",
        "colab": {}
      },
      "cell_type": "code",
      "source": [
        "optionDF2=pd.DataFrame(index=np.arange(0,NUMBER_OPTIONS,1),columns=[\"S\",\"X\",\"R\",\"Sigma\",\"Time\",\"Value\"])"
      ],
      "execution_count": 0,
      "outputs": []
    },
    {
      "metadata": {
        "id": "QokVDEOmr7-1",
        "colab_type": "code",
        "outputId": "3a5a4b06-51ee-4beb-f8ca-7c698d5858ee",
        "colab": {
          "base_uri": "https://localhost:8080/",
          "height": 34
        }
      },
      "cell_type": "code",
      "source": [
        "optionDF2.shape"
      ],
      "execution_count": 0,
      "outputs": [
        {
          "output_type": "execute_result",
          "data": {
            "text/plain": [
              "(84000, 6)"
            ]
          },
          "metadata": {
            "tags": []
          },
          "execution_count": 42
        }
      ]
    },
    {
      "metadata": {
        "id": "Jv2odN9gwDox",
        "colab_type": "code",
        "outputId": "7361480e-5ec0-42e2-c828-cb3262c0c9b9",
        "colab": {
          "base_uri": "https://localhost:8080/",
          "height": 34
        }
      },
      "cell_type": "code",
      "source": [
        "optionValue"
      ],
      "execution_count": 0,
      "outputs": [
        {
          "output_type": "execute_result",
          "data": {
            "text/plain": [
              "array([0., 0., 0., ..., 0., 0., 0.])"
            ]
          },
          "metadata": {
            "tags": []
          },
          "execution_count": 43
        }
      ]
    },
    {
      "metadata": {
        "id": "-KU4NWc7wYla",
        "colab_type": "code",
        "outputId": "da7865e4-bd27-4a5a-940b-4e5f6b4dc769",
        "colab": {
          "base_uri": "https://localhost:8080/",
          "height": 290
        }
      },
      "cell_type": "code",
      "source": [
        "optionValue=bs(optionS,optionX,optionR,optionSIGMA,optionT/BUSINESS_DAYS)"
      ],
      "execution_count": 0,
      "outputs": [
        {
          "output_type": "error",
          "ename": "ValueError",
          "evalue": "ignored",
          "traceback": [
            "\u001b[0;31m---------------------------------------------------------------------------\u001b[0m",
            "\u001b[0;31mValueError\u001b[0m                                Traceback (most recent call last)",
            "\u001b[0;32m<ipython-input-45-793756f68126>\u001b[0m in \u001b[0;36m<module>\u001b[0;34m()\u001b[0m\n\u001b[0;32m----> 1\u001b[0;31m \u001b[0moptionValue\u001b[0m\u001b[0;34m=\u001b[0m\u001b[0mbs\u001b[0m\u001b[0;34m(\u001b[0m\u001b[0moptionS\u001b[0m\u001b[0;34m,\u001b[0m\u001b[0moptionX\u001b[0m\u001b[0;34m,\u001b[0m\u001b[0moptionR\u001b[0m\u001b[0;34m,\u001b[0m\u001b[0moptionSIGMA\u001b[0m\u001b[0;34m,\u001b[0m\u001b[0moptionT\u001b[0m\u001b[0;34m/\u001b[0m\u001b[0mBUSINESS_DAYS\u001b[0m\u001b[0;34m)\u001b[0m\u001b[0;34m\u001b[0m\u001b[0;34m\u001b[0m\u001b[0m\n\u001b[0m",
            "\u001b[0;32m<ipython-input-5-defc0aa6d267>\u001b[0m in \u001b[0;36mbs\u001b[0;34m(S, K, R, Sigma, T)\u001b[0m\n\u001b[1;32m      9\u001b[0m         \u001b[0;32mreturn\u001b[0m \u001b[0mS\u001b[0m\u001b[0;34m\u001b[0m\u001b[0;34m\u001b[0m\u001b[0m\n\u001b[1;32m     10\u001b[0m     \u001b[0;32melse\u001b[0m\u001b[0;34m:\u001b[0m\u001b[0;34m\u001b[0m\u001b[0;34m\u001b[0m\u001b[0m\n\u001b[0;32m---> 11\u001b[0;31m         \u001b[0md1\u001b[0m \u001b[0;34m=\u001b[0m \u001b[0;34m(\u001b[0m\u001b[0mnp\u001b[0m\u001b[0;34m.\u001b[0m\u001b[0mlog\u001b[0m\u001b[0;34m(\u001b[0m\u001b[0mS\u001b[0m\u001b[0;34m/\u001b[0m\u001b[0mK\u001b[0m\u001b[0;34m)\u001b[0m  \u001b[0;34m+\u001b[0m   \u001b[0;34m(\u001b[0m\u001b[0mR\u001b[0m\u001b[0;34m+\u001b[0m\u001b[0;34m(\u001b[0m\u001b[0mnp\u001b[0m\u001b[0;34m.\u001b[0m\u001b[0msquare\u001b[0m\u001b[0;34m(\u001b[0m\u001b[0mSigma\u001b[0m\u001b[0;34m)\u001b[0m\u001b[0;34m/\u001b[0m\u001b[0;36m2\u001b[0m\u001b[0;34m)\u001b[0m \u001b[0;34m)\u001b[0m\u001b[0;34m*\u001b[0m \u001b[0mT\u001b[0m \u001b[0;34m)\u001b[0m  \u001b[0;34m/\u001b[0m \u001b[0;34m(\u001b[0m\u001b[0mSigma\u001b[0m\u001b[0;34m*\u001b[0m\u001b[0mnp\u001b[0m\u001b[0;34m.\u001b[0m\u001b[0msqrt\u001b[0m\u001b[0;34m(\u001b[0m\u001b[0mT\u001b[0m\u001b[0;34m)\u001b[0m\u001b[0;34m)\u001b[0m\u001b[0;34m\u001b[0m\u001b[0;34m\u001b[0m\u001b[0m\n\u001b[0m\u001b[1;32m     12\u001b[0m         \u001b[0md2\u001b[0m \u001b[0;34m=\u001b[0m \u001b[0md1\u001b[0m \u001b[0;34m-\u001b[0m \u001b[0;34m(\u001b[0m\u001b[0mSigma\u001b[0m \u001b[0;34m*\u001b[0m \u001b[0mnp\u001b[0m\u001b[0;34m.\u001b[0m\u001b[0msqrt\u001b[0m\u001b[0;34m(\u001b[0m\u001b[0mT\u001b[0m\u001b[0;34m)\u001b[0m \u001b[0;34m)\u001b[0m\u001b[0;34m\u001b[0m\u001b[0;34m\u001b[0m\u001b[0m\n\u001b[1;32m     13\u001b[0m         \u001b[0mc\u001b[0m \u001b[0;34m=\u001b[0m \u001b[0mS\u001b[0m\u001b[0;34m*\u001b[0m\u001b[0mstats\u001b[0m\u001b[0;34m.\u001b[0m\u001b[0mnorm\u001b[0m\u001b[0;34m.\u001b[0m\u001b[0mcdf\u001b[0m\u001b[0;34m(\u001b[0m\u001b[0md1\u001b[0m\u001b[0;34m,\u001b[0m \u001b[0;36m0.0\u001b[0m\u001b[0;34m,\u001b[0m \u001b[0;36m1.0\u001b[0m\u001b[0;34m)\u001b[0m\u001b[0;34m-\u001b[0m  \u001b[0mK\u001b[0m\u001b[0;34m*\u001b[0m\u001b[0mnp\u001b[0m\u001b[0;34m.\u001b[0m\u001b[0mexp\u001b[0m\u001b[0;34m(\u001b[0m\u001b[0;34m-\u001b[0m\u001b[0mR\u001b[0m\u001b[0;34m*\u001b[0m\u001b[0mT\u001b[0m\u001b[0;34m)\u001b[0m\u001b[0;34m*\u001b[0m\u001b[0mstats\u001b[0m\u001b[0;34m.\u001b[0m\u001b[0mnorm\u001b[0m\u001b[0;34m.\u001b[0m\u001b[0mcdf\u001b[0m\u001b[0;34m(\u001b[0m\u001b[0md2\u001b[0m\u001b[0;34m,\u001b[0m \u001b[0;36m0.0\u001b[0m\u001b[0;34m,\u001b[0m \u001b[0;36m1.0\u001b[0m\u001b[0;34m)\u001b[0m\u001b[0;34m\u001b[0m\u001b[0;34m\u001b[0m\u001b[0m\n",
            "\u001b[0;31mValueError\u001b[0m: operands could not be broadcast together with shapes (7,) (10,) "
          ]
        }
      ]
    },
    {
      "metadata": {
        "id": "0a3oBhPTw324",
        "colab_type": "code",
        "colab": {}
      },
      "cell_type": "code",
      "source": [
        "s=np.repeat(optionS,NUMBER_OPTIONS/optionS.size)"
      ],
      "execution_count": 0,
      "outputs": []
    },
    {
      "metadata": {
        "id": "vJcEvnFsyDkN",
        "colab_type": "code",
        "outputId": "c49e7300-c296-4363-ef05-862668044c99",
        "colab": {
          "base_uri": "https://localhost:8080/",
          "height": 34
        }
      },
      "cell_type": "code",
      "source": [
        "optionS.size"
      ],
      "execution_count": 0,
      "outputs": [
        {
          "output_type": "execute_result",
          "data": {
            "text/plain": [
              "10"
            ]
          },
          "metadata": {
            "tags": []
          },
          "execution_count": 48
        }
      ]
    },
    {
      "metadata": {
        "id": "XdS1TdiZyXiw",
        "colab_type": "code",
        "outputId": "e3aaaddc-a699-4c9e-a4ec-dfb4c3b8600a",
        "colab": {
          "base_uri": "https://localhost:8080/",
          "height": 34
        }
      },
      "cell_type": "code",
      "source": [
        "s.shape"
      ],
      "execution_count": 0,
      "outputs": [
        {
          "output_type": "execute_result",
          "data": {
            "text/plain": [
              "(84000,)"
            ]
          },
          "metadata": {
            "tags": []
          },
          "execution_count": 51
        }
      ]
    },
    {
      "metadata": {
        "id": "0P_Mv79c0A_N",
        "colab_type": "code",
        "outputId": "e239ee54-36cd-477c-f257-0330e2e0089f",
        "colab": {
          "base_uri": "https://localhost:8080/",
          "height": 122
        }
      },
      "cell_type": "code",
      "source": [
        "s[8350:8450]"
      ],
      "execution_count": 0,
      "outputs": [
        {
          "output_type": "execute_result",
          "data": {
            "text/plain": [
              "array([1., 1., 1., 1., 1., 1., 1., 1., 1., 1., 1., 1., 1., 1., 1., 1., 1.,\n",
              "       1., 1., 1., 1., 1., 1., 1., 1., 1., 1., 1., 1., 1., 1., 1., 1., 1.,\n",
              "       1., 1., 1., 1., 1., 1., 1., 1., 1., 1., 1., 1., 1., 1., 1., 1., 2.,\n",
              "       2., 2., 2., 2., 2., 2., 2., 2., 2., 2., 2., 2., 2., 2., 2., 2., 2.,\n",
              "       2., 2., 2., 2., 2., 2., 2., 2., 2., 2., 2., 2., 2., 2., 2., 2., 2.,\n",
              "       2., 2., 2., 2., 2., 2., 2., 2., 2., 2., 2., 2., 2., 2., 2.])"
            ]
          },
          "metadata": {
            "tags": []
          },
          "execution_count": 56
        }
      ]
    },
    {
      "metadata": {
        "id": "2GNCXBAb0crR",
        "colab_type": "code",
        "colab": {}
      },
      "cell_type": "code",
      "source": [
        "x=np.repeat(np.repeat(optionX,NUMBER_OPTIONS/(optionS.size*optionX.size)),optionS.size)"
      ],
      "execution_count": 0,
      "outputs": []
    },
    {
      "metadata": {
        "id": "vvMb-_Yt1VA5",
        "colab_type": "code",
        "colab": {
          "base_uri": "https://localhost:8080/",
          "height": 34
        },
        "outputId": "3965f20d-83cb-4e59-af4c-875bcf343741"
      },
      "cell_type": "code",
      "source": [
        "x.shape"
      ],
      "execution_count": 68,
      "outputs": [
        {
          "output_type": "execute_result",
          "data": {
            "text/plain": [
              "(84000,)"
            ]
          },
          "metadata": {
            "tags": []
          },
          "execution_count": 68
        }
      ]
    },
    {
      "metadata": {
        "id": "FERfhScc4GTa",
        "colab_type": "code",
        "colab": {}
      },
      "cell_type": "code",
      "source": [
        "del(x)"
      ],
      "execution_count": 0,
      "outputs": []
    },
    {
      "metadata": {
        "id": "p6steSH_1Vo9",
        "colab_type": "code",
        "colab": {
          "base_uri": "https://localhost:8080/",
          "height": 122
        },
        "outputId": "df7e4260-0ead-4083-80bc-07274af7e992"
      },
      "cell_type": "code",
      "source": [
        "x[8350:8450]"
      ],
      "execution_count": 70,
      "outputs": [
        {
          "output_type": "execute_result",
          "data": {
            "text/plain": [
              "array([1., 1., 1., 1., 1., 1., 1., 1., 1., 1., 1., 1., 1., 1., 1., 1., 1.,\n",
              "       1., 1., 1., 1., 1., 1., 1., 1., 1., 1., 1., 1., 1., 1., 1., 1., 1.,\n",
              "       1., 1., 1., 1., 1., 1., 1., 1., 1., 1., 1., 1., 1., 1., 1., 1., 2.,\n",
              "       2., 2., 2., 2., 2., 2., 2., 2., 2., 2., 2., 2., 2., 2., 2., 2., 2.,\n",
              "       2., 2., 2., 2., 2., 2., 2., 2., 2., 2., 2., 2., 2., 2., 2., 2., 2.,\n",
              "       2., 2., 2., 2., 2., 2., 2., 2., 2., 2., 2., 2., 2., 2., 2.])"
            ]
          },
          "metadata": {
            "tags": []
          },
          "execution_count": 70
        }
      ]
    },
    {
      "metadata": {
        "id": "_dD-ZTLt1WKV",
        "colab_type": "code",
        "colab": {}
      },
      "cell_type": "code",
      "source": [
        "\n"
      ],
      "execution_count": 0,
      "outputs": []
    },
    {
      "metadata": {
        "id": "qyUmcblC4khW",
        "colab_type": "code",
        "colab": {}
      },
      "cell_type": "code",
      "source": [
        ""
      ],
      "execution_count": 0,
      "outputs": []
    },
    {
      "metadata": {
        "id": "69nX6qU40fJf",
        "colab_type": "code",
        "colab": {}
      },
      "cell_type": "code",
      "source": [
        ""
      ],
      "execution_count": 0,
      "outputs": []
    },
    {
      "metadata": {
        "id": "xZlmzyk10bO4",
        "colab_type": "code",
        "colab": {}
      },
      "cell_type": "code",
      "source": [
        ""
      ],
      "execution_count": 0,
      "outputs": []
    },
    {
      "metadata": {
        "id": "AxD2NFvBsA24",
        "colab_type": "code",
        "outputId": "478f1d98-2204-47ff-dd57-be1b36f82a7f",
        "colab": {
          "base_uri": "https://localhost:8080/",
          "height": 52
        }
      },
      "cell_type": "code",
      "source": [
        " \n",
        "%%time\n",
        "counter=0\n",
        "#print(\"S\\tX\\tR\\tSigma\\tTime\\t\\tValue\")\n",
        "for s in optionS:\n",
        "    for x in optionX:\n",
        "        for r in optionR:\n",
        "            for sig in optionSIGMA:\n",
        "                for t in optionT:\n",
        "                    optionValue[counter]=bs(S=s,K=x,R=r,Sigma=sig,T=t/BUSINESS_DAYS)\n",
        "                    #print(\"{:3.2f}\\t{:3.2f}\\t{:3.2f}\\t{:3.2f}\\t{:3f}\\t{:3.5f}\\n\".format(s,x,r,sig,t,optionValue[counter]))\n",
        "                    optionDF2.loc[counter]=(s,x,r,sig,t/BUSINESS_DAYS,optionValue[counter])\n",
        "                    counter+=1  \n"
      ],
      "execution_count": 0,
      "outputs": [
        {
          "output_type": "stream",
          "text": [
            "CPU times: user 16min 18s, sys: 4.56 s, total: 16min 23s\n",
            "Wall time: 16min 23s\n"
          ],
          "name": "stdout"
        }
      ]
    },
    {
      "metadata": {
        "id": "Gozo1T89snD5",
        "colab_type": "code",
        "outputId": "352183a5-7184-4e45-a318-8a340fc3f2d2",
        "colab": {
          "base_uri": "https://localhost:8080/",
          "height": 1925
        }
      },
      "cell_type": "code",
      "source": [
        "optionDF"
      ],
      "execution_count": 0,
      "outputs": [
        {
          "output_type": "execute_result",
          "data": {
            "text/html": [
              "<div>\n",
              "<style scoped>\n",
              "    .dataframe tbody tr th:only-of-type {\n",
              "        vertical-align: middle;\n",
              "    }\n",
              "\n",
              "    .dataframe tbody tr th {\n",
              "        vertical-align: top;\n",
              "    }\n",
              "\n",
              "    .dataframe thead th {\n",
              "        text-align: right;\n",
              "    }\n",
              "</style>\n",
              "<table border=\"1\" class=\"dataframe\">\n",
              "  <thead>\n",
              "    <tr style=\"text-align: right;\">\n",
              "      <th></th>\n",
              "      <th>S</th>\n",
              "      <th>X</th>\n",
              "      <th>R</th>\n",
              "      <th>Sigma</th>\n",
              "      <th>Time</th>\n",
              "      <th>Value</th>\n",
              "    </tr>\n",
              "  </thead>\n",
              "  <tbody>\n",
              "    <tr>\n",
              "      <th>0</th>\n",
              "      <td>1</td>\n",
              "      <td>1</td>\n",
              "      <td>0</td>\n",
              "      <td>1</td>\n",
              "      <td>0.0833333</td>\n",
              "      <td>0.114766</td>\n",
              "    </tr>\n",
              "    <tr>\n",
              "      <th>1</th>\n",
              "      <td>1</td>\n",
              "      <td>1</td>\n",
              "      <td>0</td>\n",
              "      <td>1</td>\n",
              "      <td>0.166667</td>\n",
              "      <td>0.161744</td>\n",
              "    </tr>\n",
              "    <tr>\n",
              "      <th>2</th>\n",
              "      <td>1</td>\n",
              "      <td>1</td>\n",
              "      <td>0</td>\n",
              "      <td>1</td>\n",
              "      <td>0.25</td>\n",
              "      <td>0.197413</td>\n",
              "    </tr>\n",
              "    <tr>\n",
              "      <th>3</th>\n",
              "      <td>1</td>\n",
              "      <td>1</td>\n",
              "      <td>0</td>\n",
              "      <td>1</td>\n",
              "      <td>0.333333</td>\n",
              "      <td>0.22717</td>\n",
              "    </tr>\n",
              "    <tr>\n",
              "      <th>4</th>\n",
              "      <td>1</td>\n",
              "      <td>1</td>\n",
              "      <td>0</td>\n",
              "      <td>1</td>\n",
              "      <td>0.416667</td>\n",
              "      <td>0.253114</td>\n",
              "    </tr>\n",
              "    <tr>\n",
              "      <th>5</th>\n",
              "      <td>1</td>\n",
              "      <td>1</td>\n",
              "      <td>0</td>\n",
              "      <td>1</td>\n",
              "      <td>0.5</td>\n",
              "      <td>0.276326</td>\n",
              "    </tr>\n",
              "    <tr>\n",
              "      <th>6</th>\n",
              "      <td>1</td>\n",
              "      <td>1</td>\n",
              "      <td>0</td>\n",
              "      <td>1</td>\n",
              "      <td>0.583333</td>\n",
              "      <td>0.297451</td>\n",
              "    </tr>\n",
              "    <tr>\n",
              "      <th>7</th>\n",
              "      <td>1</td>\n",
              "      <td>1</td>\n",
              "      <td>0</td>\n",
              "      <td>1</td>\n",
              "      <td>0.666667</td>\n",
              "      <td>0.316909</td>\n",
              "    </tr>\n",
              "    <tr>\n",
              "      <th>8</th>\n",
              "      <td>1</td>\n",
              "      <td>1</td>\n",
              "      <td>0</td>\n",
              "      <td>1</td>\n",
              "      <td>0.75</td>\n",
              "      <td>0.334994</td>\n",
              "    </tr>\n",
              "    <tr>\n",
              "      <th>9</th>\n",
              "      <td>1</td>\n",
              "      <td>1</td>\n",
              "      <td>0</td>\n",
              "      <td>1</td>\n",
              "      <td>0.833333</td>\n",
              "      <td>0.351923</td>\n",
              "    </tr>\n",
              "    <tr>\n",
              "      <th>10</th>\n",
              "      <td>1</td>\n",
              "      <td>1</td>\n",
              "      <td>0</td>\n",
              "      <td>1</td>\n",
              "      <td>0.916667</td>\n",
              "      <td>0.367858</td>\n",
              "    </tr>\n",
              "    <tr>\n",
              "      <th>11</th>\n",
              "      <td>1</td>\n",
              "      <td>1</td>\n",
              "      <td>0</td>\n",
              "      <td>1</td>\n",
              "      <td>1</td>\n",
              "      <td>0.382925</td>\n",
              "    </tr>\n",
              "    <tr>\n",
              "      <th>12</th>\n",
              "      <td>1</td>\n",
              "      <td>1</td>\n",
              "      <td>0</td>\n",
              "      <td>2</td>\n",
              "      <td>0.0833333</td>\n",
              "      <td>0.22717</td>\n",
              "    </tr>\n",
              "    <tr>\n",
              "      <th>13</th>\n",
              "      <td>1</td>\n",
              "      <td>1</td>\n",
              "      <td>0</td>\n",
              "      <td>2</td>\n",
              "      <td>0.166667</td>\n",
              "      <td>0.316909</td>\n",
              "    </tr>\n",
              "    <tr>\n",
              "      <th>14</th>\n",
              "      <td>1</td>\n",
              "      <td>1</td>\n",
              "      <td>0</td>\n",
              "      <td>2</td>\n",
              "      <td>0.25</td>\n",
              "      <td>0.382925</td>\n",
              "    </tr>\n",
              "    <tr>\n",
              "      <th>15</th>\n",
              "      <td>1</td>\n",
              "      <td>1</td>\n",
              "      <td>0</td>\n",
              "      <td>2</td>\n",
              "      <td>0.333333</td>\n",
              "      <td>0.436297</td>\n",
              "    </tr>\n",
              "    <tr>\n",
              "      <th>16</th>\n",
              "      <td>1</td>\n",
              "      <td>1</td>\n",
              "      <td>0</td>\n",
              "      <td>2</td>\n",
              "      <td>0.416667</td>\n",
              "      <td>0.481395</td>\n",
              "    </tr>\n",
              "    <tr>\n",
              "      <th>17</th>\n",
              "      <td>1</td>\n",
              "      <td>1</td>\n",
              "      <td>0</td>\n",
              "      <td>2</td>\n",
              "      <td>0.5</td>\n",
              "      <td>0.5205</td>\n",
              "    </tr>\n",
              "    <tr>\n",
              "      <th>18</th>\n",
              "      <td>1</td>\n",
              "      <td>1</td>\n",
              "      <td>0</td>\n",
              "      <td>2</td>\n",
              "      <td>0.583333</td>\n",
              "      <td>0.554991</td>\n",
              "    </tr>\n",
              "    <tr>\n",
              "      <th>19</th>\n",
              "      <td>1</td>\n",
              "      <td>1</td>\n",
              "      <td>0</td>\n",
              "      <td>2</td>\n",
              "      <td>0.666667</td>\n",
              "      <td>0.585784</td>\n",
              "    </tr>\n",
              "    <tr>\n",
              "      <th>20</th>\n",
              "      <td>1</td>\n",
              "      <td>1</td>\n",
              "      <td>0</td>\n",
              "      <td>2</td>\n",
              "      <td>0.75</td>\n",
              "      <td>0.613524</td>\n",
              "    </tr>\n",
              "    <tr>\n",
              "      <th>21</th>\n",
              "      <td>1</td>\n",
              "      <td>1</td>\n",
              "      <td>0</td>\n",
              "      <td>2</td>\n",
              "      <td>0.833333</td>\n",
              "      <td>0.63869</td>\n",
              "    </tr>\n",
              "    <tr>\n",
              "      <th>22</th>\n",
              "      <td>1</td>\n",
              "      <td>1</td>\n",
              "      <td>0</td>\n",
              "      <td>2</td>\n",
              "      <td>0.916667</td>\n",
              "      <td>0.661648</td>\n",
              "    </tr>\n",
              "    <tr>\n",
              "      <th>23</th>\n",
              "      <td>1</td>\n",
              "      <td>1</td>\n",
              "      <td>0</td>\n",
              "      <td>2</td>\n",
              "      <td>1</td>\n",
              "      <td>0.682689</td>\n",
              "    </tr>\n",
              "    <tr>\n",
              "      <th>24</th>\n",
              "      <td>1</td>\n",
              "      <td>1</td>\n",
              "      <td>0</td>\n",
              "      <td>3</td>\n",
              "      <td>0.0833333</td>\n",
              "      <td>0.334994</td>\n",
              "    </tr>\n",
              "    <tr>\n",
              "      <th>25</th>\n",
              "      <td>1</td>\n",
              "      <td>1</td>\n",
              "      <td>0</td>\n",
              "      <td>3</td>\n",
              "      <td>0.166667</td>\n",
              "      <td>0.459709</td>\n",
              "    </tr>\n",
              "    <tr>\n",
              "      <th>26</th>\n",
              "      <td>1</td>\n",
              "      <td>1</td>\n",
              "      <td>0</td>\n",
              "      <td>3</td>\n",
              "      <td>0.25</td>\n",
              "      <td>0.546745</td>\n",
              "    </tr>\n",
              "    <tr>\n",
              "      <th>27</th>\n",
              "      <td>1</td>\n",
              "      <td>1</td>\n",
              "      <td>0</td>\n",
              "      <td>3</td>\n",
              "      <td>0.333333</td>\n",
              "      <td>0.613524</td>\n",
              "    </tr>\n",
              "    <tr>\n",
              "      <th>28</th>\n",
              "      <td>1</td>\n",
              "      <td>1</td>\n",
              "      <td>0</td>\n",
              "      <td>3</td>\n",
              "      <td>0.416667</td>\n",
              "      <td>0.667078</td>\n",
              "    </tr>\n",
              "    <tr>\n",
              "      <th>29</th>\n",
              "      <td>1</td>\n",
              "      <td>1</td>\n",
              "      <td>0</td>\n",
              "      <td>3</td>\n",
              "      <td>0.5</td>\n",
              "      <td>0.711156</td>\n",
              "    </tr>\n",
              "    <tr>\n",
              "      <th>...</th>\n",
              "      <td>...</td>\n",
              "      <td>...</td>\n",
              "      <td>...</td>\n",
              "      <td>...</td>\n",
              "      <td>...</td>\n",
              "      <td>...</td>\n",
              "    </tr>\n",
              "    <tr>\n",
              "      <th>83970</th>\n",
              "      <td>10</td>\n",
              "      <td>10</td>\n",
              "      <td>6</td>\n",
              "      <td>8</td>\n",
              "      <td>0.583333</td>\n",
              "      <td>9.9966</td>\n",
              "    </tr>\n",
              "    <tr>\n",
              "      <th>83971</th>\n",
              "      <td>10</td>\n",
              "      <td>10</td>\n",
              "      <td>6</td>\n",
              "      <td>8</td>\n",
              "      <td>0.666667</td>\n",
              "      <td>9.99874</td>\n",
              "    </tr>\n",
              "    <tr>\n",
              "      <th>83972</th>\n",
              "      <td>10</td>\n",
              "      <td>10</td>\n",
              "      <td>6</td>\n",
              "      <td>8</td>\n",
              "      <td>0.75</td>\n",
              "      <td>9.99953</td>\n",
              "    </tr>\n",
              "    <tr>\n",
              "      <th>83973</th>\n",
              "      <td>10</td>\n",
              "      <td>10</td>\n",
              "      <td>6</td>\n",
              "      <td>8</td>\n",
              "      <td>0.833333</td>\n",
              "      <td>9.99983</td>\n",
              "    </tr>\n",
              "    <tr>\n",
              "      <th>83974</th>\n",
              "      <td>10</td>\n",
              "      <td>10</td>\n",
              "      <td>6</td>\n",
              "      <td>8</td>\n",
              "      <td>0.916667</td>\n",
              "      <td>9.99993</td>\n",
              "    </tr>\n",
              "    <tr>\n",
              "      <th>83975</th>\n",
              "      <td>10</td>\n",
              "      <td>10</td>\n",
              "      <td>6</td>\n",
              "      <td>8</td>\n",
              "      <td>1</td>\n",
              "      <td>9.99998</td>\n",
              "    </tr>\n",
              "    <tr>\n",
              "      <th>83976</th>\n",
              "      <td>10</td>\n",
              "      <td>10</td>\n",
              "      <td>6</td>\n",
              "      <td>9</td>\n",
              "      <td>0.0833333</td>\n",
              "      <td>8.50665</td>\n",
              "    </tr>\n",
              "    <tr>\n",
              "      <th>83977</th>\n",
              "      <td>10</td>\n",
              "      <td>10</td>\n",
              "      <td>6</td>\n",
              "      <td>9</td>\n",
              "      <td>0.166667</td>\n",
              "      <td>9.6091</td>\n",
              "    </tr>\n",
              "    <tr>\n",
              "      <th>83978</th>\n",
              "      <td>10</td>\n",
              "      <td>10</td>\n",
              "      <td>6</td>\n",
              "      <td>9</td>\n",
              "      <td>0.25</td>\n",
              "      <td>9.8894</td>\n",
              "    </tr>\n",
              "    <tr>\n",
              "      <th>83979</th>\n",
              "      <td>10</td>\n",
              "      <td>10</td>\n",
              "      <td>6</td>\n",
              "      <td>9</td>\n",
              "      <td>0.333333</td>\n",
              "      <td>9.96753</td>\n",
              "    </tr>\n",
              "    <tr>\n",
              "      <th>83980</th>\n",
              "      <td>10</td>\n",
              "      <td>10</td>\n",
              "      <td>6</td>\n",
              "      <td>9</td>\n",
              "      <td>0.416667</td>\n",
              "      <td>9.99026</td>\n",
              "    </tr>\n",
              "    <tr>\n",
              "      <th>83981</th>\n",
              "      <td>10</td>\n",
              "      <td>10</td>\n",
              "      <td>6</td>\n",
              "      <td>9</td>\n",
              "      <td>0.5</td>\n",
              "      <td>9.99703</td>\n",
              "    </tr>\n",
              "    <tr>\n",
              "      <th>83982</th>\n",
              "      <td>10</td>\n",
              "      <td>10</td>\n",
              "      <td>6</td>\n",
              "      <td>9</td>\n",
              "      <td>0.583333</td>\n",
              "      <td>9.99909</td>\n",
              "    </tr>\n",
              "    <tr>\n",
              "      <th>83983</th>\n",
              "      <td>10</td>\n",
              "      <td>10</td>\n",
              "      <td>6</td>\n",
              "      <td>9</td>\n",
              "      <td>0.666667</td>\n",
              "      <td>9.99972</td>\n",
              "    </tr>\n",
              "    <tr>\n",
              "      <th>83984</th>\n",
              "      <td>10</td>\n",
              "      <td>10</td>\n",
              "      <td>6</td>\n",
              "      <td>9</td>\n",
              "      <td>0.75</td>\n",
              "      <td>9.99991</td>\n",
              "    </tr>\n",
              "    <tr>\n",
              "      <th>83985</th>\n",
              "      <td>10</td>\n",
              "      <td>10</td>\n",
              "      <td>6</td>\n",
              "      <td>9</td>\n",
              "      <td>0.833333</td>\n",
              "      <td>9.99997</td>\n",
              "    </tr>\n",
              "    <tr>\n",
              "      <th>83986</th>\n",
              "      <td>10</td>\n",
              "      <td>10</td>\n",
              "      <td>6</td>\n",
              "      <td>9</td>\n",
              "      <td>0.916667</td>\n",
              "      <td>9.99999</td>\n",
              "    </tr>\n",
              "    <tr>\n",
              "      <th>83987</th>\n",
              "      <td>10</td>\n",
              "      <td>10</td>\n",
              "      <td>6</td>\n",
              "      <td>9</td>\n",
              "      <td>1</td>\n",
              "      <td>10</td>\n",
              "    </tr>\n",
              "    <tr>\n",
              "      <th>83988</th>\n",
              "      <td>10</td>\n",
              "      <td>10</td>\n",
              "      <td>6</td>\n",
              "      <td>10</td>\n",
              "      <td>0.0833333</td>\n",
              "      <td>8.85142</td>\n",
              "    </tr>\n",
              "    <tr>\n",
              "      <th>83989</th>\n",
              "      <td>10</td>\n",
              "      <td>10</td>\n",
              "      <td>6</td>\n",
              "      <td>10</td>\n",
              "      <td>0.166667</td>\n",
              "      <td>9.75552</td>\n",
              "    </tr>\n",
              "    <tr>\n",
              "      <th>83990</th>\n",
              "      <td>10</td>\n",
              "      <td>10</td>\n",
              "      <td>6</td>\n",
              "      <td>10</td>\n",
              "      <td>0.25</td>\n",
              "      <td>9.94343</td>\n",
              "    </tr>\n",
              "    <tr>\n",
              "      <th>83991</th>\n",
              "      <td>10</td>\n",
              "      <td>10</td>\n",
              "      <td>6</td>\n",
              "      <td>10</td>\n",
              "      <td>0.333333</td>\n",
              "      <td>9.98638</td>\n",
              "    </tr>\n",
              "    <tr>\n",
              "      <th>83992</th>\n",
              "      <td>10</td>\n",
              "      <td>10</td>\n",
              "      <td>6</td>\n",
              "      <td>10</td>\n",
              "      <td>0.416667</td>\n",
              "      <td>9.99665</td>\n",
              "    </tr>\n",
              "    <tr>\n",
              "      <th>83993</th>\n",
              "      <td>10</td>\n",
              "      <td>10</td>\n",
              "      <td>6</td>\n",
              "      <td>10</td>\n",
              "      <td>0.5</td>\n",
              "      <td>9.99916</td>\n",
              "    </tr>\n",
              "    <tr>\n",
              "      <th>83994</th>\n",
              "      <td>10</td>\n",
              "      <td>10</td>\n",
              "      <td>6</td>\n",
              "      <td>10</td>\n",
              "      <td>0.583333</td>\n",
              "      <td>9.99979</td>\n",
              "    </tr>\n",
              "    <tr>\n",
              "      <th>83995</th>\n",
              "      <td>10</td>\n",
              "      <td>10</td>\n",
              "      <td>6</td>\n",
              "      <td>10</td>\n",
              "      <td>0.666667</td>\n",
              "      <td>9.99995</td>\n",
              "    </tr>\n",
              "    <tr>\n",
              "      <th>83996</th>\n",
              "      <td>10</td>\n",
              "      <td>10</td>\n",
              "      <td>6</td>\n",
              "      <td>10</td>\n",
              "      <td>0.75</td>\n",
              "      <td>9.99999</td>\n",
              "    </tr>\n",
              "    <tr>\n",
              "      <th>83997</th>\n",
              "      <td>10</td>\n",
              "      <td>10</td>\n",
              "      <td>6</td>\n",
              "      <td>10</td>\n",
              "      <td>0.833333</td>\n",
              "      <td>10</td>\n",
              "    </tr>\n",
              "    <tr>\n",
              "      <th>83998</th>\n",
              "      <td>10</td>\n",
              "      <td>10</td>\n",
              "      <td>6</td>\n",
              "      <td>10</td>\n",
              "      <td>0.916667</td>\n",
              "      <td>10</td>\n",
              "    </tr>\n",
              "    <tr>\n",
              "      <th>83999</th>\n",
              "      <td>10</td>\n",
              "      <td>10</td>\n",
              "      <td>6</td>\n",
              "      <td>10</td>\n",
              "      <td>1</td>\n",
              "      <td>10</td>\n",
              "    </tr>\n",
              "  </tbody>\n",
              "</table>\n",
              "<p>84000 rows × 6 columns</p>\n",
              "</div>"
            ],
            "text/plain": [
              "        S   X  R Sigma       Time     Value\n",
              "0       1   1  0     1  0.0833333  0.114766\n",
              "1       1   1  0     1   0.166667  0.161744\n",
              "2       1   1  0     1       0.25  0.197413\n",
              "3       1   1  0     1   0.333333   0.22717\n",
              "4       1   1  0     1   0.416667  0.253114\n",
              "5       1   1  0     1        0.5  0.276326\n",
              "6       1   1  0     1   0.583333  0.297451\n",
              "7       1   1  0     1   0.666667  0.316909\n",
              "8       1   1  0     1       0.75  0.334994\n",
              "9       1   1  0     1   0.833333  0.351923\n",
              "10      1   1  0     1   0.916667  0.367858\n",
              "11      1   1  0     1          1  0.382925\n",
              "12      1   1  0     2  0.0833333   0.22717\n",
              "13      1   1  0     2   0.166667  0.316909\n",
              "14      1   1  0     2       0.25  0.382925\n",
              "15      1   1  0     2   0.333333  0.436297\n",
              "16      1   1  0     2   0.416667  0.481395\n",
              "17      1   1  0     2        0.5    0.5205\n",
              "18      1   1  0     2   0.583333  0.554991\n",
              "19      1   1  0     2   0.666667  0.585784\n",
              "20      1   1  0     2       0.75  0.613524\n",
              "21      1   1  0     2   0.833333   0.63869\n",
              "22      1   1  0     2   0.916667  0.661648\n",
              "23      1   1  0     2          1  0.682689\n",
              "24      1   1  0     3  0.0833333  0.334994\n",
              "25      1   1  0     3   0.166667  0.459709\n",
              "26      1   1  0     3       0.25  0.546745\n",
              "27      1   1  0     3   0.333333  0.613524\n",
              "28      1   1  0     3   0.416667  0.667078\n",
              "29      1   1  0     3        0.5  0.711156\n",
              "...    ..  .. ..   ...        ...       ...\n",
              "83970  10  10  6     8   0.583333    9.9966\n",
              "83971  10  10  6     8   0.666667   9.99874\n",
              "83972  10  10  6     8       0.75   9.99953\n",
              "83973  10  10  6     8   0.833333   9.99983\n",
              "83974  10  10  6     8   0.916667   9.99993\n",
              "83975  10  10  6     8          1   9.99998\n",
              "83976  10  10  6     9  0.0833333   8.50665\n",
              "83977  10  10  6     9   0.166667    9.6091\n",
              "83978  10  10  6     9       0.25    9.8894\n",
              "83979  10  10  6     9   0.333333   9.96753\n",
              "83980  10  10  6     9   0.416667   9.99026\n",
              "83981  10  10  6     9        0.5   9.99703\n",
              "83982  10  10  6     9   0.583333   9.99909\n",
              "83983  10  10  6     9   0.666667   9.99972\n",
              "83984  10  10  6     9       0.75   9.99991\n",
              "83985  10  10  6     9   0.833333   9.99997\n",
              "83986  10  10  6     9   0.916667   9.99999\n",
              "83987  10  10  6     9          1        10\n",
              "83988  10  10  6    10  0.0833333   8.85142\n",
              "83989  10  10  6    10   0.166667   9.75552\n",
              "83990  10  10  6    10       0.25   9.94343\n",
              "83991  10  10  6    10   0.333333   9.98638\n",
              "83992  10  10  6    10   0.416667   9.99665\n",
              "83993  10  10  6    10        0.5   9.99916\n",
              "83994  10  10  6    10   0.583333   9.99979\n",
              "83995  10  10  6    10   0.666667   9.99995\n",
              "83996  10  10  6    10       0.75   9.99999\n",
              "83997  10  10  6    10   0.833333        10\n",
              "83998  10  10  6    10   0.916667        10\n",
              "83999  10  10  6    10          1        10\n",
              "\n",
              "[84000 rows x 6 columns]"
            ]
          },
          "metadata": {
            "tags": []
          },
          "execution_count": 40
        }
      ]
    },
    {
      "metadata": {
        "id": "U59jtpKsuD2s",
        "colab_type": "code",
        "outputId": "9339f7e7-398f-4952-b609-46e7da57dc7b",
        "colab": {
          "base_uri": "https://localhost:8080/",
          "height": 1142
        }
      },
      "cell_type": "code",
      "source": [
        "optionDF.tail"
      ],
      "execution_count": 0,
      "outputs": [
        {
          "output_type": "execute_result",
          "data": {
            "text/plain": [
              "<bound method NDFrame.tail of         S   X  R Sigma       Time     Value\n",
              "0       1   1  0     1  0.0833333  0.114766\n",
              "1       1   1  0     1   0.166667  0.161744\n",
              "2       1   1  0     1       0.25  0.197413\n",
              "3       1   1  0     1   0.333333   0.22717\n",
              "4       1   1  0     1   0.416667  0.253114\n",
              "5       1   1  0     1        0.5  0.276326\n",
              "6       1   1  0     1   0.583333  0.297451\n",
              "7       1   1  0     1   0.666667  0.316909\n",
              "8       1   1  0     1       0.75  0.334994\n",
              "9       1   1  0     1   0.833333  0.351923\n",
              "10      1   1  0     1   0.916667  0.367858\n",
              "11      1   1  0     1          1  0.382925\n",
              "12      1   1  0     2  0.0833333   0.22717\n",
              "13      1   1  0     2   0.166667  0.316909\n",
              "14      1   1  0     2       0.25  0.382925\n",
              "15      1   1  0     2   0.333333  0.436297\n",
              "16      1   1  0     2   0.416667  0.481395\n",
              "17      1   1  0     2        0.5    0.5205\n",
              "18      1   1  0     2   0.583333  0.554991\n",
              "19      1   1  0     2   0.666667  0.585784\n",
              "20      1   1  0     2       0.75  0.613524\n",
              "21      1   1  0     2   0.833333   0.63869\n",
              "22      1   1  0     2   0.916667  0.661648\n",
              "23      1   1  0     2          1  0.682689\n",
              "24      1   1  0     3  0.0833333  0.334994\n",
              "25      1   1  0     3   0.166667  0.459709\n",
              "26      1   1  0     3       0.25  0.546745\n",
              "27      1   1  0     3   0.333333  0.613524\n",
              "28      1   1  0     3   0.416667  0.667078\n",
              "29      1   1  0     3        0.5  0.711156\n",
              "...    ..  .. ..   ...        ...       ...\n",
              "83970  10  10  6     8   0.583333    9.9966\n",
              "83971  10  10  6     8   0.666667   9.99874\n",
              "83972  10  10  6     8       0.75   9.99953\n",
              "83973  10  10  6     8   0.833333   9.99983\n",
              "83974  10  10  6     8   0.916667   9.99993\n",
              "83975  10  10  6     8          1   9.99998\n",
              "83976  10  10  6     9  0.0833333   8.50665\n",
              "83977  10  10  6     9   0.166667    9.6091\n",
              "83978  10  10  6     9       0.25    9.8894\n",
              "83979  10  10  6     9   0.333333   9.96753\n",
              "83980  10  10  6     9   0.416667   9.99026\n",
              "83981  10  10  6     9        0.5   9.99703\n",
              "83982  10  10  6     9   0.583333   9.99909\n",
              "83983  10  10  6     9   0.666667   9.99972\n",
              "83984  10  10  6     9       0.75   9.99991\n",
              "83985  10  10  6     9   0.833333   9.99997\n",
              "83986  10  10  6     9   0.916667   9.99999\n",
              "83987  10  10  6     9          1        10\n",
              "83988  10  10  6    10  0.0833333   8.85142\n",
              "83989  10  10  6    10   0.166667   9.75552\n",
              "83990  10  10  6    10       0.25   9.94343\n",
              "83991  10  10  6    10   0.333333   9.98638\n",
              "83992  10  10  6    10   0.416667   9.99665\n",
              "83993  10  10  6    10        0.5   9.99916\n",
              "83994  10  10  6    10   0.583333   9.99979\n",
              "83995  10  10  6    10   0.666667   9.99995\n",
              "83996  10  10  6    10       0.75   9.99999\n",
              "83997  10  10  6    10   0.833333        10\n",
              "83998  10  10  6    10   0.916667        10\n",
              "83999  10  10  6    10          1        10\n",
              "\n",
              "[84000 rows x 6 columns]>"
            ]
          },
          "metadata": {
            "tags": []
          },
          "execution_count": 46
        }
      ]
    },
    {
      "metadata": {
        "id": "ioGqBXPhuIOf",
        "colab_type": "code",
        "outputId": "16b09f15-a9be-4e62-d7c7-34878c5584b2",
        "colab": {
          "base_uri": "https://localhost:8080/",
          "height": 199
        }
      },
      "cell_type": "code",
      "source": [
        "optionDF.tail()"
      ],
      "execution_count": 0,
      "outputs": [
        {
          "output_type": "execute_result",
          "data": {
            "text/html": [
              "<div>\n",
              "<style scoped>\n",
              "    .dataframe tbody tr th:only-of-type {\n",
              "        vertical-align: middle;\n",
              "    }\n",
              "\n",
              "    .dataframe tbody tr th {\n",
              "        vertical-align: top;\n",
              "    }\n",
              "\n",
              "    .dataframe thead th {\n",
              "        text-align: right;\n",
              "    }\n",
              "</style>\n",
              "<table border=\"1\" class=\"dataframe\">\n",
              "  <thead>\n",
              "    <tr style=\"text-align: right;\">\n",
              "      <th></th>\n",
              "      <th>S</th>\n",
              "      <th>X</th>\n",
              "      <th>R</th>\n",
              "      <th>Sigma</th>\n",
              "      <th>Time</th>\n",
              "      <th>Value</th>\n",
              "    </tr>\n",
              "  </thead>\n",
              "  <tbody>\n",
              "    <tr>\n",
              "      <th>83995</th>\n",
              "      <td>10</td>\n",
              "      <td>10</td>\n",
              "      <td>6</td>\n",
              "      <td>10</td>\n",
              "      <td>0.666667</td>\n",
              "      <td>9.99995</td>\n",
              "    </tr>\n",
              "    <tr>\n",
              "      <th>83996</th>\n",
              "      <td>10</td>\n",
              "      <td>10</td>\n",
              "      <td>6</td>\n",
              "      <td>10</td>\n",
              "      <td>0.75</td>\n",
              "      <td>9.99999</td>\n",
              "    </tr>\n",
              "    <tr>\n",
              "      <th>83997</th>\n",
              "      <td>10</td>\n",
              "      <td>10</td>\n",
              "      <td>6</td>\n",
              "      <td>10</td>\n",
              "      <td>0.833333</td>\n",
              "      <td>10</td>\n",
              "    </tr>\n",
              "    <tr>\n",
              "      <th>83998</th>\n",
              "      <td>10</td>\n",
              "      <td>10</td>\n",
              "      <td>6</td>\n",
              "      <td>10</td>\n",
              "      <td>0.916667</td>\n",
              "      <td>10</td>\n",
              "    </tr>\n",
              "    <tr>\n",
              "      <th>83999</th>\n",
              "      <td>10</td>\n",
              "      <td>10</td>\n",
              "      <td>6</td>\n",
              "      <td>10</td>\n",
              "      <td>1</td>\n",
              "      <td>10</td>\n",
              "    </tr>\n",
              "  </tbody>\n",
              "</table>\n",
              "</div>"
            ],
            "text/plain": [
              "        S   X  R Sigma      Time    Value\n",
              "83995  10  10  6    10  0.666667  9.99995\n",
              "83996  10  10  6    10      0.75  9.99999\n",
              "83997  10  10  6    10  0.833333       10\n",
              "83998  10  10  6    10  0.916667       10\n",
              "83999  10  10  6    10         1       10"
            ]
          },
          "metadata": {
            "tags": []
          },
          "execution_count": 48
        }
      ]
    },
    {
      "metadata": {
        "id": "-SVEY-2_WM1g",
        "colab_type": "code",
        "colab": {}
      },
      "cell_type": "code",
      "source": [
        "f=open('optionDF.csv', 'w')"
      ],
      "execution_count": 0,
      "outputs": []
    },
    {
      "metadata": {
        "id": "c14Q15afXEkm",
        "colab_type": "code",
        "colab": {}
      },
      "cell_type": "code",
      "source": [
        "optionDF.to_csv('optionDF.csv')"
      ],
      "execution_count": 0,
      "outputs": []
    },
    {
      "metadata": {
        "id": "9zMF1E5-XhBf",
        "colab_type": "code",
        "outputId": "0bded2be-f877-4ba0-dbb3-5354a01533d9",
        "colab": {
          "base_uri": "https://localhost:8080/",
          "height": 34
        }
      },
      "cell_type": "code",
      "source": [
        "!pwd"
      ],
      "execution_count": 0,
      "outputs": [
        {
          "output_type": "stream",
          "text": [
            "/content\n"
          ],
          "name": "stdout"
        }
      ]
    },
    {
      "metadata": {
        "id": "30F2NLA9Yp1O",
        "colab_type": "code",
        "outputId": "1478f480-cd87-46b1-841f-203a945904ee",
        "colab": {
          "base_uri": "https://localhost:8080/",
          "height": 122
        }
      },
      "cell_type": "code",
      "source": [
        "!ls -altr"
      ],
      "execution_count": 0,
      "outputs": [
        {
          "output_type": "stream",
          "text": [
            "total 4348\n",
            "drwxr-xr-x 1 root root    4096 Dec 18 20:29 .config\n",
            "drwxr-xr-x 1 root root    4096 Dec 18 20:29 sample_data\n",
            "drwxr-xr-x 1 root root    4096 Dec 24 20:26 ..\n",
            "drwxr-xr-x 1 root root    4096 Dec 24 22:35 .\n",
            "-rw-r--r-- 1 root root 4435738 Dec 24 22:42 optionDF.csv\n"
          ],
          "name": "stdout"
        }
      ]
    },
    {
      "metadata": {
        "id": "6QVm382MYrqt",
        "colab_type": "code",
        "colab": {}
      },
      "cell_type": "code",
      "source": [
        ""
      ],
      "execution_count": 0,
      "outputs": []
    },
    {
      "metadata": {
        "id": "GW67gBwqx9As",
        "colab_type": "code",
        "colab": {}
      },
      "cell_type": "code",
      "source": [
        ""
      ],
      "execution_count": 0,
      "outputs": []
    },
    {
      "metadata": {
        "id": "kXz1ZaaD0g8E",
        "colab_type": "code",
        "colab": {}
      },
      "cell_type": "code",
      "source": [
        ""
      ],
      "execution_count": 0,
      "outputs": []
    },
    {
      "metadata": {
        "id": "MBj4fGuQ0hlW",
        "colab_type": "code",
        "colab": {}
      },
      "cell_type": "code",
      "source": [
        ""
      ],
      "execution_count": 0,
      "outputs": []
    },
    {
      "metadata": {
        "id": "cmQznvpV0iGz",
        "colab_type": "code",
        "colab": {}
      },
      "cell_type": "code",
      "source": [
        ""
      ],
      "execution_count": 0,
      "outputs": []
    },
    {
      "metadata": {
        "id": "UIY5zM2o0ilr",
        "colab_type": "code",
        "colab": {}
      },
      "cell_type": "code",
      "source": [
        ""
      ],
      "execution_count": 0,
      "outputs": []
    },
    {
      "metadata": {
        "id": "F-87BKQT0jKg",
        "colab_type": "code",
        "colab": {}
      },
      "cell_type": "code",
      "source": [
        ""
      ],
      "execution_count": 0,
      "outputs": []
    }
  ]
}