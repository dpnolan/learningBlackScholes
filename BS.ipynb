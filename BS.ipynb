{
  "nbformat": 4,
  "nbformat_minor": 0,
  "metadata": {
    "colab": {
      "name": "BS",
      "version": "0.3.2",
      "provenance": [],
      "collapsed_sections": [],
      "include_colab_link": true
    },
    "kernelspec": {
      "name": "python3",
      "display_name": "Python 3"
    }
  },
  "cells": [
    {
      "cell_type": "markdown",
      "metadata": {
        "id": "view-in-github",
        "colab_type": "text"
      },
      "source": [
        "<a href=\"https://colab.research.google.com/github/dpnolan/learningBlackScholes/blob/master/BS.ipynb\" target=\"_parent\"><img src=\"https://colab.research.google.com/assets/colab-badge.svg\" alt=\"Open In Colab\"/></a>"
      ]
    },
    {
      "metadata": {
        "id": "ZXQPzWutowDl",
        "colab_type": "code",
        "colab": {}
      },
      "cell_type": "code",
      "source": [
        "import numpy as np\n",
        "import pandas as pd\n",
        "from math import log, sqrt, exp\n",
        "from scipy import stats\n"
      ],
      "execution_count": 0,
      "outputs": []
    },
    {
      "metadata": {
        "id": "QoRkmcnapMJC",
        "colab_type": "code",
        "colab": {
          "base_uri": "https://localhost:8080/",
          "height": 34
        },
        "outputId": "e336528d-e273-48cc-b8ba-45694b44d787"
      },
      "cell_type": "code",
      "source": [
        " import tensorflow as tf\n",
        "tf.__version__"
      ],
      "execution_count": 2,
      "outputs": [
        {
          "output_type": "execute_result",
          "data": {
            "text/plain": [
              "'1.12.0'"
            ]
          },
          "metadata": {
            "tags": []
          },
          "execution_count": 2
        }
      ]
    },
    {
      "metadata": {
        "id": "g8OMV9nypNQN",
        "colab_type": "code",
        "colab": {}
      },
      "cell_type": "code",
      "source": [
        "'''\n",
        "Black-Scholes vanilla European call price function, with the default values as shown in the example in Hull (2009)\n",
        "'''\n",
        "\n",
        "def bs(S=42,K=40,R=0.1,Sigma=0.2,T=0.5):\n",
        "    if ( np.any(S)==0 ):\n",
        "        return 0\n",
        "    elif (np.any(K)==0):\n",
        "        return S    \n",
        "    else:    \n",
        "        d1 = (np.log(S/K)  +   (R+(np.square(Sigma)/2) )* T )  / (Sigma*np.sqrt(T))  \n",
        "        d2 = d1 - (Sigma * np.sqrt(T) )   \n",
        "        c = S*stats.norm.cdf(d1, 0.0, 1.0)-  K*np.exp(-R*T)*stats.norm.cdf(d2, 0.0, 1.0)\n",
        "        return c  "
      ],
      "execution_count": 0,
      "outputs": []
    },
    {
      "metadata": {
        "id": "QB8PDcKvphtv",
        "colab_type": "code",
        "colab": {
          "base_uri": "https://localhost:8080/",
          "height": 34
        },
        "outputId": "943ba118-ae5d-40e2-b239-efce9147d25a"
      },
      "cell_type": "code",
      "source": [
        "bs()"
      ],
      "execution_count": 6,
      "outputs": [
        {
          "output_type": "execute_result",
          "data": {
            "text/plain": [
              "4.759422392871532"
            ]
          },
          "metadata": {
            "tags": []
          },
          "execution_count": 6
        }
      ]
    },
    {
      "metadata": {
        "id": "DRAs2_qPpkpe",
        "colab_type": "code",
        "colab": {}
      },
      "cell_type": "code",
      "source": [
        "BUSINESS_DAYS=252"
      ],
      "execution_count": 0,
      "outputs": []
    },
    {
      "metadata": {
        "id": "7poEYW9Lpt_W",
        "colab_type": "code",
        "colab": {}
      },
      "cell_type": "code",
      "source": [
        "NUMBER_S=10"
      ],
      "execution_count": 0,
      "outputs": []
    },
    {
      "metadata": {
        "id": "zYgeXMEWpwN-",
        "colab_type": "code",
        "colab": {}
      },
      "cell_type": "code",
      "source": [
        "INCREMENT_S=( 1/1 ) "
      ],
      "execution_count": 0,
      "outputs": []
    },
    {
      "metadata": {
        "id": "NrgnnEiwpzL2",
        "colab_type": "code",
        "colab": {}
      },
      "cell_type": "code",
      "source": [
        "NUMBER_X=10"
      ],
      "execution_count": 0,
      "outputs": []
    },
    {
      "metadata": {
        "id": "3DK3Pyj_p1Hj",
        "colab_type": "code",
        "colab": {}
      },
      "cell_type": "code",
      "source": [
        "INCREMENT_X=1/1"
      ],
      "execution_count": 0,
      "outputs": []
    },
    {
      "metadata": {
        "id": "KB_RME0yp4md",
        "colab_type": "code",
        "colab": {}
      },
      "cell_type": "code",
      "source": [
        "NUMBER_SIGMA=10"
      ],
      "execution_count": 0,
      "outputs": []
    },
    {
      "metadata": {
        "id": "GtoXnbR1p8ta",
        "colab_type": "code",
        "colab": {}
      },
      "cell_type": "code",
      "source": [
        "INCREMENT_SIGMA=1/1"
      ],
      "execution_count": 0,
      "outputs": []
    },
    {
      "metadata": {
        "id": "QOrXXPjdqBFN",
        "colab_type": "code",
        "colab": {}
      },
      "cell_type": "code",
      "source": [
        "NUMBER_T=BUSINESS_DAYS"
      ],
      "execution_count": 0,
      "outputs": []
    },
    {
      "metadata": {
        "id": "7_rMcbDTqDaK",
        "colab_type": "code",
        "colab": {}
      },
      "cell_type": "code",
      "source": [
        "INCREMENT_T=-int(BUSINESS_DAYS/12)"
      ],
      "execution_count": 0,
      "outputs": []
    },
    {
      "metadata": {
        "id": "kwzZJMfkqGDW",
        "colab_type": "code",
        "colab": {}
      },
      "cell_type": "code",
      "source": [
        "NUMBER_R=6"
      ],
      "execution_count": 0,
      "outputs": []
    },
    {
      "metadata": {
        "id": "VhDowYxTqJjU",
        "colab_type": "code",
        "colab": {}
      },
      "cell_type": "code",
      "source": [
        "INCREMENT_R=1"
      ],
      "execution_count": 0,
      "outputs": []
    },
    {
      "metadata": {
        "id": "y88WBLPuqLc_",
        "colab_type": "code",
        "colab": {}
      },
      "cell_type": "code",
      "source": [
        "optionS=np.array(np.arange(1,NUMBER_S+1,INCREMENT_S))"
      ],
      "execution_count": 0,
      "outputs": []
    },
    {
      "metadata": {
        "id": "zR0w_ZOlqV1h",
        "colab_type": "code",
        "colab": {
          "base_uri": "https://localhost:8080/",
          "height": 34
        },
        "outputId": "e251e649-983c-447a-afc6-32b692da1c95"
      },
      "cell_type": "code",
      "source": [
        "optionS"
      ],
      "execution_count": 19,
      "outputs": [
        {
          "output_type": "execute_result",
          "data": {
            "text/plain": [
              "array([ 1.,  2.,  3.,  4.,  5.,  6.,  7.,  8.,  9., 10.])"
            ]
          },
          "metadata": {
            "tags": []
          },
          "execution_count": 19
        }
      ]
    },
    {
      "metadata": {
        "id": "aAFbGN6oqXJP",
        "colab_type": "code",
        "colab": {}
      },
      "cell_type": "code",
      "source": [
        "optionX=np.array(np.arange(1,NUMBER_X+1,INCREMENT_X))"
      ],
      "execution_count": 0,
      "outputs": []
    },
    {
      "metadata": {
        "id": "oNF3AbPtqaeU",
        "colab_type": "code",
        "colab": {
          "base_uri": "https://localhost:8080/",
          "height": 34
        },
        "outputId": "3348946f-5a29-47d0-d4a7-f5b737b47965"
      },
      "cell_type": "code",
      "source": [
        "optionX"
      ],
      "execution_count": 21,
      "outputs": [
        {
          "output_type": "execute_result",
          "data": {
            "text/plain": [
              "array([ 1.,  2.,  3.,  4.,  5.,  6.,  7.,  8.,  9., 10.])"
            ]
          },
          "metadata": {
            "tags": []
          },
          "execution_count": 21
        }
      ]
    },
    {
      "metadata": {
        "id": "3TswAy_eqdeK",
        "colab_type": "code",
        "colab": {}
      },
      "cell_type": "code",
      "source": [
        "optionR=np.array(np.arange(0,NUMBER_R+1,INCREMENT_R))"
      ],
      "execution_count": 0,
      "outputs": []
    },
    {
      "metadata": {
        "id": "PkPve_JVqhnk",
        "colab_type": "code",
        "colab": {
          "base_uri": "https://localhost:8080/",
          "height": 34
        },
        "outputId": "5ca47181-1ae4-4729-dc35-1e77deb1ee67"
      },
      "cell_type": "code",
      "source": [
        "optionR"
      ],
      "execution_count": 36,
      "outputs": [
        {
          "output_type": "execute_result",
          "data": {
            "text/plain": [
              "array([0, 1, 2, 3, 4, 5])"
            ]
          },
          "metadata": {
            "tags": []
          },
          "execution_count": 36
        }
      ]
    },
    {
      "metadata": {
        "id": "iqhn8x3xqjzG",
        "colab_type": "code",
        "colab": {}
      },
      "cell_type": "code",
      "source": [
        "NUMBER_SIGMA=10"
      ],
      "execution_count": 0,
      "outputs": []
    },
    {
      "metadata": {
        "id": "N8P09Triqu26",
        "colab_type": "code",
        "colab": {}
      },
      "cell_type": "code",
      "source": [
        "INCREMENT_SIGMA=1/1"
      ],
      "execution_count": 0,
      "outputs": []
    },
    {
      "metadata": {
        "id": "XDKJHRM9qws3",
        "colab_type": "code",
        "colab": {
          "base_uri": "https://localhost:8080/",
          "height": 34
        },
        "outputId": "f1483326-503f-4e7b-c2e5-1e81f3d0b276"
      },
      "cell_type": "code",
      "source": [
        "INCREMENT_SIGMA"
      ],
      "execution_count": 26,
      "outputs": [
        {
          "output_type": "execute_result",
          "data": {
            "text/plain": [
              "1.0"
            ]
          },
          "metadata": {
            "tags": []
          },
          "execution_count": 26
        }
      ]
    },
    {
      "metadata": {
        "id": "nQZr6oWwqymw",
        "colab_type": "code",
        "colab": {}
      },
      "cell_type": "code",
      "source": [
        "optionSIGMA=np.array(np.arange(1,NUMBER_SIGMA+1,INCREMENT_SIGMA))"
      ],
      "execution_count": 0,
      "outputs": []
    },
    {
      "metadata": {
        "id": "61PfPjDuq3AB",
        "colab_type": "code",
        "colab": {
          "base_uri": "https://localhost:8080/",
          "height": 34
        },
        "outputId": "c6e5e89c-9582-4270-e8dc-88669ba6a4aa"
      },
      "cell_type": "code",
      "source": [
        "optionSIGMA"
      ],
      "execution_count": 28,
      "outputs": [
        {
          "output_type": "execute_result",
          "data": {
            "text/plain": [
              "array([ 1.,  2.,  3.,  4.,  5.,  6.,  7.,  8.,  9., 10.])"
            ]
          },
          "metadata": {
            "tags": []
          },
          "execution_count": 28
        }
      ]
    },
    {
      "metadata": {
        "id": "fvdcsgX5q5P0",
        "colab_type": "code",
        "colab": {}
      },
      "cell_type": "code",
      "source": [
        "optionT=(np.arange(-INCREMENT_T,NUMBER_T-INCREMENT_T,-INCREMENT_T))"
      ],
      "execution_count": 0,
      "outputs": []
    },
    {
      "metadata": {
        "id": "5ySMb-FIq70I",
        "colab_type": "code",
        "colab": {
          "base_uri": "https://localhost:8080/",
          "height": 34
        },
        "outputId": "0338fc38-44dd-4aa3-85c3-b7274822d28b"
      },
      "cell_type": "code",
      "source": [
        "optionT"
      ],
      "execution_count": 30,
      "outputs": [
        {
          "output_type": "execute_result",
          "data": {
            "text/plain": [
              "array([ 21,  42,  63,  84, 105, 126, 147, 168, 189, 210, 231, 252])"
            ]
          },
          "metadata": {
            "tags": []
          },
          "execution_count": 30
        }
      ]
    },
    {
      "metadata": {
        "id": "h6xKMp4bq9k8",
        "colab_type": "code",
        "colab": {}
      },
      "cell_type": "code",
      "source": [
        "NUMBER_OPTIONS=NUMBER_S*NUMBER_X*NUMBER_SIGMA*int(-NUMBER_T/INCREMENT_T)*NUMBER_R"
      ],
      "execution_count": 0,
      "outputs": []
    },
    {
      "metadata": {
        "id": "_IfVBSiNrLUe",
        "colab_type": "code",
        "colab": {
          "base_uri": "https://localhost:8080/",
          "height": 34
        },
        "outputId": "04d500ca-72a8-40d9-c0d1-b48701a01197"
      },
      "cell_type": "code",
      "source": [
        "NUMBER_OPTIONS"
      ],
      "execution_count": 43,
      "outputs": [
        {
          "output_type": "execute_result",
          "data": {
            "text/plain": [
              "72000"
            ]
          },
          "metadata": {
            "tags": []
          },
          "execution_count": 43
        }
      ]
    },
    {
      "metadata": {
        "id": "wLxOV-LGrMT0",
        "colab_type": "code",
        "colab": {}
      },
      "cell_type": "code",
      "source": [
        "optionValue=np.zeros(NUMBER_OPTIONS)"
      ],
      "execution_count": 0,
      "outputs": []
    },
    {
      "metadata": {
        "id": "8GJSVkGYr5Fm",
        "colab_type": "code",
        "colab": {}
      },
      "cell_type": "code",
      "source": [
        "optionDF=pd.DataFrame(index=np.arange(0,NUMBER_OPTIONS,1),columns=[\"S\",\"X\",\"R\",\"Sigma\",\"Time\",\"Value\"])"
      ],
      "execution_count": 0,
      "outputs": []
    },
    {
      "metadata": {
        "id": "QokVDEOmr7-1",
        "colab_type": "code",
        "colab": {
          "base_uri": "https://localhost:8080/",
          "height": 34
        },
        "outputId": "e70f3850-19d0-4bad-cd2a-e9e56417305c"
      },
      "cell_type": "code",
      "source": [
        "optionDF.shape"
      ],
      "execution_count": 46,
      "outputs": [
        {
          "output_type": "execute_result",
          "data": {
            "text/plain": [
              "(72000, 6)"
            ]
          },
          "metadata": {
            "tags": []
          },
          "execution_count": 46
        }
      ]
    },
    {
      "metadata": {
        "id": "AxD2NFvBsA24",
        "colab_type": "code",
        "colab": {}
      },
      "cell_type": "code",
      "source": [
        "%%time\n",
        "counter=0\n",
        "print(\"S\\tX\\tR\\tSigma\\tTime\\t\\tValue\")\n",
        "for s in optionS:\n",
        "    for x in optionX:\n",
        "        for r in optionR:\n",
        "            for sig in optionSIGMA:\n",
        "                for t in optionT:\n",
        "                    optionValue[counter]=bs(S=s,K=x,R=r,Sigma=sig,T=t/BUSINESS_DAYS)\n",
        "                    print(\"{:3.2f}\\t{:3.2f}\\t{:3.2f}\\t{:3.2f}\\t{:3f}\\t{:3.5f}\\n\".format(s,x,r,sig,t,optionValue[counter]))\n",
        "                    optionDF.loc[counter]=(s,x,r,sig,t/BUSINESS_DAYS,optionValue[counter])\n",
        "                    counter+=1  \n"
      ],
      "execution_count": 0,
      "outputs": []
    }
  ]
}