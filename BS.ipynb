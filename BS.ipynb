{
  "nbformat": 4,
  "nbformat_minor": 0,
  "metadata": {
    "colab": {
      "name": "BS",
      "version": "0.3.2",
      "provenance": [],
      "collapsed_sections": [],
      "include_colab_link": true
    },
    "kernelspec": {
      "name": "python3",
      "display_name": "Python 3"
    },
    "accelerator": "TPU"
  },
  "cells": [
    {
      "cell_type": "markdown",
      "metadata": {
        "id": "view-in-github",
        "colab_type": "text"
      },
      "source": [
        "<a href=\"https://colab.research.google.com/github/dpnolan/learningBlackScholes/blob/master/BS.ipynb\" target=\"_parent\"><img src=\"https://colab.research.google.com/assets/colab-badge.svg\" alt=\"Open In Colab\"/></a>"
      ]
    },
    {
      "metadata": {
        "id": "ZXQPzWutowDl",
        "colab_type": "code",
        "colab": {}
      },
      "cell_type": "code",
      "source": [
        "import numpy as np\n",
        "import pandas as pd\n",
        "from math import log, sqrt, exp\n",
        "from scipy import stats\n"
      ],
      "execution_count": 0,
      "outputs": []
    },
    {
      "metadata": {
        "id": "QoRkmcnapMJC",
        "colab_type": "code",
        "outputId": "04687e35-aa11-4513-cba4-fe78b78bdf0e",
        "colab": {
          "base_uri": "https://localhost:8080/",
          "height": 34
        }
      },
      "cell_type": "code",
      "source": [
        "import tensorflow as tf\n",
        "tf.__version__"
      ],
      "execution_count": 0,
      "outputs": [
        {
          "output_type": "execute_result",
          "data": {
            "text/plain": [
              "'1.12.0'"
            ]
          },
          "metadata": {
            "tags": []
          },
          "execution_count": 2
        }
      ]
    },
    {
      "metadata": {
        "id": "T3_tb1d0vZ7P",
        "colab_type": "code",
        "outputId": "64d012c9-ffe1-4218-a3e2-816aef2401a5",
        "colab": {
          "base_uri": "https://localhost:8080/",
          "height": 220
        }
      },
      "cell_type": "code",
      "source": [
        "#import tensorflow as tf\n",
        "device_name = tf.test.gpu_device_name()\n",
        "if device_name != '/device:GPU:0':\n",
        "  raise SystemError('GPU device not found')\n",
        "print('Found GPU at: {}'.format(device_name))"
      ],
      "execution_count": 0,
      "outputs": [
        {
          "output_type": "error",
          "ename": "SystemError",
          "evalue": "ignored",
          "traceback": [
            "\u001b[0;31m---------------------------------------------------------------------------\u001b[0m",
            "\u001b[0;31mSystemError\u001b[0m                               Traceback (most recent call last)",
            "\u001b[0;32m<ipython-input-3-ce08ddae0a7d>\u001b[0m in \u001b[0;36m<module>\u001b[0;34m()\u001b[0m\n\u001b[1;32m      1\u001b[0m \u001b[0mdevice_name\u001b[0m \u001b[0;34m=\u001b[0m \u001b[0mtf\u001b[0m\u001b[0;34m.\u001b[0m\u001b[0mtest\u001b[0m\u001b[0;34m.\u001b[0m\u001b[0mgpu_device_name\u001b[0m\u001b[0;34m(\u001b[0m\u001b[0;34m)\u001b[0m\u001b[0;34m\u001b[0m\u001b[0;34m\u001b[0m\u001b[0m\n\u001b[1;32m      2\u001b[0m \u001b[0;32mif\u001b[0m \u001b[0mdevice_name\u001b[0m \u001b[0;34m!=\u001b[0m \u001b[0;34m'/device:GPU:0'\u001b[0m\u001b[0;34m:\u001b[0m\u001b[0;34m\u001b[0m\u001b[0;34m\u001b[0m\u001b[0m\n\u001b[0;32m----> 3\u001b[0;31m   \u001b[0;32mraise\u001b[0m \u001b[0mSystemError\u001b[0m\u001b[0;34m(\u001b[0m\u001b[0;34m'GPU device not found'\u001b[0m\u001b[0;34m)\u001b[0m\u001b[0;34m\u001b[0m\u001b[0;34m\u001b[0m\u001b[0m\n\u001b[0m\u001b[1;32m      4\u001b[0m \u001b[0mprint\u001b[0m\u001b[0;34m(\u001b[0m\u001b[0;34m'Found GPU at: {}'\u001b[0m\u001b[0;34m.\u001b[0m\u001b[0mformat\u001b[0m\u001b[0;34m(\u001b[0m\u001b[0mdevice_name\u001b[0m\u001b[0;34m)\u001b[0m\u001b[0;34m)\u001b[0m\u001b[0;34m\u001b[0m\u001b[0;34m\u001b[0m\u001b[0m\n",
            "\u001b[0;31mSystemError\u001b[0m: GPU device not found"
          ]
        }
      ]
    },
    {
      "metadata": {
        "id": "g8OMV9nypNQN",
        "colab_type": "code",
        "colab": {}
      },
      "cell_type": "code",
      "source": [
        "'''\n",
        "Black-Scholes vanilla European call price function, with the default values as shown in the example in Hull (2009)\n",
        "'''\n",
        "\n",
        "def bs(S=42,K=40,R=0.1,Sigma=0.2,T=0.5):\n",
        "    if ( np.any(S)==0 ):\n",
        "        return 0\n",
        "    elif (np.any(K)==0):\n",
        "        return S    \n",
        "    else:    \n",
        "        d1 = (np.log(S/K)  +   (R+(np.square(Sigma)/2) )* T )  / (Sigma*np.sqrt(T))  \n",
        "        d2 = d1 - (Sigma * np.sqrt(T) )   \n",
        "        c = S*stats.norm.cdf(d1, 0.0, 1.0)-  K*np.exp(-R*T)*stats.norm.cdf(d2, 0.0, 1.0)\n",
        "        return c  "
      ],
      "execution_count": 0,
      "outputs": []
    },
    {
      "metadata": {
        "id": "QB8PDcKvphtv",
        "colab_type": "code",
        "outputId": "3b863226-4111-4397-d9ea-19e46b1c8f36",
        "colab": {
          "base_uri": "https://localhost:8080/",
          "height": 34
        }
      },
      "cell_type": "code",
      "source": [
        "bs()"
      ],
      "execution_count": 0,
      "outputs": [
        {
          "output_type": "execute_result",
          "data": {
            "text/plain": [
              "4.759422392871532"
            ]
          },
          "metadata": {
            "tags": []
          },
          "execution_count": 5
        }
      ]
    },
    {
      "metadata": {
        "id": "DxnD1H9XHCN0",
        "colab_type": "code",
        "colab": {}
      },
      "cell_type": "code",
      "source": [
        "u=np.arange(40,50,1)"
      ],
      "execution_count": 0,
      "outputs": []
    },
    {
      "metadata": {
        "id": "dbZw-qzPHC-r",
        "colab_type": "code",
        "outputId": "44583e55-66c2-4a9d-ef48-37c55bc6a37d",
        "colab": {
          "base_uri": "https://localhost:8080/",
          "height": 34
        }
      },
      "cell_type": "code",
      "source": [
        "u"
      ],
      "execution_count": 0,
      "outputs": [
        {
          "output_type": "execute_result",
          "data": {
            "text/plain": [
              "array([40, 41, 42, 43, 44, 45, 46, 47, 48, 49])"
            ]
          },
          "metadata": {
            "tags": []
          },
          "execution_count": 7
        }
      ]
    },
    {
      "metadata": {
        "id": "S2Y2MGc0HDUT",
        "colab_type": "code",
        "outputId": "a060860c-fcd0-47fa-c601-25eb175723ac",
        "colab": {
          "base_uri": "https://localhost:8080/",
          "height": 87
        }
      },
      "cell_type": "code",
      "source": [
        "%%time \n",
        "bs(u)"
      ],
      "execution_count": 0,
      "outputs": [
        {
          "output_type": "stream",
          "text": [
            "CPU times: user 225 µs, sys: 741 µs, total: 966 µs\n",
            "Wall time: 1.11 ms\n"
          ],
          "name": "stdout"
        },
        {
          "output_type": "execute_result",
          "data": {
            "text/plain": [
              "array([ 3.31112158,  4.00654253,  4.75942239,  5.56225965,  6.40747385,\n",
              "        7.28782062,  8.1966803 ,  9.12822647, 10.07749334, 11.04036612])"
            ]
          },
          "metadata": {
            "tags": []
          },
          "execution_count": 8
        }
      ]
    },
    {
      "metadata": {
        "id": "Nh09BCi2HDpL",
        "colab_type": "code",
        "outputId": "93ffda75-2f8f-47ea-b7db-37b07d52e929",
        "colab": {
          "base_uri": "https://localhost:8080/",
          "height": 52
        }
      },
      "cell_type": "code",
      "source": [
        "%%time\n",
        "for i in np.arange(40,50,1):\n",
        "  v=(bs(i))"
      ],
      "execution_count": 0,
      "outputs": [
        {
          "output_type": "stream",
          "text": [
            "CPU times: user 3.55 ms, sys: 1.11 ms, total: 4.67 ms\n",
            "Wall time: 3.97 ms\n"
          ],
          "name": "stdout"
        }
      ]
    },
    {
      "metadata": {
        "id": "Gpydz1qEHD89",
        "colab_type": "code",
        "colab": {}
      },
      "cell_type": "code",
      "source": [
        ""
      ],
      "execution_count": 0,
      "outputs": []
    },
    {
      "metadata": {
        "id": "DRAs2_qPpkpe",
        "colab_type": "code",
        "colab": {}
      },
      "cell_type": "code",
      "source": [
        "BUSINESS_DAYS=252"
      ],
      "execution_count": 0,
      "outputs": []
    },
    {
      "metadata": {
        "id": "7poEYW9Lpt_W",
        "colab_type": "code",
        "colab": {}
      },
      "cell_type": "code",
      "source": [
        "NUMBER_S=10"
      ],
      "execution_count": 0,
      "outputs": []
    },
    {
      "metadata": {
        "id": "zYgeXMEWpwN-",
        "colab_type": "code",
        "colab": {}
      },
      "cell_type": "code",
      "source": [
        "INCREMENT_S=( 1/1 ) "
      ],
      "execution_count": 0,
      "outputs": []
    },
    {
      "metadata": {
        "id": "NrgnnEiwpzL2",
        "colab_type": "code",
        "colab": {}
      },
      "cell_type": "code",
      "source": [
        "NUMBER_X=10"
      ],
      "execution_count": 0,
      "outputs": []
    },
    {
      "metadata": {
        "id": "3DK3Pyj_p1Hj",
        "colab_type": "code",
        "colab": {}
      },
      "cell_type": "code",
      "source": [
        "INCREMENT_X=1/1"
      ],
      "execution_count": 0,
      "outputs": []
    },
    {
      "metadata": {
        "id": "KB_RME0yp4md",
        "colab_type": "code",
        "colab": {}
      },
      "cell_type": "code",
      "source": [
        "NUMBER_SIGMA=10"
      ],
      "execution_count": 0,
      "outputs": []
    },
    {
      "metadata": {
        "id": "GtoXnbR1p8ta",
        "colab_type": "code",
        "colab": {}
      },
      "cell_type": "code",
      "source": [
        "INCREMENT_SIGMA=1/1"
      ],
      "execution_count": 0,
      "outputs": []
    },
    {
      "metadata": {
        "id": "QOrXXPjdqBFN",
        "colab_type": "code",
        "colab": {}
      },
      "cell_type": "code",
      "source": [
        "NUMBER_T=BUSINESS_DAYS"
      ],
      "execution_count": 0,
      "outputs": []
    },
    {
      "metadata": {
        "id": "7_rMcbDTqDaK",
        "colab_type": "code",
        "colab": {}
      },
      "cell_type": "code",
      "source": [
        "INCREMENT_T=-int(BUSINESS_DAYS/12)"
      ],
      "execution_count": 0,
      "outputs": []
    },
    {
      "metadata": {
        "id": "kwzZJMfkqGDW",
        "colab_type": "code",
        "colab": {}
      },
      "cell_type": "code",
      "source": [
        "NUMBER_R=6"
      ],
      "execution_count": 0,
      "outputs": []
    },
    {
      "metadata": {
        "id": "VhDowYxTqJjU",
        "colab_type": "code",
        "colab": {}
      },
      "cell_type": "code",
      "source": [
        "INCREMENT_R=1"
      ],
      "execution_count": 0,
      "outputs": []
    },
    {
      "metadata": {
        "id": "y88WBLPuqLc_",
        "colab_type": "code",
        "colab": {}
      },
      "cell_type": "code",
      "source": [
        "optionS=np.array(np.arange(1,NUMBER_S+1,INCREMENT_S))"
      ],
      "execution_count": 0,
      "outputs": []
    },
    {
      "metadata": {
        "id": "zR0w_ZOlqV1h",
        "colab_type": "code",
        "outputId": "474994a6-b72c-471a-9bf0-5288f917a566",
        "colab": {
          "base_uri": "https://localhost:8080/",
          "height": 34
        }
      },
      "cell_type": "code",
      "source": [
        "optionS"
      ],
      "execution_count": 0,
      "outputs": [
        {
          "output_type": "execute_result",
          "data": {
            "text/plain": [
              "array([ 1.,  2.,  3.,  4.,  5.,  6.,  7.,  8.,  9., 10.])"
            ]
          },
          "metadata": {
            "tags": []
          },
          "execution_count": 24
        }
      ]
    },
    {
      "metadata": {
        "id": "aAFbGN6oqXJP",
        "colab_type": "code",
        "colab": {}
      },
      "cell_type": "code",
      "source": [
        "optionX=np.array(np.arange(1,NUMBER_X+1,INCREMENT_X))"
      ],
      "execution_count": 0,
      "outputs": []
    },
    {
      "metadata": {
        "id": "oNF3AbPtqaeU",
        "colab_type": "code",
        "outputId": "57cf4ae8-8788-49cb-c047-aba1406eae23",
        "colab": {
          "base_uri": "https://localhost:8080/",
          "height": 34
        }
      },
      "cell_type": "code",
      "source": [
        "optionX"
      ],
      "execution_count": 0,
      "outputs": [
        {
          "output_type": "execute_result",
          "data": {
            "text/plain": [
              "array([ 1.,  2.,  3.,  4.,  5.,  6.,  7.,  8.,  9., 10.])"
            ]
          },
          "metadata": {
            "tags": []
          },
          "execution_count": 26
        }
      ]
    },
    {
      "metadata": {
        "id": "3TswAy_eqdeK",
        "colab_type": "code",
        "colab": {}
      },
      "cell_type": "code",
      "source": [
        "optionR=np.array(np.arange(0,NUMBER_R+1,INCREMENT_R))"
      ],
      "execution_count": 0,
      "outputs": []
    },
    {
      "metadata": {
        "id": "PkPve_JVqhnk",
        "colab_type": "code",
        "outputId": "b867bd63-41a7-4809-d18b-13d60e811b84",
        "colab": {
          "base_uri": "https://localhost:8080/",
          "height": 34
        }
      },
      "cell_type": "code",
      "source": [
        "optionR"
      ],
      "execution_count": 0,
      "outputs": [
        {
          "output_type": "execute_result",
          "data": {
            "text/plain": [
              "array([0, 1, 2, 3, 4, 5, 6])"
            ]
          },
          "metadata": {
            "tags": []
          },
          "execution_count": 28
        }
      ]
    },
    {
      "metadata": {
        "id": "iqhn8x3xqjzG",
        "colab_type": "code",
        "colab": {}
      },
      "cell_type": "code",
      "source": [
        "NUMBER_SIGMA=10"
      ],
      "execution_count": 0,
      "outputs": []
    },
    {
      "metadata": {
        "id": "N8P09Triqu26",
        "colab_type": "code",
        "colab": {}
      },
      "cell_type": "code",
      "source": [
        "INCREMENT_SIGMA=1/1"
      ],
      "execution_count": 0,
      "outputs": []
    },
    {
      "metadata": {
        "id": "XDKJHRM9qws3",
        "colab_type": "code",
        "outputId": "de4de367-f64a-43a8-c31b-5a03701fea09",
        "colab": {
          "base_uri": "https://localhost:8080/",
          "height": 34
        }
      },
      "cell_type": "code",
      "source": [
        "INCREMENT_SIGMA"
      ],
      "execution_count": 0,
      "outputs": [
        {
          "output_type": "execute_result",
          "data": {
            "text/plain": [
              "1.0"
            ]
          },
          "metadata": {
            "tags": []
          },
          "execution_count": 33
        }
      ]
    },
    {
      "metadata": {
        "id": "nQZr6oWwqymw",
        "colab_type": "code",
        "colab": {}
      },
      "cell_type": "code",
      "source": [
        "optionSIGMA=np.array(np.arange(1,NUMBER_SIGMA+1,INCREMENT_SIGMA))"
      ],
      "execution_count": 0,
      "outputs": []
    },
    {
      "metadata": {
        "id": "61PfPjDuq3AB",
        "colab_type": "code",
        "outputId": "ecbd7c50-9f40-419b-cc8e-a2d95642003d",
        "colab": {
          "base_uri": "https://localhost:8080/",
          "height": 34
        }
      },
      "cell_type": "code",
      "source": [
        "optionSIGMA"
      ],
      "execution_count": 0,
      "outputs": [
        {
          "output_type": "execute_result",
          "data": {
            "text/plain": [
              "array([ 1.,  2.,  3.,  4.,  5.,  6.,  7.,  8.,  9., 10.])"
            ]
          },
          "metadata": {
            "tags": []
          },
          "execution_count": 33
        }
      ]
    },
    {
      "metadata": {
        "id": "fvdcsgX5q5P0",
        "colab_type": "code",
        "colab": {}
      },
      "cell_type": "code",
      "source": [
        "optionT=(np.arange(-INCREMENT_T,NUMBER_T-INCREMENT_T,-INCREMENT_T))"
      ],
      "execution_count": 0,
      "outputs": []
    },
    {
      "metadata": {
        "id": "5ySMb-FIq70I",
        "colab_type": "code",
        "outputId": "ebb1b2a0-ac29-4a2e-ff7c-1565a7627d42",
        "colab": {
          "base_uri": "https://localhost:8080/",
          "height": 34
        }
      },
      "cell_type": "code",
      "source": [
        "optionT"
      ],
      "execution_count": 0,
      "outputs": [
        {
          "output_type": "execute_result",
          "data": {
            "text/plain": [
              "array([ 21,  42,  63,  84, 105, 126, 147, 168, 189, 210, 231, 252])"
            ]
          },
          "metadata": {
            "tags": []
          },
          "execution_count": 35
        }
      ]
    },
    {
      "metadata": {
        "id": "h6xKMp4bq9k8",
        "colab_type": "code",
        "colab": {}
      },
      "cell_type": "code",
      "source": [
        "NUMBER_OPTIONS=NUMBER_S*NUMBER_X*NUMBER_SIGMA*int(-NUMBER_T/INCREMENT_T)*(NUMBER_R+1)"
      ],
      "execution_count": 0,
      "outputs": []
    },
    {
      "metadata": {
        "id": "_IfVBSiNrLUe",
        "colab_type": "code",
        "outputId": "96f2e156-2328-4bfb-be56-0d54a162bf9d",
        "colab": {
          "base_uri": "https://localhost:8080/",
          "height": 34
        }
      },
      "cell_type": "code",
      "source": [
        "NUMBER_OPTIONS"
      ],
      "execution_count": 0,
      "outputs": [
        {
          "output_type": "execute_result",
          "data": {
            "text/plain": [
              "84000"
            ]
          },
          "metadata": {
            "tags": []
          },
          "execution_count": 37
        }
      ]
    },
    {
      "metadata": {
        "id": "wLxOV-LGrMT0",
        "colab_type": "code",
        "colab": {}
      },
      "cell_type": "code",
      "source": [
        "optionValue=np.zeros(NUMBER_OPTIONS)"
      ],
      "execution_count": 0,
      "outputs": []
    },
    {
      "metadata": {
        "id": "8GJSVkGYr5Fm",
        "colab_type": "code",
        "colab": {}
      },
      "cell_type": "code",
      "source": [
        "optionDF2=pd.DataFrame(index=np.arange(0,NUMBER_OPTIONS,1),columns=[\"S\",\"X\",\"R\",\"Sigma\",\"Time\",\"Value\"])"
      ],
      "execution_count": 0,
      "outputs": []
    },
    {
      "metadata": {
        "id": "QokVDEOmr7-1",
        "colab_type": "code",
        "outputId": "3a5a4b06-51ee-4beb-f8ca-7c698d5858ee",
        "colab": {
          "base_uri": "https://localhost:8080/",
          "height": 34
        }
      },
      "cell_type": "code",
      "source": [
        "optionDF2.shape"
      ],
      "execution_count": 0,
      "outputs": [
        {
          "output_type": "execute_result",
          "data": {
            "text/plain": [
              "(84000, 6)"
            ]
          },
          "metadata": {
            "tags": []
          },
          "execution_count": 42
        }
      ]
    },
    {
      "metadata": {
        "id": "Jv2odN9gwDox",
        "colab_type": "code",
        "outputId": "7361480e-5ec0-42e2-c828-cb3262c0c9b9",
        "colab": {
          "base_uri": "https://localhost:8080/",
          "height": 34
        }
      },
      "cell_type": "code",
      "source": [
        "optionValue"
      ],
      "execution_count": 0,
      "outputs": [
        {
          "output_type": "execute_result",
          "data": {
            "text/plain": [
              "array([0., 0., 0., ..., 0., 0., 0.])"
            ]
          },
          "metadata": {
            "tags": []
          },
          "execution_count": 43
        }
      ]
    },
    {
      "metadata": {
        "id": "-KU4NWc7wYla",
        "colab_type": "code",
        "colab": {}
      },
      "cell_type": "code",
      "source": [
        ""
      ],
      "execution_count": 0,
      "outputs": []
    },
    {
      "metadata": {
        "id": "0a3oBhPTw324",
        "colab_type": "code",
        "colab": {}
      },
      "cell_type": "code",
      "source": [
        "s=np.repeat(optionS,NUMBER_OPTIONS/optionS.size)"
      ],
      "execution_count": 0,
      "outputs": []
    },
    {
      "metadata": {
        "id": "vJcEvnFsyDkN",
        "colab_type": "code",
        "outputId": "46baf64d-3e01-4410-d4c5-3a2ed196dd1a",
        "colab": {
          "base_uri": "https://localhost:8080/",
          "height": 34
        }
      },
      "cell_type": "code",
      "source": [
        "optionS.size"
      ],
      "execution_count": 0,
      "outputs": [
        {
          "output_type": "execute_result",
          "data": {
            "text/plain": [
              "10"
            ]
          },
          "metadata": {
            "tags": []
          },
          "execution_count": 40
        }
      ]
    },
    {
      "metadata": {
        "id": "XdS1TdiZyXiw",
        "colab_type": "code",
        "outputId": "7b848e01-398b-4ecf-8555-e31873904d00",
        "colab": {
          "base_uri": "https://localhost:8080/",
          "height": 34
        }
      },
      "cell_type": "code",
      "source": [
        "s.shape"
      ],
      "execution_count": 0,
      "outputs": [
        {
          "output_type": "execute_result",
          "data": {
            "text/plain": [
              "(84000,)"
            ]
          },
          "metadata": {
            "tags": []
          },
          "execution_count": 41
        }
      ]
    },
    {
      "metadata": {
        "id": "0P_Mv79c0A_N",
        "colab_type": "code",
        "outputId": "1924e101-d454-41f7-9c51-5bef6b2d2617",
        "colab": {
          "base_uri": "https://localhost:8080/",
          "height": 122
        }
      },
      "cell_type": "code",
      "source": [
        "s[8350:8450]"
      ],
      "execution_count": 0,
      "outputs": [
        {
          "output_type": "execute_result",
          "data": {
            "text/plain": [
              "array([1., 1., 1., 1., 1., 1., 1., 1., 1., 1., 1., 1., 1., 1., 1., 1., 1.,\n",
              "       1., 1., 1., 1., 1., 1., 1., 1., 1., 1., 1., 1., 1., 1., 1., 1., 1.,\n",
              "       1., 1., 1., 1., 1., 1., 1., 1., 1., 1., 1., 1., 1., 1., 1., 1., 2.,\n",
              "       2., 2., 2., 2., 2., 2., 2., 2., 2., 2., 2., 2., 2., 2., 2., 2., 2.,\n",
              "       2., 2., 2., 2., 2., 2., 2., 2., 2., 2., 2., 2., 2., 2., 2., 2., 2.,\n",
              "       2., 2., 2., 2., 2., 2., 2., 2., 2., 2., 2., 2., 2., 2., 2.])"
            ]
          },
          "metadata": {
            "tags": []
          },
          "execution_count": 42
        }
      ]
    },
    {
      "metadata": {
        "id": "_dD-ZTLt1WKV",
        "colab_type": "code",
        "colab": {}
      },
      "cell_type": "code",
      "source": [
        "t=np.tile(optionT,7000)\n"
      ],
      "execution_count": 0,
      "outputs": []
    },
    {
      "metadata": {
        "id": "qyUmcblC4khW",
        "colab_type": "code",
        "outputId": "91953e4e-6c63-41ff-ecdd-321e285827bc",
        "colab": {
          "base_uri": "https://localhost:8080/",
          "height": 34
        }
      },
      "cell_type": "code",
      "source": [
        "t"
      ],
      "execution_count": 0,
      "outputs": [
        {
          "output_type": "execute_result",
          "data": {
            "text/plain": [
              "array([ 21,  42,  63, ..., 210, 231, 252])"
            ]
          },
          "metadata": {
            "tags": []
          },
          "execution_count": 44
        }
      ]
    },
    {
      "metadata": {
        "id": "69nX6qU40fJf",
        "colab_type": "code",
        "outputId": "64a65f39-24be-4a27-9a4f-fdcdbb3a9bc7",
        "colab": {
          "base_uri": "https://localhost:8080/",
          "height": 52
        }
      },
      "cell_type": "code",
      "source": [
        "t[:25]"
      ],
      "execution_count": 0,
      "outputs": [
        {
          "output_type": "execute_result",
          "data": {
            "text/plain": [
              "array([ 21,  42,  63,  84, 105, 126, 147, 168, 189, 210, 231, 252,  21,\n",
              "        42,  63,  84, 105, 126, 147, 168, 189, 210, 231, 252,  21])"
            ]
          },
          "metadata": {
            "tags": []
          },
          "execution_count": 45
        }
      ]
    },
    {
      "metadata": {
        "id": "xZlmzyk10bO4",
        "colab_type": "code",
        "outputId": "2f499507-9666-4f49-b858-0898b75d17bf",
        "colab": {
          "base_uri": "https://localhost:8080/",
          "height": 52
        }
      },
      "cell_type": "code",
      "source": [
        "t[-24:]"
      ],
      "execution_count": 0,
      "outputs": [
        {
          "output_type": "execute_result",
          "data": {
            "text/plain": [
              "array([ 21,  42,  63,  84, 105, 126, 147, 168, 189, 210, 231, 252,  21,\n",
              "        42,  63,  84, 105, 126, 147, 168, 189, 210, 231, 252])"
            ]
          },
          "metadata": {
            "tags": []
          },
          "execution_count": 50
        }
      ]
    },
    {
      "metadata": {
        "id": "OZHw1Z_LxKIJ",
        "colab_type": "code",
        "outputId": "adcad66d-3c69-4539-dc8a-bf454142c86e",
        "colab": {
          "base_uri": "https://localhost:8080/",
          "height": 34
        }
      },
      "cell_type": "code",
      "source": [
        "t.size"
      ],
      "execution_count": 0,
      "outputs": [
        {
          "output_type": "execute_result",
          "data": {
            "text/plain": [
              "84000"
            ]
          },
          "metadata": {
            "tags": []
          },
          "execution_count": 51
        }
      ]
    },
    {
      "metadata": {
        "id": "XzIVdIrcwyF5",
        "colab_type": "code",
        "colab": {}
      },
      "cell_type": "code",
      "source": [
        "r=np.tile(np.repeat(optionR,12),1000)"
      ],
      "execution_count": 0,
      "outputs": []
    },
    {
      "metadata": {
        "id": "f4WbIcc2wzLA",
        "colab_type": "code",
        "outputId": "9ccff644-187d-474f-df81-d5088e731cb4",
        "colab": {
          "base_uri": "https://localhost:8080/",
          "height": 421
        }
      },
      "cell_type": "code",
      "source": [
        "r[0:500]"
      ],
      "execution_count": 0,
      "outputs": [
        {
          "output_type": "execute_result",
          "data": {
            "text/plain": [
              "array([0, 0, 0, 0, 0, 0, 0, 0, 0, 0, 0, 0, 1, 1, 1, 1, 1, 1, 1, 1, 1, 1,\n",
              "       1, 1, 2, 2, 2, 2, 2, 2, 2, 2, 2, 2, 2, 2, 3, 3, 3, 3, 3, 3, 3, 3,\n",
              "       3, 3, 3, 3, 4, 4, 4, 4, 4, 4, 4, 4, 4, 4, 4, 4, 5, 5, 5, 5, 5, 5,\n",
              "       5, 5, 5, 5, 5, 5, 6, 6, 6, 6, 6, 6, 6, 6, 6, 6, 6, 6, 0, 0, 0, 0,\n",
              "       0, 0, 0, 0, 0, 0, 0, 0, 1, 1, 1, 1, 1, 1, 1, 1, 1, 1, 1, 1, 2, 2,\n",
              "       2, 2, 2, 2, 2, 2, 2, 2, 2, 2, 3, 3, 3, 3, 3, 3, 3, 3, 3, 3, 3, 3,\n",
              "       4, 4, 4, 4, 4, 4, 4, 4, 4, 4, 4, 4, 5, 5, 5, 5, 5, 5, 5, 5, 5, 5,\n",
              "       5, 5, 6, 6, 6, 6, 6, 6, 6, 6, 6, 6, 6, 6, 0, 0, 0, 0, 0, 0, 0, 0,\n",
              "       0, 0, 0, 0, 1, 1, 1, 1, 1, 1, 1, 1, 1, 1, 1, 1, 2, 2, 2, 2, 2, 2,\n",
              "       2, 2, 2, 2, 2, 2, 3, 3, 3, 3, 3, 3, 3, 3, 3, 3, 3, 3, 4, 4, 4, 4,\n",
              "       4, 4, 4, 4, 4, 4, 4, 4, 5, 5, 5, 5, 5, 5, 5, 5, 5, 5, 5, 5, 6, 6,\n",
              "       6, 6, 6, 6, 6, 6, 6, 6, 6, 6, 0, 0, 0, 0, 0, 0, 0, 0, 0, 0, 0, 0,\n",
              "       1, 1, 1, 1, 1, 1, 1, 1, 1, 1, 1, 1, 2, 2, 2, 2, 2, 2, 2, 2, 2, 2,\n",
              "       2, 2, 3, 3, 3, 3, 3, 3, 3, 3, 3, 3, 3, 3, 4, 4, 4, 4, 4, 4, 4, 4,\n",
              "       4, 4, 4, 4, 5, 5, 5, 5, 5, 5, 5, 5, 5, 5, 5, 5, 6, 6, 6, 6, 6, 6,\n",
              "       6, 6, 6, 6, 6, 6, 0, 0, 0, 0, 0, 0, 0, 0, 0, 0, 0, 0, 1, 1, 1, 1,\n",
              "       1, 1, 1, 1, 1, 1, 1, 1, 2, 2, 2, 2, 2, 2, 2, 2, 2, 2, 2, 2, 3, 3,\n",
              "       3, 3, 3, 3, 3, 3, 3, 3, 3, 3, 4, 4, 4, 4, 4, 4, 4, 4, 4, 4, 4, 4,\n",
              "       5, 5, 5, 5, 5, 5, 5, 5, 5, 5, 5, 5, 6, 6, 6, 6, 6, 6, 6, 6, 6, 6,\n",
              "       6, 6, 0, 0, 0, 0, 0, 0, 0, 0, 0, 0, 0, 0, 1, 1, 1, 1, 1, 1, 1, 1,\n",
              "       1, 1, 1, 1, 2, 2, 2, 2, 2, 2, 2, 2, 2, 2, 2, 2, 3, 3, 3, 3, 3, 3,\n",
              "       3, 3, 3, 3, 3, 3, 4, 4, 4, 4, 4, 4, 4, 4, 4, 4, 4, 4, 5, 5, 5, 5,\n",
              "       5, 5, 5, 5, 5, 5, 5, 5, 6, 6, 6, 6, 6, 6, 6, 6])"
            ]
          },
          "metadata": {
            "tags": []
          },
          "execution_count": 69
        }
      ]
    },
    {
      "metadata": {
        "id": "5nA6owuCwz8m",
        "colab_type": "code",
        "outputId": "68eb473b-c427-4323-ee19-40619d746296",
        "colab": {
          "base_uri": "https://localhost:8080/",
          "height": 34
        }
      },
      "cell_type": "code",
      "source": [
        "r.size"
      ],
      "execution_count": 0,
      "outputs": [
        {
          "output_type": "execute_result",
          "data": {
            "text/plain": [
              "84000"
            ]
          },
          "metadata": {
            "tags": []
          },
          "execution_count": 70
        }
      ]
    },
    {
      "metadata": {
        "id": "2UAH92Lzw0gP",
        "colab_type": "code",
        "colab": {}
      },
      "cell_type": "code",
      "source": [
        "sig=np.tile(np.repeat(optionSIGMA,84),100)"
      ],
      "execution_count": 0,
      "outputs": []
    },
    {
      "metadata": {
        "id": "lsq3YtzMw1PA",
        "colab_type": "code",
        "outputId": "1bc8e1d1-5f65-408f-f402-a4ea5fcea460",
        "colab": {
          "base_uri": "https://localhost:8080/",
          "height": 34
        }
      },
      "cell_type": "code",
      "source": [
        "sig[80:90]"
      ],
      "execution_count": 0,
      "outputs": [
        {
          "output_type": "execute_result",
          "data": {
            "text/plain": [
              "array([1., 1., 1., 1., 2., 2., 2., 2., 2., 2.])"
            ]
          },
          "metadata": {
            "tags": []
          },
          "execution_count": 77
        }
      ]
    },
    {
      "metadata": {
        "id": "wKg6wOkEz8mA",
        "colab_type": "code",
        "colab": {}
      },
      "cell_type": "code",
      "source": [
        "x=np.tile(np.repeat(optionX,840),10)"
      ],
      "execution_count": 0,
      "outputs": []
    },
    {
      "metadata": {
        "id": "wp57kCSMz9ZO",
        "colab_type": "code",
        "outputId": "59602b74-bd0f-4d21-802b-aaa4bba2ed77",
        "colab": {
          "base_uri": "https://localhost:8080/",
          "height": 34
        }
      },
      "cell_type": "code",
      "source": [
        "x"
      ],
      "execution_count": 0,
      "outputs": [
        {
          "output_type": "execute_result",
          "data": {
            "text/plain": [
              "array([ 1.,  1.,  1., ..., 10., 10., 10.])"
            ]
          },
          "metadata": {
            "tags": []
          },
          "execution_count": 82
        }
      ]
    },
    {
      "metadata": {
        "id": "bvpm6mzKz-Qn",
        "colab_type": "code",
        "outputId": "1bd88e91-2f66-4f41-dbf0-70903d57cd19",
        "colab": {
          "base_uri": "https://localhost:8080/",
          "height": 34
        }
      },
      "cell_type": "code",
      "source": [
        "x.size"
      ],
      "execution_count": 0,
      "outputs": [
        {
          "output_type": "execute_result",
          "data": {
            "text/plain": [
              "84000"
            ]
          },
          "metadata": {
            "tags": []
          },
          "execution_count": 83
        }
      ]
    },
    {
      "metadata": {
        "id": "QH4sBQvJz-sQ",
        "colab_type": "code",
        "outputId": "7690e236-ff9c-4481-c483-efb8e31868cc",
        "colab": {
          "base_uri": "https://localhost:8080/",
          "height": 122
        }
      },
      "cell_type": "code",
      "source": [
        "[]x[:100]"
      ],
      "execution_count": 0,
      "outputs": [
        {
          "output_type": "execute_result",
          "data": {
            "text/plain": [
              "array([1., 1., 1., 1., 1., 1., 1., 1., 1., 1., 1., 1., 1., 1., 1., 1., 1.,\n",
              "       1., 1., 1., 1., 1., 1., 1., 1., 1., 1., 1., 1., 1., 1., 1., 1., 1.,\n",
              "       1., 1., 1., 1., 1., 1., 1., 1., 1., 1., 1., 1., 1., 1., 1., 1., 1.,\n",
              "       1., 1., 1., 1., 1., 1., 1., 1., 1., 1., 1., 1., 1., 1., 1., 1., 1.,\n",
              "       1., 1., 1., 1., 1., 1., 1., 1., 1., 1., 1., 1., 1., 1., 1., 1., 1.,\n",
              "       1., 1., 1., 1., 1., 1., 1., 1., 1., 1., 1., 1., 1., 1., 1.])"
            ]
          },
          "metadata": {
            "tags": []
          },
          "execution_count": 84
        }
      ]
    },
    {
      "metadata": {
        "id": "QGRQMQZ_z_KQ",
        "colab_type": "code",
        "colab": {}
      },
      "cell_type": "code",
      "source": [
        "optionDF3=pd.DataFrame(data={\"S\":s,\"X\":x,\"Sigma\":sig,\"R\":r,\"T\":t,\"Value\":v},index=np.arange(0,NUMBER_OPTIONS,1))"
      ],
      "execution_count": 0,
      "outputs": []
    },
    {
      "metadata": {
        "id": "glnqws6h5lRT",
        "colab_type": "code",
        "colab": {}
      },
      "cell_type": "code",
      "source": [
        "optionDF3=optionDF3[['S','X','Sigma','R','T','Value']]"
      ],
      "execution_count": 0,
      "outputs": []
    },
    {
      "metadata": {
        "id": "1iHymwHN2-uA",
        "colab_type": "code",
        "colab": {}
      },
      "cell_type": "code",
      "source": [
        "v=np.zeros((NUMBER_OPTIONS))"
      ],
      "execution_count": 0,
      "outputs": []
    },
    {
      "metadata": {
        "id": "cZZ-Zzim7HI5",
        "colab_type": "code",
        "outputId": "b2490539-623b-4a23-a3c6-299ef8d469ff",
        "colab": {
          "base_uri": "https://localhost:8080/",
          "height": 34
        }
      },
      "cell_type": "code",
      "source": [
        "optionDF3.shape"
      ],
      "execution_count": 0,
      "outputs": [
        {
          "output_type": "execute_result",
          "data": {
            "text/plain": [
              "(84000, 6)"
            ]
          },
          "metadata": {
            "tags": []
          },
          "execution_count": 152
        }
      ]
    },
    {
      "metadata": {
        "id": "d3Wr4np15p_O",
        "colab_type": "code",
        "outputId": "944e0d16-0969-4ee6-efdf-eab6fd83283f",
        "colab": {
          "base_uri": "https://localhost:8080/",
          "height": 14974
        }
      },
      "cell_type": "code",
      "source": [
        "pd.set_option('display.max_rows',1000)\n",
        "print(optionDF3[:850])"
      ],
      "execution_count": 0,
      "outputs": [
        {
          "output_type": "stream",
          "text": [
            "       S    X  Sigma  R    T  Value\n",
            "0    1.0  1.0    1.0  0   21    0.0\n",
            "1    1.0  1.0    1.0  0   42    0.0\n",
            "2    1.0  1.0    1.0  0   63    0.0\n",
            "3    1.0  1.0    1.0  0   84    0.0\n",
            "4    1.0  1.0    1.0  0  105    0.0\n",
            "5    1.0  1.0    1.0  0  126    0.0\n",
            "6    1.0  1.0    1.0  0  147    0.0\n",
            "7    1.0  1.0    1.0  0  168    0.0\n",
            "8    1.0  1.0    1.0  0  189    0.0\n",
            "9    1.0  1.0    1.0  0  210    0.0\n",
            "10   1.0  1.0    1.0  0  231    0.0\n",
            "11   1.0  1.0    1.0  0  252    0.0\n",
            "12   1.0  1.0    1.0  1   21    0.0\n",
            "13   1.0  1.0    1.0  1   42    0.0\n",
            "14   1.0  1.0    1.0  1   63    0.0\n",
            "15   1.0  1.0    1.0  1   84    0.0\n",
            "16   1.0  1.0    1.0  1  105    0.0\n",
            "17   1.0  1.0    1.0  1  126    0.0\n",
            "18   1.0  1.0    1.0  1  147    0.0\n",
            "19   1.0  1.0    1.0  1  168    0.0\n",
            "20   1.0  1.0    1.0  1  189    0.0\n",
            "21   1.0  1.0    1.0  1  210    0.0\n",
            "22   1.0  1.0    1.0  1  231    0.0\n",
            "23   1.0  1.0    1.0  1  252    0.0\n",
            "24   1.0  1.0    1.0  2   21    0.0\n",
            "25   1.0  1.0    1.0  2   42    0.0\n",
            "26   1.0  1.0    1.0  2   63    0.0\n",
            "27   1.0  1.0    1.0  2   84    0.0\n",
            "28   1.0  1.0    1.0  2  105    0.0\n",
            "29   1.0  1.0    1.0  2  126    0.0\n",
            "30   1.0  1.0    1.0  2  147    0.0\n",
            "31   1.0  1.0    1.0  2  168    0.0\n",
            "32   1.0  1.0    1.0  2  189    0.0\n",
            "33   1.0  1.0    1.0  2  210    0.0\n",
            "34   1.0  1.0    1.0  2  231    0.0\n",
            "35   1.0  1.0    1.0  2  252    0.0\n",
            "36   1.0  1.0    1.0  3   21    0.0\n",
            "37   1.0  1.0    1.0  3   42    0.0\n",
            "38   1.0  1.0    1.0  3   63    0.0\n",
            "39   1.0  1.0    1.0  3   84    0.0\n",
            "40   1.0  1.0    1.0  3  105    0.0\n",
            "41   1.0  1.0    1.0  3  126    0.0\n",
            "42   1.0  1.0    1.0  3  147    0.0\n",
            "43   1.0  1.0    1.0  3  168    0.0\n",
            "44   1.0  1.0    1.0  3  189    0.0\n",
            "45   1.0  1.0    1.0  3  210    0.0\n",
            "46   1.0  1.0    1.0  3  231    0.0\n",
            "47   1.0  1.0    1.0  3  252    0.0\n",
            "48   1.0  1.0    1.0  4   21    0.0\n",
            "49   1.0  1.0    1.0  4   42    0.0\n",
            "50   1.0  1.0    1.0  4   63    0.0\n",
            "51   1.0  1.0    1.0  4   84    0.0\n",
            "52   1.0  1.0    1.0  4  105    0.0\n",
            "53   1.0  1.0    1.0  4  126    0.0\n",
            "54   1.0  1.0    1.0  4  147    0.0\n",
            "55   1.0  1.0    1.0  4  168    0.0\n",
            "56   1.0  1.0    1.0  4  189    0.0\n",
            "57   1.0  1.0    1.0  4  210    0.0\n",
            "58   1.0  1.0    1.0  4  231    0.0\n",
            "59   1.0  1.0    1.0  4  252    0.0\n",
            "60   1.0  1.0    1.0  5   21    0.0\n",
            "61   1.0  1.0    1.0  5   42    0.0\n",
            "62   1.0  1.0    1.0  5   63    0.0\n",
            "63   1.0  1.0    1.0  5   84    0.0\n",
            "64   1.0  1.0    1.0  5  105    0.0\n",
            "65   1.0  1.0    1.0  5  126    0.0\n",
            "66   1.0  1.0    1.0  5  147    0.0\n",
            "67   1.0  1.0    1.0  5  168    0.0\n",
            "68   1.0  1.0    1.0  5  189    0.0\n",
            "69   1.0  1.0    1.0  5  210    0.0\n",
            "70   1.0  1.0    1.0  5  231    0.0\n",
            "71   1.0  1.0    1.0  5  252    0.0\n",
            "72   1.0  1.0    1.0  6   21    0.0\n",
            "73   1.0  1.0    1.0  6   42    0.0\n",
            "74   1.0  1.0    1.0  6   63    0.0\n",
            "75   1.0  1.0    1.0  6   84    0.0\n",
            "76   1.0  1.0    1.0  6  105    0.0\n",
            "77   1.0  1.0    1.0  6  126    0.0\n",
            "78   1.0  1.0    1.0  6  147    0.0\n",
            "79   1.0  1.0    1.0  6  168    0.0\n",
            "80   1.0  1.0    1.0  6  189    0.0\n",
            "81   1.0  1.0    1.0  6  210    0.0\n",
            "82   1.0  1.0    1.0  6  231    0.0\n",
            "83   1.0  1.0    1.0  6  252    0.0\n",
            "84   1.0  1.0    2.0  0   21    0.0\n",
            "85   1.0  1.0    2.0  0   42    0.0\n",
            "86   1.0  1.0    2.0  0   63    0.0\n",
            "87   1.0  1.0    2.0  0   84    0.0\n",
            "88   1.0  1.0    2.0  0  105    0.0\n",
            "89   1.0  1.0    2.0  0  126    0.0\n",
            "90   1.0  1.0    2.0  0  147    0.0\n",
            "91   1.0  1.0    2.0  0  168    0.0\n",
            "92   1.0  1.0    2.0  0  189    0.0\n",
            "93   1.0  1.0    2.0  0  210    0.0\n",
            "94   1.0  1.0    2.0  0  231    0.0\n",
            "95   1.0  1.0    2.0  0  252    0.0\n",
            "96   1.0  1.0    2.0  1   21    0.0\n",
            "97   1.0  1.0    2.0  1   42    0.0\n",
            "98   1.0  1.0    2.0  1   63    0.0\n",
            "99   1.0  1.0    2.0  1   84    0.0\n",
            "100  1.0  1.0    2.0  1  105    0.0\n",
            "101  1.0  1.0    2.0  1  126    0.0\n",
            "102  1.0  1.0    2.0  1  147    0.0\n",
            "103  1.0  1.0    2.0  1  168    0.0\n",
            "104  1.0  1.0    2.0  1  189    0.0\n",
            "105  1.0  1.0    2.0  1  210    0.0\n",
            "106  1.0  1.0    2.0  1  231    0.0\n",
            "107  1.0  1.0    2.0  1  252    0.0\n",
            "108  1.0  1.0    2.0  2   21    0.0\n",
            "109  1.0  1.0    2.0  2   42    0.0\n",
            "110  1.0  1.0    2.0  2   63    0.0\n",
            "111  1.0  1.0    2.0  2   84    0.0\n",
            "112  1.0  1.0    2.0  2  105    0.0\n",
            "113  1.0  1.0    2.0  2  126    0.0\n",
            "114  1.0  1.0    2.0  2  147    0.0\n",
            "115  1.0  1.0    2.0  2  168    0.0\n",
            "116  1.0  1.0    2.0  2  189    0.0\n",
            "117  1.0  1.0    2.0  2  210    0.0\n",
            "118  1.0  1.0    2.0  2  231    0.0\n",
            "119  1.0  1.0    2.0  2  252    0.0\n",
            "120  1.0  1.0    2.0  3   21    0.0\n",
            "121  1.0  1.0    2.0  3   42    0.0\n",
            "122  1.0  1.0    2.0  3   63    0.0\n",
            "123  1.0  1.0    2.0  3   84    0.0\n",
            "124  1.0  1.0    2.0  3  105    0.0\n",
            "125  1.0  1.0    2.0  3  126    0.0\n",
            "126  1.0  1.0    2.0  3  147    0.0\n",
            "127  1.0  1.0    2.0  3  168    0.0\n",
            "128  1.0  1.0    2.0  3  189    0.0\n",
            "129  1.0  1.0    2.0  3  210    0.0\n",
            "130  1.0  1.0    2.0  3  231    0.0\n",
            "131  1.0  1.0    2.0  3  252    0.0\n",
            "132  1.0  1.0    2.0  4   21    0.0\n",
            "133  1.0  1.0    2.0  4   42    0.0\n",
            "134  1.0  1.0    2.0  4   63    0.0\n",
            "135  1.0  1.0    2.0  4   84    0.0\n",
            "136  1.0  1.0    2.0  4  105    0.0\n",
            "137  1.0  1.0    2.0  4  126    0.0\n",
            "138  1.0  1.0    2.0  4  147    0.0\n",
            "139  1.0  1.0    2.0  4  168    0.0\n",
            "140  1.0  1.0    2.0  4  189    0.0\n",
            "141  1.0  1.0    2.0  4  210    0.0\n",
            "142  1.0  1.0    2.0  4  231    0.0\n",
            "143  1.0  1.0    2.0  4  252    0.0\n",
            "144  1.0  1.0    2.0  5   21    0.0\n",
            "145  1.0  1.0    2.0  5   42    0.0\n",
            "146  1.0  1.0    2.0  5   63    0.0\n",
            "147  1.0  1.0    2.0  5   84    0.0\n",
            "148  1.0  1.0    2.0  5  105    0.0\n",
            "149  1.0  1.0    2.0  5  126    0.0\n",
            "150  1.0  1.0    2.0  5  147    0.0\n",
            "151  1.0  1.0    2.0  5  168    0.0\n",
            "152  1.0  1.0    2.0  5  189    0.0\n",
            "153  1.0  1.0    2.0  5  210    0.0\n",
            "154  1.0  1.0    2.0  5  231    0.0\n",
            "155  1.0  1.0    2.0  5  252    0.0\n",
            "156  1.0  1.0    2.0  6   21    0.0\n",
            "157  1.0  1.0    2.0  6   42    0.0\n",
            "158  1.0  1.0    2.0  6   63    0.0\n",
            "159  1.0  1.0    2.0  6   84    0.0\n",
            "160  1.0  1.0    2.0  6  105    0.0\n",
            "161  1.0  1.0    2.0  6  126    0.0\n",
            "162  1.0  1.0    2.0  6  147    0.0\n",
            "163  1.0  1.0    2.0  6  168    0.0\n",
            "164  1.0  1.0    2.0  6  189    0.0\n",
            "165  1.0  1.0    2.0  6  210    0.0\n",
            "166  1.0  1.0    2.0  6  231    0.0\n",
            "167  1.0  1.0    2.0  6  252    0.0\n",
            "168  1.0  1.0    3.0  0   21    0.0\n",
            "169  1.0  1.0    3.0  0   42    0.0\n",
            "170  1.0  1.0    3.0  0   63    0.0\n",
            "171  1.0  1.0    3.0  0   84    0.0\n",
            "172  1.0  1.0    3.0  0  105    0.0\n",
            "173  1.0  1.0    3.0  0  126    0.0\n",
            "174  1.0  1.0    3.0  0  147    0.0\n",
            "175  1.0  1.0    3.0  0  168    0.0\n",
            "176  1.0  1.0    3.0  0  189    0.0\n",
            "177  1.0  1.0    3.0  0  210    0.0\n",
            "178  1.0  1.0    3.0  0  231    0.0\n",
            "179  1.0  1.0    3.0  0  252    0.0\n",
            "180  1.0  1.0    3.0  1   21    0.0\n",
            "181  1.0  1.0    3.0  1   42    0.0\n",
            "182  1.0  1.0    3.0  1   63    0.0\n",
            "183  1.0  1.0    3.0  1   84    0.0\n",
            "184  1.0  1.0    3.0  1  105    0.0\n",
            "185  1.0  1.0    3.0  1  126    0.0\n",
            "186  1.0  1.0    3.0  1  147    0.0\n",
            "187  1.0  1.0    3.0  1  168    0.0\n",
            "188  1.0  1.0    3.0  1  189    0.0\n",
            "189  1.0  1.0    3.0  1  210    0.0\n",
            "190  1.0  1.0    3.0  1  231    0.0\n",
            "191  1.0  1.0    3.0  1  252    0.0\n",
            "192  1.0  1.0    3.0  2   21    0.0\n",
            "193  1.0  1.0    3.0  2   42    0.0\n",
            "194  1.0  1.0    3.0  2   63    0.0\n",
            "195  1.0  1.0    3.0  2   84    0.0\n",
            "196  1.0  1.0    3.0  2  105    0.0\n",
            "197  1.0  1.0    3.0  2  126    0.0\n",
            "198  1.0  1.0    3.0  2  147    0.0\n",
            "199  1.0  1.0    3.0  2  168    0.0\n",
            "200  1.0  1.0    3.0  2  189    0.0\n",
            "201  1.0  1.0    3.0  2  210    0.0\n",
            "202  1.0  1.0    3.0  2  231    0.0\n",
            "203  1.0  1.0    3.0  2  252    0.0\n",
            "204  1.0  1.0    3.0  3   21    0.0\n",
            "205  1.0  1.0    3.0  3   42    0.0\n",
            "206  1.0  1.0    3.0  3   63    0.0\n",
            "207  1.0  1.0    3.0  3   84    0.0\n",
            "208  1.0  1.0    3.0  3  105    0.0\n",
            "209  1.0  1.0    3.0  3  126    0.0\n",
            "210  1.0  1.0    3.0  3  147    0.0\n",
            "211  1.0  1.0    3.0  3  168    0.0\n",
            "212  1.0  1.0    3.0  3  189    0.0\n",
            "213  1.0  1.0    3.0  3  210    0.0\n",
            "214  1.0  1.0    3.0  3  231    0.0\n",
            "215  1.0  1.0    3.0  3  252    0.0\n",
            "216  1.0  1.0    3.0  4   21    0.0\n",
            "217  1.0  1.0    3.0  4   42    0.0\n",
            "218  1.0  1.0    3.0  4   63    0.0\n",
            "219  1.0  1.0    3.0  4   84    0.0\n",
            "220  1.0  1.0    3.0  4  105    0.0\n",
            "221  1.0  1.0    3.0  4  126    0.0\n",
            "222  1.0  1.0    3.0  4  147    0.0\n",
            "223  1.0  1.0    3.0  4  168    0.0\n",
            "224  1.0  1.0    3.0  4  189    0.0\n",
            "225  1.0  1.0    3.0  4  210    0.0\n",
            "226  1.0  1.0    3.0  4  231    0.0\n",
            "227  1.0  1.0    3.0  4  252    0.0\n",
            "228  1.0  1.0    3.0  5   21    0.0\n",
            "229  1.0  1.0    3.0  5   42    0.0\n",
            "230  1.0  1.0    3.0  5   63    0.0\n",
            "231  1.0  1.0    3.0  5   84    0.0\n",
            "232  1.0  1.0    3.0  5  105    0.0\n",
            "233  1.0  1.0    3.0  5  126    0.0\n",
            "234  1.0  1.0    3.0  5  147    0.0\n",
            "235  1.0  1.0    3.0  5  168    0.0\n",
            "236  1.0  1.0    3.0  5  189    0.0\n",
            "237  1.0  1.0    3.0  5  210    0.0\n",
            "238  1.0  1.0    3.0  5  231    0.0\n",
            "239  1.0  1.0    3.0  5  252    0.0\n",
            "240  1.0  1.0    3.0  6   21    0.0\n",
            "241  1.0  1.0    3.0  6   42    0.0\n",
            "242  1.0  1.0    3.0  6   63    0.0\n",
            "243  1.0  1.0    3.0  6   84    0.0\n",
            "244  1.0  1.0    3.0  6  105    0.0\n",
            "245  1.0  1.0    3.0  6  126    0.0\n",
            "246  1.0  1.0    3.0  6  147    0.0\n",
            "247  1.0  1.0    3.0  6  168    0.0\n",
            "248  1.0  1.0    3.0  6  189    0.0\n",
            "249  1.0  1.0    3.0  6  210    0.0\n",
            "250  1.0  1.0    3.0  6  231    0.0\n",
            "251  1.0  1.0    3.0  6  252    0.0\n",
            "252  1.0  1.0    4.0  0   21    0.0\n",
            "253  1.0  1.0    4.0  0   42    0.0\n",
            "254  1.0  1.0    4.0  0   63    0.0\n",
            "255  1.0  1.0    4.0  0   84    0.0\n",
            "256  1.0  1.0    4.0  0  105    0.0\n",
            "257  1.0  1.0    4.0  0  126    0.0\n",
            "258  1.0  1.0    4.0  0  147    0.0\n",
            "259  1.0  1.0    4.0  0  168    0.0\n",
            "260  1.0  1.0    4.0  0  189    0.0\n",
            "261  1.0  1.0    4.0  0  210    0.0\n",
            "262  1.0  1.0    4.0  0  231    0.0\n",
            "263  1.0  1.0    4.0  0  252    0.0\n",
            "264  1.0  1.0    4.0  1   21    0.0\n",
            "265  1.0  1.0    4.0  1   42    0.0\n",
            "266  1.0  1.0    4.0  1   63    0.0\n",
            "267  1.0  1.0    4.0  1   84    0.0\n",
            "268  1.0  1.0    4.0  1  105    0.0\n",
            "269  1.0  1.0    4.0  1  126    0.0\n",
            "270  1.0  1.0    4.0  1  147    0.0\n",
            "271  1.0  1.0    4.0  1  168    0.0\n",
            "272  1.0  1.0    4.0  1  189    0.0\n",
            "273  1.0  1.0    4.0  1  210    0.0\n",
            "274  1.0  1.0    4.0  1  231    0.0\n",
            "275  1.0  1.0    4.0  1  252    0.0\n",
            "276  1.0  1.0    4.0  2   21    0.0\n",
            "277  1.0  1.0    4.0  2   42    0.0\n",
            "278  1.0  1.0    4.0  2   63    0.0\n",
            "279  1.0  1.0    4.0  2   84    0.0\n",
            "280  1.0  1.0    4.0  2  105    0.0\n",
            "281  1.0  1.0    4.0  2  126    0.0\n",
            "282  1.0  1.0    4.0  2  147    0.0\n",
            "283  1.0  1.0    4.0  2  168    0.0\n",
            "284  1.0  1.0    4.0  2  189    0.0\n",
            "285  1.0  1.0    4.0  2  210    0.0\n",
            "286  1.0  1.0    4.0  2  231    0.0\n",
            "287  1.0  1.0    4.0  2  252    0.0\n",
            "288  1.0  1.0    4.0  3   21    0.0\n",
            "289  1.0  1.0    4.0  3   42    0.0\n",
            "290  1.0  1.0    4.0  3   63    0.0\n",
            "291  1.0  1.0    4.0  3   84    0.0\n",
            "292  1.0  1.0    4.0  3  105    0.0\n",
            "293  1.0  1.0    4.0  3  126    0.0\n",
            "294  1.0  1.0    4.0  3  147    0.0\n",
            "295  1.0  1.0    4.0  3  168    0.0\n",
            "296  1.0  1.0    4.0  3  189    0.0\n",
            "297  1.0  1.0    4.0  3  210    0.0\n",
            "298  1.0  1.0    4.0  3  231    0.0\n",
            "299  1.0  1.0    4.0  3  252    0.0\n",
            "300  1.0  1.0    4.0  4   21    0.0\n",
            "301  1.0  1.0    4.0  4   42    0.0\n",
            "302  1.0  1.0    4.0  4   63    0.0\n",
            "303  1.0  1.0    4.0  4   84    0.0\n",
            "304  1.0  1.0    4.0  4  105    0.0\n",
            "305  1.0  1.0    4.0  4  126    0.0\n",
            "306  1.0  1.0    4.0  4  147    0.0\n",
            "307  1.0  1.0    4.0  4  168    0.0\n",
            "308  1.0  1.0    4.0  4  189    0.0\n",
            "309  1.0  1.0    4.0  4  210    0.0\n",
            "310  1.0  1.0    4.0  4  231    0.0\n",
            "311  1.0  1.0    4.0  4  252    0.0\n",
            "312  1.0  1.0    4.0  5   21    0.0\n",
            "313  1.0  1.0    4.0  5   42    0.0\n",
            "314  1.0  1.0    4.0  5   63    0.0\n",
            "315  1.0  1.0    4.0  5   84    0.0\n",
            "316  1.0  1.0    4.0  5  105    0.0\n",
            "317  1.0  1.0    4.0  5  126    0.0\n",
            "318  1.0  1.0    4.0  5  147    0.0\n",
            "319  1.0  1.0    4.0  5  168    0.0\n",
            "320  1.0  1.0    4.0  5  189    0.0\n",
            "321  1.0  1.0    4.0  5  210    0.0\n",
            "322  1.0  1.0    4.0  5  231    0.0\n",
            "323  1.0  1.0    4.0  5  252    0.0\n",
            "324  1.0  1.0    4.0  6   21    0.0\n",
            "325  1.0  1.0    4.0  6   42    0.0\n",
            "326  1.0  1.0    4.0  6   63    0.0\n",
            "327  1.0  1.0    4.0  6   84    0.0\n",
            "328  1.0  1.0    4.0  6  105    0.0\n",
            "329  1.0  1.0    4.0  6  126    0.0\n",
            "330  1.0  1.0    4.0  6  147    0.0\n",
            "331  1.0  1.0    4.0  6  168    0.0\n",
            "332  1.0  1.0    4.0  6  189    0.0\n",
            "333  1.0  1.0    4.0  6  210    0.0\n",
            "334  1.0  1.0    4.0  6  231    0.0\n",
            "335  1.0  1.0    4.0  6  252    0.0\n",
            "336  1.0  1.0    5.0  0   21    0.0\n",
            "337  1.0  1.0    5.0  0   42    0.0\n",
            "338  1.0  1.0    5.0  0   63    0.0\n",
            "339  1.0  1.0    5.0  0   84    0.0\n",
            "340  1.0  1.0    5.0  0  105    0.0\n",
            "341  1.0  1.0    5.0  0  126    0.0\n",
            "342  1.0  1.0    5.0  0  147    0.0\n",
            "343  1.0  1.0    5.0  0  168    0.0\n",
            "344  1.0  1.0    5.0  0  189    0.0\n",
            "345  1.0  1.0    5.0  0  210    0.0\n",
            "346  1.0  1.0    5.0  0  231    0.0\n",
            "347  1.0  1.0    5.0  0  252    0.0\n",
            "348  1.0  1.0    5.0  1   21    0.0\n",
            "349  1.0  1.0    5.0  1   42    0.0\n",
            "350  1.0  1.0    5.0  1   63    0.0\n",
            "351  1.0  1.0    5.0  1   84    0.0\n",
            "352  1.0  1.0    5.0  1  105    0.0\n",
            "353  1.0  1.0    5.0  1  126    0.0\n",
            "354  1.0  1.0    5.0  1  147    0.0\n",
            "355  1.0  1.0    5.0  1  168    0.0\n",
            "356  1.0  1.0    5.0  1  189    0.0\n",
            "357  1.0  1.0    5.0  1  210    0.0\n",
            "358  1.0  1.0    5.0  1  231    0.0\n",
            "359  1.0  1.0    5.0  1  252    0.0\n",
            "360  1.0  1.0    5.0  2   21    0.0\n",
            "361  1.0  1.0    5.0  2   42    0.0\n",
            "362  1.0  1.0    5.0  2   63    0.0\n",
            "363  1.0  1.0    5.0  2   84    0.0\n",
            "364  1.0  1.0    5.0  2  105    0.0\n",
            "365  1.0  1.0    5.0  2  126    0.0\n",
            "366  1.0  1.0    5.0  2  147    0.0\n",
            "367  1.0  1.0    5.0  2  168    0.0\n",
            "368  1.0  1.0    5.0  2  189    0.0\n",
            "369  1.0  1.0    5.0  2  210    0.0\n",
            "370  1.0  1.0    5.0  2  231    0.0\n",
            "371  1.0  1.0    5.0  2  252    0.0\n",
            "372  1.0  1.0    5.0  3   21    0.0\n",
            "373  1.0  1.0    5.0  3   42    0.0\n",
            "374  1.0  1.0    5.0  3   63    0.0\n",
            "375  1.0  1.0    5.0  3   84    0.0\n",
            "376  1.0  1.0    5.0  3  105    0.0\n",
            "377  1.0  1.0    5.0  3  126    0.0\n",
            "378  1.0  1.0    5.0  3  147    0.0\n",
            "379  1.0  1.0    5.0  3  168    0.0\n",
            "380  1.0  1.0    5.0  3  189    0.0\n",
            "381  1.0  1.0    5.0  3  210    0.0\n",
            "382  1.0  1.0    5.0  3  231    0.0\n",
            "383  1.0  1.0    5.0  3  252    0.0\n",
            "384  1.0  1.0    5.0  4   21    0.0\n",
            "385  1.0  1.0    5.0  4   42    0.0\n",
            "386  1.0  1.0    5.0  4   63    0.0\n",
            "387  1.0  1.0    5.0  4   84    0.0\n",
            "388  1.0  1.0    5.0  4  105    0.0\n",
            "389  1.0  1.0    5.0  4  126    0.0\n",
            "390  1.0  1.0    5.0  4  147    0.0\n",
            "391  1.0  1.0    5.0  4  168    0.0\n",
            "392  1.0  1.0    5.0  4  189    0.0\n",
            "393  1.0  1.0    5.0  4  210    0.0\n",
            "394  1.0  1.0    5.0  4  231    0.0\n",
            "395  1.0  1.0    5.0  4  252    0.0\n",
            "396  1.0  1.0    5.0  5   21    0.0\n",
            "397  1.0  1.0    5.0  5   42    0.0\n",
            "398  1.0  1.0    5.0  5   63    0.0\n",
            "399  1.0  1.0    5.0  5   84    0.0\n",
            "400  1.0  1.0    5.0  5  105    0.0\n",
            "401  1.0  1.0    5.0  5  126    0.0\n",
            "402  1.0  1.0    5.0  5  147    0.0\n",
            "403  1.0  1.0    5.0  5  168    0.0\n",
            "404  1.0  1.0    5.0  5  189    0.0\n",
            "405  1.0  1.0    5.0  5  210    0.0\n",
            "406  1.0  1.0    5.0  5  231    0.0\n",
            "407  1.0  1.0    5.0  5  252    0.0\n",
            "408  1.0  1.0    5.0  6   21    0.0\n",
            "409  1.0  1.0    5.0  6   42    0.0\n",
            "410  1.0  1.0    5.0  6   63    0.0\n",
            "411  1.0  1.0    5.0  6   84    0.0\n",
            "412  1.0  1.0    5.0  6  105    0.0\n",
            "413  1.0  1.0    5.0  6  126    0.0\n",
            "414  1.0  1.0    5.0  6  147    0.0\n",
            "415  1.0  1.0    5.0  6  168    0.0\n",
            "416  1.0  1.0    5.0  6  189    0.0\n",
            "417  1.0  1.0    5.0  6  210    0.0\n",
            "418  1.0  1.0    5.0  6  231    0.0\n",
            "419  1.0  1.0    5.0  6  252    0.0\n",
            "420  1.0  1.0    6.0  0   21    0.0\n",
            "421  1.0  1.0    6.0  0   42    0.0\n",
            "422  1.0  1.0    6.0  0   63    0.0\n",
            "423  1.0  1.0    6.0  0   84    0.0\n",
            "424  1.0  1.0    6.0  0  105    0.0\n",
            "425  1.0  1.0    6.0  0  126    0.0\n",
            "426  1.0  1.0    6.0  0  147    0.0\n",
            "427  1.0  1.0    6.0  0  168    0.0\n",
            "428  1.0  1.0    6.0  0  189    0.0\n",
            "429  1.0  1.0    6.0  0  210    0.0\n",
            "430  1.0  1.0    6.0  0  231    0.0\n",
            "431  1.0  1.0    6.0  0  252    0.0\n",
            "432  1.0  1.0    6.0  1   21    0.0\n",
            "433  1.0  1.0    6.0  1   42    0.0\n",
            "434  1.0  1.0    6.0  1   63    0.0\n",
            "435  1.0  1.0    6.0  1   84    0.0\n",
            "436  1.0  1.0    6.0  1  105    0.0\n",
            "437  1.0  1.0    6.0  1  126    0.0\n",
            "438  1.0  1.0    6.0  1  147    0.0\n",
            "439  1.0  1.0    6.0  1  168    0.0\n",
            "440  1.0  1.0    6.0  1  189    0.0\n",
            "441  1.0  1.0    6.0  1  210    0.0\n",
            "442  1.0  1.0    6.0  1  231    0.0\n",
            "443  1.0  1.0    6.0  1  252    0.0\n",
            "444  1.0  1.0    6.0  2   21    0.0\n",
            "445  1.0  1.0    6.0  2   42    0.0\n",
            "446  1.0  1.0    6.0  2   63    0.0\n",
            "447  1.0  1.0    6.0  2   84    0.0\n",
            "448  1.0  1.0    6.0  2  105    0.0\n",
            "449  1.0  1.0    6.0  2  126    0.0\n",
            "450  1.0  1.0    6.0  2  147    0.0\n",
            "451  1.0  1.0    6.0  2  168    0.0\n",
            "452  1.0  1.0    6.0  2  189    0.0\n",
            "453  1.0  1.0    6.0  2  210    0.0\n",
            "454  1.0  1.0    6.0  2  231    0.0\n",
            "455  1.0  1.0    6.0  2  252    0.0\n",
            "456  1.0  1.0    6.0  3   21    0.0\n",
            "457  1.0  1.0    6.0  3   42    0.0\n",
            "458  1.0  1.0    6.0  3   63    0.0\n",
            "459  1.0  1.0    6.0  3   84    0.0\n",
            "460  1.0  1.0    6.0  3  105    0.0\n",
            "461  1.0  1.0    6.0  3  126    0.0\n",
            "462  1.0  1.0    6.0  3  147    0.0\n",
            "463  1.0  1.0    6.0  3  168    0.0\n",
            "464  1.0  1.0    6.0  3  189    0.0\n",
            "465  1.0  1.0    6.0  3  210    0.0\n",
            "466  1.0  1.0    6.0  3  231    0.0\n",
            "467  1.0  1.0    6.0  3  252    0.0\n",
            "468  1.0  1.0    6.0  4   21    0.0\n",
            "469  1.0  1.0    6.0  4   42    0.0\n",
            "470  1.0  1.0    6.0  4   63    0.0\n",
            "471  1.0  1.0    6.0  4   84    0.0\n",
            "472  1.0  1.0    6.0  4  105    0.0\n",
            "473  1.0  1.0    6.0  4  126    0.0\n",
            "474  1.0  1.0    6.0  4  147    0.0\n",
            "475  1.0  1.0    6.0  4  168    0.0\n",
            "476  1.0  1.0    6.0  4  189    0.0\n",
            "477  1.0  1.0    6.0  4  210    0.0\n",
            "478  1.0  1.0    6.0  4  231    0.0\n",
            "479  1.0  1.0    6.0  4  252    0.0\n",
            "480  1.0  1.0    6.0  5   21    0.0\n",
            "481  1.0  1.0    6.0  5   42    0.0\n",
            "482  1.0  1.0    6.0  5   63    0.0\n",
            "483  1.0  1.0    6.0  5   84    0.0\n",
            "484  1.0  1.0    6.0  5  105    0.0\n",
            "485  1.0  1.0    6.0  5  126    0.0\n",
            "486  1.0  1.0    6.0  5  147    0.0\n",
            "487  1.0  1.0    6.0  5  168    0.0\n",
            "488  1.0  1.0    6.0  5  189    0.0\n",
            "489  1.0  1.0    6.0  5  210    0.0\n",
            "490  1.0  1.0    6.0  5  231    0.0\n",
            "491  1.0  1.0    6.0  5  252    0.0\n",
            "492  1.0  1.0    6.0  6   21    0.0\n",
            "493  1.0  1.0    6.0  6   42    0.0\n",
            "494  1.0  1.0    6.0  6   63    0.0\n",
            "495  1.0  1.0    6.0  6   84    0.0\n",
            "496  1.0  1.0    6.0  6  105    0.0\n",
            "497  1.0  1.0    6.0  6  126    0.0\n",
            "498  1.0  1.0    6.0  6  147    0.0\n",
            "499  1.0  1.0    6.0  6  168    0.0\n",
            "500  1.0  1.0    6.0  6  189    0.0\n",
            "501  1.0  1.0    6.0  6  210    0.0\n",
            "502  1.0  1.0    6.0  6  231    0.0\n",
            "503  1.0  1.0    6.0  6  252    0.0\n",
            "504  1.0  1.0    7.0  0   21    0.0\n",
            "505  1.0  1.0    7.0  0   42    0.0\n",
            "506  1.0  1.0    7.0  0   63    0.0\n",
            "507  1.0  1.0    7.0  0   84    0.0\n",
            "508  1.0  1.0    7.0  0  105    0.0\n",
            "509  1.0  1.0    7.0  0  126    0.0\n",
            "510  1.0  1.0    7.0  0  147    0.0\n",
            "511  1.0  1.0    7.0  0  168    0.0\n",
            "512  1.0  1.0    7.0  0  189    0.0\n",
            "513  1.0  1.0    7.0  0  210    0.0\n",
            "514  1.0  1.0    7.0  0  231    0.0\n",
            "515  1.0  1.0    7.0  0  252    0.0\n",
            "516  1.0  1.0    7.0  1   21    0.0\n",
            "517  1.0  1.0    7.0  1   42    0.0\n",
            "518  1.0  1.0    7.0  1   63    0.0\n",
            "519  1.0  1.0    7.0  1   84    0.0\n",
            "520  1.0  1.0    7.0  1  105    0.0\n",
            "521  1.0  1.0    7.0  1  126    0.0\n",
            "522  1.0  1.0    7.0  1  147    0.0\n",
            "523  1.0  1.0    7.0  1  168    0.0\n",
            "524  1.0  1.0    7.0  1  189    0.0\n",
            "525  1.0  1.0    7.0  1  210    0.0\n",
            "526  1.0  1.0    7.0  1  231    0.0\n",
            "527  1.0  1.0    7.0  1  252    0.0\n",
            "528  1.0  1.0    7.0  2   21    0.0\n",
            "529  1.0  1.0    7.0  2   42    0.0\n",
            "530  1.0  1.0    7.0  2   63    0.0\n",
            "531  1.0  1.0    7.0  2   84    0.0\n",
            "532  1.0  1.0    7.0  2  105    0.0\n",
            "533  1.0  1.0    7.0  2  126    0.0\n",
            "534  1.0  1.0    7.0  2  147    0.0\n",
            "535  1.0  1.0    7.0  2  168    0.0\n",
            "536  1.0  1.0    7.0  2  189    0.0\n",
            "537  1.0  1.0    7.0  2  210    0.0\n",
            "538  1.0  1.0    7.0  2  231    0.0\n",
            "539  1.0  1.0    7.0  2  252    0.0\n",
            "540  1.0  1.0    7.0  3   21    0.0\n",
            "541  1.0  1.0    7.0  3   42    0.0\n",
            "542  1.0  1.0    7.0  3   63    0.0\n",
            "543  1.0  1.0    7.0  3   84    0.0\n",
            "544  1.0  1.0    7.0  3  105    0.0\n",
            "545  1.0  1.0    7.0  3  126    0.0\n",
            "546  1.0  1.0    7.0  3  147    0.0\n",
            "547  1.0  1.0    7.0  3  168    0.0\n",
            "548  1.0  1.0    7.0  3  189    0.0\n",
            "549  1.0  1.0    7.0  3  210    0.0\n",
            "550  1.0  1.0    7.0  3  231    0.0\n",
            "551  1.0  1.0    7.0  3  252    0.0\n",
            "552  1.0  1.0    7.0  4   21    0.0\n",
            "553  1.0  1.0    7.0  4   42    0.0\n",
            "554  1.0  1.0    7.0  4   63    0.0\n",
            "555  1.0  1.0    7.0  4   84    0.0\n",
            "556  1.0  1.0    7.0  4  105    0.0\n",
            "557  1.0  1.0    7.0  4  126    0.0\n",
            "558  1.0  1.0    7.0  4  147    0.0\n",
            "559  1.0  1.0    7.0  4  168    0.0\n",
            "560  1.0  1.0    7.0  4  189    0.0\n",
            "561  1.0  1.0    7.0  4  210    0.0\n",
            "562  1.0  1.0    7.0  4  231    0.0\n",
            "563  1.0  1.0    7.0  4  252    0.0\n",
            "564  1.0  1.0    7.0  5   21    0.0\n",
            "565  1.0  1.0    7.0  5   42    0.0\n",
            "566  1.0  1.0    7.0  5   63    0.0\n",
            "567  1.0  1.0    7.0  5   84    0.0\n",
            "568  1.0  1.0    7.0  5  105    0.0\n",
            "569  1.0  1.0    7.0  5  126    0.0\n",
            "570  1.0  1.0    7.0  5  147    0.0\n",
            "571  1.0  1.0    7.0  5  168    0.0\n",
            "572  1.0  1.0    7.0  5  189    0.0\n",
            "573  1.0  1.0    7.0  5  210    0.0\n",
            "574  1.0  1.0    7.0  5  231    0.0\n",
            "575  1.0  1.0    7.0  5  252    0.0\n",
            "576  1.0  1.0    7.0  6   21    0.0\n",
            "577  1.0  1.0    7.0  6   42    0.0\n",
            "578  1.0  1.0    7.0  6   63    0.0\n",
            "579  1.0  1.0    7.0  6   84    0.0\n",
            "580  1.0  1.0    7.0  6  105    0.0\n",
            "581  1.0  1.0    7.0  6  126    0.0\n",
            "582  1.0  1.0    7.0  6  147    0.0\n",
            "583  1.0  1.0    7.0  6  168    0.0\n",
            "584  1.0  1.0    7.0  6  189    0.0\n",
            "585  1.0  1.0    7.0  6  210    0.0\n",
            "586  1.0  1.0    7.0  6  231    0.0\n",
            "587  1.0  1.0    7.0  6  252    0.0\n",
            "588  1.0  1.0    8.0  0   21    0.0\n",
            "589  1.0  1.0    8.0  0   42    0.0\n",
            "590  1.0  1.0    8.0  0   63    0.0\n",
            "591  1.0  1.0    8.0  0   84    0.0\n",
            "592  1.0  1.0    8.0  0  105    0.0\n",
            "593  1.0  1.0    8.0  0  126    0.0\n",
            "594  1.0  1.0    8.0  0  147    0.0\n",
            "595  1.0  1.0    8.0  0  168    0.0\n",
            "596  1.0  1.0    8.0  0  189    0.0\n",
            "597  1.0  1.0    8.0  0  210    0.0\n",
            "598  1.0  1.0    8.0  0  231    0.0\n",
            "599  1.0  1.0    8.0  0  252    0.0\n",
            "600  1.0  1.0    8.0  1   21    0.0\n",
            "601  1.0  1.0    8.0  1   42    0.0\n",
            "602  1.0  1.0    8.0  1   63    0.0\n",
            "603  1.0  1.0    8.0  1   84    0.0\n",
            "604  1.0  1.0    8.0  1  105    0.0\n",
            "605  1.0  1.0    8.0  1  126    0.0\n",
            "606  1.0  1.0    8.0  1  147    0.0\n",
            "607  1.0  1.0    8.0  1  168    0.0\n",
            "608  1.0  1.0    8.0  1  189    0.0\n",
            "609  1.0  1.0    8.0  1  210    0.0\n",
            "610  1.0  1.0    8.0  1  231    0.0\n",
            "611  1.0  1.0    8.0  1  252    0.0\n",
            "612  1.0  1.0    8.0  2   21    0.0\n",
            "613  1.0  1.0    8.0  2   42    0.0\n",
            "614  1.0  1.0    8.0  2   63    0.0\n",
            "615  1.0  1.0    8.0  2   84    0.0\n",
            "616  1.0  1.0    8.0  2  105    0.0\n",
            "617  1.0  1.0    8.0  2  126    0.0\n",
            "618  1.0  1.0    8.0  2  147    0.0\n",
            "619  1.0  1.0    8.0  2  168    0.0\n",
            "620  1.0  1.0    8.0  2  189    0.0\n",
            "621  1.0  1.0    8.0  2  210    0.0\n",
            "622  1.0  1.0    8.0  2  231    0.0\n",
            "623  1.0  1.0    8.0  2  252    0.0\n",
            "624  1.0  1.0    8.0  3   21    0.0\n",
            "625  1.0  1.0    8.0  3   42    0.0\n",
            "626  1.0  1.0    8.0  3   63    0.0\n",
            "627  1.0  1.0    8.0  3   84    0.0\n",
            "628  1.0  1.0    8.0  3  105    0.0\n",
            "629  1.0  1.0    8.0  3  126    0.0\n",
            "630  1.0  1.0    8.0  3  147    0.0\n",
            "631  1.0  1.0    8.0  3  168    0.0\n",
            "632  1.0  1.0    8.0  3  189    0.0\n",
            "633  1.0  1.0    8.0  3  210    0.0\n",
            "634  1.0  1.0    8.0  3  231    0.0\n",
            "635  1.0  1.0    8.0  3  252    0.0\n",
            "636  1.0  1.0    8.0  4   21    0.0\n",
            "637  1.0  1.0    8.0  4   42    0.0\n",
            "638  1.0  1.0    8.0  4   63    0.0\n",
            "639  1.0  1.0    8.0  4   84    0.0\n",
            "640  1.0  1.0    8.0  4  105    0.0\n",
            "641  1.0  1.0    8.0  4  126    0.0\n",
            "642  1.0  1.0    8.0  4  147    0.0\n",
            "643  1.0  1.0    8.0  4  168    0.0\n",
            "644  1.0  1.0    8.0  4  189    0.0\n",
            "645  1.0  1.0    8.0  4  210    0.0\n",
            "646  1.0  1.0    8.0  4  231    0.0\n",
            "647  1.0  1.0    8.0  4  252    0.0\n",
            "648  1.0  1.0    8.0  5   21    0.0\n",
            "649  1.0  1.0    8.0  5   42    0.0\n",
            "650  1.0  1.0    8.0  5   63    0.0\n",
            "651  1.0  1.0    8.0  5   84    0.0\n",
            "652  1.0  1.0    8.0  5  105    0.0\n",
            "653  1.0  1.0    8.0  5  126    0.0\n",
            "654  1.0  1.0    8.0  5  147    0.0\n",
            "655  1.0  1.0    8.0  5  168    0.0\n",
            "656  1.0  1.0    8.0  5  189    0.0\n",
            "657  1.0  1.0    8.0  5  210    0.0\n",
            "658  1.0  1.0    8.0  5  231    0.0\n",
            "659  1.0  1.0    8.0  5  252    0.0\n",
            "660  1.0  1.0    8.0  6   21    0.0\n",
            "661  1.0  1.0    8.0  6   42    0.0\n",
            "662  1.0  1.0    8.0  6   63    0.0\n",
            "663  1.0  1.0    8.0  6   84    0.0\n",
            "664  1.0  1.0    8.0  6  105    0.0\n",
            "665  1.0  1.0    8.0  6  126    0.0\n",
            "666  1.0  1.0    8.0  6  147    0.0\n",
            "667  1.0  1.0    8.0  6  168    0.0\n",
            "668  1.0  1.0    8.0  6  189    0.0\n",
            "669  1.0  1.0    8.0  6  210    0.0\n",
            "670  1.0  1.0    8.0  6  231    0.0\n",
            "671  1.0  1.0    8.0  6  252    0.0\n",
            "672  1.0  1.0    9.0  0   21    0.0\n",
            "673  1.0  1.0    9.0  0   42    0.0\n",
            "674  1.0  1.0    9.0  0   63    0.0\n",
            "675  1.0  1.0    9.0  0   84    0.0\n",
            "676  1.0  1.0    9.0  0  105    0.0\n",
            "677  1.0  1.0    9.0  0  126    0.0\n",
            "678  1.0  1.0    9.0  0  147    0.0\n",
            "679  1.0  1.0    9.0  0  168    0.0\n",
            "680  1.0  1.0    9.0  0  189    0.0\n",
            "681  1.0  1.0    9.0  0  210    0.0\n",
            "682  1.0  1.0    9.0  0  231    0.0\n",
            "683  1.0  1.0    9.0  0  252    0.0\n",
            "684  1.0  1.0    9.0  1   21    0.0\n",
            "685  1.0  1.0    9.0  1   42    0.0\n",
            "686  1.0  1.0    9.0  1   63    0.0\n",
            "687  1.0  1.0    9.0  1   84    0.0\n",
            "688  1.0  1.0    9.0  1  105    0.0\n",
            "689  1.0  1.0    9.0  1  126    0.0\n",
            "690  1.0  1.0    9.0  1  147    0.0\n",
            "691  1.0  1.0    9.0  1  168    0.0\n",
            "692  1.0  1.0    9.0  1  189    0.0\n",
            "693  1.0  1.0    9.0  1  210    0.0\n",
            "694  1.0  1.0    9.0  1  231    0.0\n",
            "695  1.0  1.0    9.0  1  252    0.0\n",
            "696  1.0  1.0    9.0  2   21    0.0\n",
            "697  1.0  1.0    9.0  2   42    0.0\n",
            "698  1.0  1.0    9.0  2   63    0.0\n",
            "699  1.0  1.0    9.0  2   84    0.0\n",
            "700  1.0  1.0    9.0  2  105    0.0\n",
            "701  1.0  1.0    9.0  2  126    0.0\n",
            "702  1.0  1.0    9.0  2  147    0.0\n",
            "703  1.0  1.0    9.0  2  168    0.0\n",
            "704  1.0  1.0    9.0  2  189    0.0\n",
            "705  1.0  1.0    9.0  2  210    0.0\n",
            "706  1.0  1.0    9.0  2  231    0.0\n",
            "707  1.0  1.0    9.0  2  252    0.0\n",
            "708  1.0  1.0    9.0  3   21    0.0\n",
            "709  1.0  1.0    9.0  3   42    0.0\n",
            "710  1.0  1.0    9.0  3   63    0.0\n",
            "711  1.0  1.0    9.0  3   84    0.0\n",
            "712  1.0  1.0    9.0  3  105    0.0\n",
            "713  1.0  1.0    9.0  3  126    0.0\n",
            "714  1.0  1.0    9.0  3  147    0.0\n",
            "715  1.0  1.0    9.0  3  168    0.0\n",
            "716  1.0  1.0    9.0  3  189    0.0\n",
            "717  1.0  1.0    9.0  3  210    0.0\n",
            "718  1.0  1.0    9.0  3  231    0.0\n",
            "719  1.0  1.0    9.0  3  252    0.0\n",
            "720  1.0  1.0    9.0  4   21    0.0\n",
            "721  1.0  1.0    9.0  4   42    0.0\n",
            "722  1.0  1.0    9.0  4   63    0.0\n",
            "723  1.0  1.0    9.0  4   84    0.0\n",
            "724  1.0  1.0    9.0  4  105    0.0\n",
            "725  1.0  1.0    9.0  4  126    0.0\n",
            "726  1.0  1.0    9.0  4  147    0.0\n",
            "727  1.0  1.0    9.0  4  168    0.0\n",
            "728  1.0  1.0    9.0  4  189    0.0\n",
            "729  1.0  1.0    9.0  4  210    0.0\n",
            "730  1.0  1.0    9.0  4  231    0.0\n",
            "731  1.0  1.0    9.0  4  252    0.0\n",
            "732  1.0  1.0    9.0  5   21    0.0\n",
            "733  1.0  1.0    9.0  5   42    0.0\n",
            "734  1.0  1.0    9.0  5   63    0.0\n",
            "735  1.0  1.0    9.0  5   84    0.0\n",
            "736  1.0  1.0    9.0  5  105    0.0\n",
            "737  1.0  1.0    9.0  5  126    0.0\n",
            "738  1.0  1.0    9.0  5  147    0.0\n",
            "739  1.0  1.0    9.0  5  168    0.0\n",
            "740  1.0  1.0    9.0  5  189    0.0\n",
            "741  1.0  1.0    9.0  5  210    0.0\n",
            "742  1.0  1.0    9.0  5  231    0.0\n",
            "743  1.0  1.0    9.0  5  252    0.0\n",
            "744  1.0  1.0    9.0  6   21    0.0\n",
            "745  1.0  1.0    9.0  6   42    0.0\n",
            "746  1.0  1.0    9.0  6   63    0.0\n",
            "747  1.0  1.0    9.0  6   84    0.0\n",
            "748  1.0  1.0    9.0  6  105    0.0\n",
            "749  1.0  1.0    9.0  6  126    0.0\n",
            "750  1.0  1.0    9.0  6  147    0.0\n",
            "751  1.0  1.0    9.0  6  168    0.0\n",
            "752  1.0  1.0    9.0  6  189    0.0\n",
            "753  1.0  1.0    9.0  6  210    0.0\n",
            "754  1.0  1.0    9.0  6  231    0.0\n",
            "755  1.0  1.0    9.0  6  252    0.0\n",
            "756  1.0  1.0   10.0  0   21    0.0\n",
            "757  1.0  1.0   10.0  0   42    0.0\n",
            "758  1.0  1.0   10.0  0   63    0.0\n",
            "759  1.0  1.0   10.0  0   84    0.0\n",
            "760  1.0  1.0   10.0  0  105    0.0\n",
            "761  1.0  1.0   10.0  0  126    0.0\n",
            "762  1.0  1.0   10.0  0  147    0.0\n",
            "763  1.0  1.0   10.0  0  168    0.0\n",
            "764  1.0  1.0   10.0  0  189    0.0\n",
            "765  1.0  1.0   10.0  0  210    0.0\n",
            "766  1.0  1.0   10.0  0  231    0.0\n",
            "767  1.0  1.0   10.0  0  252    0.0\n",
            "768  1.0  1.0   10.0  1   21    0.0\n",
            "769  1.0  1.0   10.0  1   42    0.0\n",
            "770  1.0  1.0   10.0  1   63    0.0\n",
            "771  1.0  1.0   10.0  1   84    0.0\n",
            "772  1.0  1.0   10.0  1  105    0.0\n",
            "773  1.0  1.0   10.0  1  126    0.0\n",
            "774  1.0  1.0   10.0  1  147    0.0\n",
            "775  1.0  1.0   10.0  1  168    0.0\n",
            "776  1.0  1.0   10.0  1  189    0.0\n",
            "777  1.0  1.0   10.0  1  210    0.0\n",
            "778  1.0  1.0   10.0  1  231    0.0\n",
            "779  1.0  1.0   10.0  1  252    0.0\n",
            "780  1.0  1.0   10.0  2   21    0.0\n",
            "781  1.0  1.0   10.0  2   42    0.0\n",
            "782  1.0  1.0   10.0  2   63    0.0\n",
            "783  1.0  1.0   10.0  2   84    0.0\n",
            "784  1.0  1.0   10.0  2  105    0.0\n",
            "785  1.0  1.0   10.0  2  126    0.0\n",
            "786  1.0  1.0   10.0  2  147    0.0\n",
            "787  1.0  1.0   10.0  2  168    0.0\n",
            "788  1.0  1.0   10.0  2  189    0.0\n",
            "789  1.0  1.0   10.0  2  210    0.0\n",
            "790  1.0  1.0   10.0  2  231    0.0\n",
            "791  1.0  1.0   10.0  2  252    0.0\n",
            "792  1.0  1.0   10.0  3   21    0.0\n",
            "793  1.0  1.0   10.0  3   42    0.0\n",
            "794  1.0  1.0   10.0  3   63    0.0\n",
            "795  1.0  1.0   10.0  3   84    0.0\n",
            "796  1.0  1.0   10.0  3  105    0.0\n",
            "797  1.0  1.0   10.0  3  126    0.0\n",
            "798  1.0  1.0   10.0  3  147    0.0\n",
            "799  1.0  1.0   10.0  3  168    0.0\n",
            "800  1.0  1.0   10.0  3  189    0.0\n",
            "801  1.0  1.0   10.0  3  210    0.0\n",
            "802  1.0  1.0   10.0  3  231    0.0\n",
            "803  1.0  1.0   10.0  3  252    0.0\n",
            "804  1.0  1.0   10.0  4   21    0.0\n",
            "805  1.0  1.0   10.0  4   42    0.0\n",
            "806  1.0  1.0   10.0  4   63    0.0\n",
            "807  1.0  1.0   10.0  4   84    0.0\n",
            "808  1.0  1.0   10.0  4  105    0.0\n",
            "809  1.0  1.0   10.0  4  126    0.0\n",
            "810  1.0  1.0   10.0  4  147    0.0\n",
            "811  1.0  1.0   10.0  4  168    0.0\n",
            "812  1.0  1.0   10.0  4  189    0.0\n",
            "813  1.0  1.0   10.0  4  210    0.0\n",
            "814  1.0  1.0   10.0  4  231    0.0\n",
            "815  1.0  1.0   10.0  4  252    0.0\n",
            "816  1.0  1.0   10.0  5   21    0.0\n",
            "817  1.0  1.0   10.0  5   42    0.0\n",
            "818  1.0  1.0   10.0  5   63    0.0\n",
            "819  1.0  1.0   10.0  5   84    0.0\n",
            "820  1.0  1.0   10.0  5  105    0.0\n",
            "821  1.0  1.0   10.0  5  126    0.0\n",
            "822  1.0  1.0   10.0  5  147    0.0\n",
            "823  1.0  1.0   10.0  5  168    0.0\n",
            "824  1.0  1.0   10.0  5  189    0.0\n",
            "825  1.0  1.0   10.0  5  210    0.0\n",
            "826  1.0  1.0   10.0  5  231    0.0\n",
            "827  1.0  1.0   10.0  5  252    0.0\n",
            "828  1.0  1.0   10.0  6   21    0.0\n",
            "829  1.0  1.0   10.0  6   42    0.0\n",
            "830  1.0  1.0   10.0  6   63    0.0\n",
            "831  1.0  1.0   10.0  6   84    0.0\n",
            "832  1.0  1.0   10.0  6  105    0.0\n",
            "833  1.0  1.0   10.0  6  126    0.0\n",
            "834  1.0  1.0   10.0  6  147    0.0\n",
            "835  1.0  1.0   10.0  6  168    0.0\n",
            "836  1.0  1.0   10.0  6  189    0.0\n",
            "837  1.0  1.0   10.0  6  210    0.0\n",
            "838  1.0  1.0   10.0  6  231    0.0\n",
            "839  1.0  1.0   10.0  6  252    0.0\n",
            "840  1.0  2.0    1.0  0   21    0.0\n",
            "841  1.0  2.0    1.0  0   42    0.0\n",
            "842  1.0  2.0    1.0  0   63    0.0\n",
            "843  1.0  2.0    1.0  0   84    0.0\n",
            "844  1.0  2.0    1.0  0  105    0.0\n",
            "845  1.0  2.0    1.0  0  126    0.0\n",
            "846  1.0  2.0    1.0  0  147    0.0\n",
            "847  1.0  2.0    1.0  0  168    0.0\n",
            "848  1.0  2.0    1.0  0  189    0.0\n",
            "849  1.0  2.0    1.0  0  210    0.0\n"
          ],
          "name": "stdout"
        }
      ]
    },
    {
      "metadata": {
        "id": "AIDCFLiw3ZqJ",
        "colab_type": "code",
        "outputId": "dbe56f56-9ffc-4e4e-c55f-d20cf0a2d6b0",
        "colab": {
          "base_uri": "https://localhost:8080/",
          "height": 52
        }
      },
      "cell_type": "code",
      "source": [
        "%%time\n",
        "optionValue=bs(s,x,r,sig,t/BUSINESS_DAYS)"
      ],
      "execution_count": 0,
      "outputs": [
        {
          "output_type": "stream",
          "text": [
            "CPU times: user 20 ms, sys: 2.17 ms, total: 22.2 ms\n",
            "Wall time: 27.4 ms\n"
          ],
          "name": "stdout"
        }
      ]
    },
    {
      "metadata": {
        "id": "6fDiAwPU3aeP",
        "colab_type": "code",
        "outputId": "47bc1e6b-76c1-4895-d09b-0a547396e7ad",
        "colab": {
          "base_uri": "https://localhost:8080/",
          "height": 34
        }
      },
      "cell_type": "code",
      "source": [
        " optionValue.size"
      ],
      "execution_count": 0,
      "outputs": [
        {
          "output_type": "execute_result",
          "data": {
            "text/plain": [
              "84000"
            ]
          },
          "metadata": {
            "tags": []
          },
          "execution_count": 157
        }
      ]
    },
    {
      "metadata": {
        "id": "b0ZNEbeT8SLK",
        "colab_type": "code",
        "outputId": "ca880836-84b3-4e5c-a1db-6f7833fa059a",
        "colab": {
          "base_uri": "https://localhost:8080/",
          "height": 167
        }
      },
      "cell_type": "code",
      "source": [
        "print(optionValue[80000:80500])"
      ],
      "execution_count": 2,
      "outputs": [
        {
          "output_type": "error",
          "ename": "NameError",
          "evalue": "ignored",
          "traceback": [
            "\u001b[0;31m---------------------------------------------------------------------------\u001b[0m",
            "\u001b[0;31mNameError\u001b[0m                                 Traceback (most recent call last)",
            "\u001b[0;32m<ipython-input-2-ca785dba09d4>\u001b[0m in \u001b[0;36m<module>\u001b[0;34m()\u001b[0m\n\u001b[0;32m----> 1\u001b[0;31m \u001b[0mprint\u001b[0m\u001b[0;34m(\u001b[0m\u001b[0moptionValue\u001b[0m\u001b[0;34m[\u001b[0m\u001b[0;36m80000\u001b[0m\u001b[0;34m:\u001b[0m\u001b[0;36m80500\u001b[0m\u001b[0;34m]\u001b[0m\u001b[0;34m)\u001b[0m\u001b[0;34m\u001b[0m\u001b[0;34m\u001b[0m\u001b[0m\n\u001b[0m",
            "\u001b[0;31mNameError\u001b[0m: name 'optionValue' is not defined"
          ]
        }
      ]
    },
    {
      "metadata": {
        "id": "tzs43hnrz_qt",
        "colab_type": "code",
        "colab": {}
      },
      "cell_type": "code",
      "source": [
        ""
      ],
      "execution_count": 0,
      "outputs": []
    },
    {
      "metadata": {
        "id": "F8lTx6HJ0ARs",
        "colab_type": "code",
        "colab": {}
      },
      "cell_type": "code",
      "source": [
        ""
      ],
      "execution_count": 0,
      "outputs": []
    },
    {
      "metadata": {
        "id": "zgT9Dt7I0A3o",
        "colab_type": "code",
        "colab": {}
      },
      "cell_type": "code",
      "source": [
        "  "
      ],
      "execution_count": 0,
      "outputs": []
    },
    {
      "metadata": {
        "id": "r_9O11O90Bb1",
        "colab_type": "code",
        "colab": {}
      },
      "cell_type": "code",
      "source": [
        ""
      ],
      "execution_count": 0,
      "outputs": []
    },
    {
      "metadata": {
        "id": "Gozo1T89snD5",
        "colab_type": "code",
        "outputId": "48ad7c1b-6aac-4a50-91ca-5019a23c1502",
        "colab": {
          "base_uri": "https://localhost:8080/",
          "height": 167
        }
      },
      "cell_type": "code",
      "source": [
        "  "
      ],
      "execution_count": 0,
      "outputs": [
        {
          "output_type": "error",
          "ename": "NameError",
          "evalue": "ignored",
          "traceback": [
            "\u001b[0;31m---------------------------------------------------------------------------\u001b[0m",
            "\u001b[0;31mNameError\u001b[0m                                 Traceback (most recent call last)",
            "\u001b[0;32m<ipython-input-153-44a1358ac6ef>\u001b[0m in \u001b[0;36m<module>\u001b[0;34m()\u001b[0m\n\u001b[0;32m----> 1\u001b[0;31m \u001b[0moptionDF\u001b[0m\u001b[0;34m\u001b[0m\u001b[0;34m\u001b[0m\u001b[0m\n\u001b[0m",
            "\u001b[0;31mNameError\u001b[0m: name 'optionDF' is not defined"
          ]
        }
      ]
    },
    {
      "metadata": {
        "id": "BpFG8yQAz0j-",
        "colab_type": "code",
        "colab": {}
      },
      "cell_type": "code",
      "source": [
        ""
      ],
      "execution_count": 0,
      "outputs": []
    },
    {
      "metadata": {
        "id": "U59jtpKsuD2s",
        "colab_type": "code",
        "colab": {}
      },
      "cell_type": "code",
      "source": [
        ""
      ],
      "execution_count": 0,
      "outputs": []
    },
    {
      "metadata": {
        "id": "ioGqBXPhuIOf",
        "colab_type": "code",
        "outputId": "ec1e8ea6-a4a3-49dc-9d80-2c39d9da3ebc",
        "colab": {
          "base_uri": "https://localhost:8080/",
          "height": 199
        }
      },
      "cell_type": "code",
      "source": [
        "optionDF3.tail()"
      ],
      "execution_count": 0,
      "outputs": [
        {
          "output_type": "execute_result",
          "data": {
            "text/html": [
              "<div>\n",
              "<style scoped>\n",
              "    .dataframe tbody tr th:only-of-type {\n",
              "        vertical-align: middle;\n",
              "    }\n",
              "\n",
              "    .dataframe tbody tr th {\n",
              "        vertical-align: top;\n",
              "    }\n",
              "\n",
              "    .dataframe thead th {\n",
              "        text-align: right;\n",
              "    }\n",
              "</style>\n",
              "<table border=\"1\" class=\"dataframe\">\n",
              "  <thead>\n",
              "    <tr style=\"text-align: right;\">\n",
              "      <th></th>\n",
              "      <th>S</th>\n",
              "      <th>X</th>\n",
              "      <th>Sigma</th>\n",
              "      <th>R</th>\n",
              "      <th>T</th>\n",
              "      <th>Value</th>\n",
              "    </tr>\n",
              "  </thead>\n",
              "  <tbody>\n",
              "    <tr>\n",
              "      <th>83995</th>\n",
              "      <td>10.0</td>\n",
              "      <td>10.0</td>\n",
              "      <td>10.0</td>\n",
              "      <td>6</td>\n",
              "      <td>168</td>\n",
              "      <td>0.0</td>\n",
              "    </tr>\n",
              "    <tr>\n",
              "      <th>83996</th>\n",
              "      <td>10.0</td>\n",
              "      <td>10.0</td>\n",
              "      <td>10.0</td>\n",
              "      <td>6</td>\n",
              "      <td>189</td>\n",
              "      <td>0.0</td>\n",
              "    </tr>\n",
              "    <tr>\n",
              "      <th>83997</th>\n",
              "      <td>10.0</td>\n",
              "      <td>10.0</td>\n",
              "      <td>10.0</td>\n",
              "      <td>6</td>\n",
              "      <td>210</td>\n",
              "      <td>0.0</td>\n",
              "    </tr>\n",
              "    <tr>\n",
              "      <th>83998</th>\n",
              "      <td>10.0</td>\n",
              "      <td>10.0</td>\n",
              "      <td>10.0</td>\n",
              "      <td>6</td>\n",
              "      <td>231</td>\n",
              "      <td>0.0</td>\n",
              "    </tr>\n",
              "    <tr>\n",
              "      <th>83999</th>\n",
              "      <td>10.0</td>\n",
              "      <td>10.0</td>\n",
              "      <td>10.0</td>\n",
              "      <td>6</td>\n",
              "      <td>252</td>\n",
              "      <td>0.0</td>\n",
              "    </tr>\n",
              "  </tbody>\n",
              "</table>\n",
              "</div>"
            ],
            "text/plain": [
              "          S     X  Sigma  R    T  Value\n",
              "83995  10.0  10.0   10.0  6  168    0.0\n",
              "83996  10.0  10.0   10.0  6  189    0.0\n",
              "83997  10.0  10.0   10.0  6  210    0.0\n",
              "83998  10.0  10.0   10.0  6  231    0.0\n",
              "83999  10.0  10.0   10.0  6  252    0.0"
            ]
          },
          "metadata": {
            "tags": []
          },
          "execution_count": 163
        }
      ]
    },
    {
      "metadata": {
        "id": "-SVEY-2_WM1g",
        "colab_type": "code",
        "colab": {}
      },
      "cell_type": "code",
      "source": [
        "f=open('optionDF3.csv', 'w')"
      ],
      "execution_count": 0,
      "outputs": []
    },
    {
      "metadata": {
        "id": "c14Q15afXEkm",
        "colab_type": "code",
        "colab": {}
      },
      "cell_type": "code",
      "source": [
        "optionDF3.to_csv('optionDF3.csv')"
      ],
      "execution_count": 0,
      "outputs": []
    },
    {
      "metadata": {
        "id": "9zMF1E5-XhBf",
        "colab_type": "code",
        "outputId": "7612d134-2dea-49de-d617-be9050b89af7",
        "colab": {
          "base_uri": "https://localhost:8080/",
          "height": 34
        }
      },
      "cell_type": "code",
      "source": [
        "!pwd"
      ],
      "execution_count": 0,
      "outputs": [
        {
          "output_type": "stream",
          "text": [
            "/content\n"
          ],
          "name": "stdout"
        }
      ]
    },
    {
      "metadata": {
        "id": "30F2NLA9Yp1O",
        "colab_type": "code",
        "outputId": "119cc51e-97d3-442a-cd01-19971ba9579f",
        "colab": {
          "base_uri": "https://localhost:8080/",
          "height": 140
        }
      },
      "cell_type": "code",
      "source": [
        "!ls -altr"
      ],
      "execution_count": 0,
      "outputs": [
        {
          "output_type": "stream",
          "text": [
            "total 2300\n",
            "drwxr-xr-x 1 root root    4096 Dec 18 20:29 .config\n",
            "drwxr-xr-x 1 root root    4096 Dec 18 20:29 sample_data\n",
            "drwxr-xr-x 1 root root    4096 Dec 26 21:50 ..\n",
            "-rw-r--r-- 1 root root       0 Dec 27 01:01 optionDF.csv\n",
            "drwxr-xr-x 1 root root    4096 Dec 27 01:01 .\n",
            "-rw-r--r-- 1 root root 2338111 Dec 27 01:01 optionDF3.csv\n"
          ],
          "name": "stdout"
        }
      ]
    },
    {
      "metadata": {
        "id": "6QVm382MYrqt",
        "colab_type": "code",
        "colab": {}
      },
      "cell_type": "code",
      "source": [
        ""
      ],
      "execution_count": 0,
      "outputs": []
    },
    {
      "metadata": {
        "id": "GW67gBwqx9As",
        "colab_type": "code",
        "colab": {}
      },
      "cell_type": "code",
      "source": [
        ""
      ],
      "execution_count": 0,
      "outputs": []
    },
    {
      "metadata": {
        "id": "kXz1ZaaD0g8E",
        "colab_type": "code",
        "colab": {}
      },
      "cell_type": "code",
      "source": [
        ""
      ],
      "execution_count": 0,
      "outputs": []
    },
    {
      "metadata": {
        "id": "MBj4fGuQ0hlW",
        "colab_type": "code",
        "colab": {}
      },
      "cell_type": "code",
      "source": [
        ""
      ],
      "execution_count": 0,
      "outputs": []
    },
    {
      "metadata": {
        "id": "cmQznvpV0iGz",
        "colab_type": "code",
        "colab": {}
      },
      "cell_type": "code",
      "source": [
        ""
      ],
      "execution_count": 0,
      "outputs": []
    },
    {
      "metadata": {
        "id": "UIY5zM2o0ilr",
        "colab_type": "code",
        "colab": {}
      },
      "cell_type": "code",
      "source": [
        ""
      ],
      "execution_count": 0,
      "outputs": []
    },
    {
      "metadata": {
        "id": "F-87BKQT0jKg",
        "colab_type": "code",
        "colab": {}
      },
      "cell_type": "code",
      "source": [
        ""
      ],
      "execution_count": 0,
      "outputs": []
    },
    {
      "metadata": {
        "id": "AxD2NFvBsA24",
        "colab_type": "code",
        "outputId": "8cfc6a65-17bc-482b-d80c-7ec725733eb7",
        "colab": {
          "base_uri": "https://localhost:8080/",
          "height": 54
        }
      },
      "cell_type": "code",
      "source": [
        "'''\n",
        "Use the vectorised version of this function above, as this takes 16 mins with 84000 rows, but that function took only 250miliseconds\n",
        "'''\n",
        "\n",
        "'''\n",
        "%%time\n",
        "counter=0\n",
        "#print(\"S\\tX\\tR\\tSigma\\tTime\\t\\tValue\")\n",
        "for s in optionS:\n",
        "    for x in optionX:\n",
        "        for r in optionR:\n",
        "            for sig in optionSIGMA:\n",
        "                for t in optionT:\n",
        "                    optionValue[counter]=bs(S=s,K=x,R=r,Sigma=sig,T=t/BUSINESS_DAYS)\n",
        "                    #print(\"{:3.2f}\\t{:3.2f}\\t{:3.2f}\\t{:3.2f}\\t{:3f}\\t{:3.5f}\\n\".format(s,x,r,sig,t,optionValue[counter]))\n",
        "                    optionDF2.loc[counter]=(s,x,r,sig,t/BUSINESS_DAYS,optionValue[counter])\n",
        "                    counter+=1  \n",
        "'''"
      ],
      "execution_count": 1,
      "outputs": [
        {
          "output_type": "execute_result",
          "data": {
            "text/plain": [
              "'\\n%%time\\ncounter=0\\n#print(\"S\\tX\\tR\\tSigma\\tTime\\t\\tValue\")\\nfor s in optionS:\\n    for x in optionX:\\n        for r in optionR:\\n            for sig in optionSIGMA:\\n                for t in optionT:\\n                    optionValue[counter]=bs(S=s,K=x,R=r,Sigma=sig,T=t/BUSINESS_DAYS)\\n                    #print(\"{:3.2f}\\t{:3.2f}\\t{:3.2f}\\t{:3.2f}\\t{:3f}\\t{:3.5f}\\n\".format(s,x,r,sig,t,optionValue[counter]))\\n                    optionDF2.loc[counter]=(s,x,r,sig,t/BUSINESS_DAYS,optionValue[counter])\\n                    counter+=1  \\n'"
            ]
          },
          "metadata": {
            "tags": []
          },
          "execution_count": 1
        }
      ]
    },
    {
      "metadata": {
        "id": "_H-0Ayc3MFW7",
        "colab_type": "code",
        "colab": {}
      },
      "cell_type": "code",
      "source": [
        ""
      ],
      "execution_count": 0,
      "outputs": []
    }
  ]
}